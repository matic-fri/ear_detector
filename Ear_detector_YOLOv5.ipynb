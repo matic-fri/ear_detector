{
  "nbformat": 4,
  "nbformat_minor": 0,
  "metadata": {
    "colab": {
      "name": "YOLOv5.ipynb",
      "provenance": [],
      "collapsed_sections": []
    },
    "kernelspec": {
      "name": "python3",
      "display_name": "Python 3"
    },
    "language_info": {
      "name": "python"
    },
    "accelerator": "GPU"
  },
  "cells": [
    {
      "cell_type": "code",
      "execution_count": null,
      "metadata": {
        "colab": {
          "base_uri": "https://localhost:8080/"
        },
        "id": "DeTZkQECZzuw",
        "outputId": "874d7ca6-58c3-4d9b-9491-08a907d591d8"
      },
      "outputs": [
        {
          "output_type": "stream",
          "name": "stderr",
          "text": [
            "YOLOv5 🚀 v6.0-155-gdc54ed5 torch 1.10.0+cu111 CPU\n"
          ]
        },
        {
          "output_type": "stream",
          "name": "stdout",
          "text": [
            "Setup complete ✅ (2 CPUs, 12.7 GB RAM, 41.7/107.7 GB disk)\n"
          ]
        }
      ],
      "source": [
        "!git clone https://github.com/ultralytics/yolov5  # clone\n",
        "%cd yolov5\n",
        "%pip install -qr requirements.txt  # install\n",
        "\n",
        "import torch\n",
        "from yolov5 import utils\n",
        "display = utils.notebook_init()  # checks"
      ]
    },
    {
      "cell_type": "code",
      "source": [
        "from google.colab import drive\n",
        "drive.mount('/content/drive')"
      ],
      "metadata": {
        "colab": {
          "base_uri": "https://localhost:8080/"
        },
        "id": "7OZIXzu6s6vS",
        "outputId": "64fad17e-cf02-44ee-9c65-5dfbad837829"
      },
      "execution_count": null,
      "outputs": [
        {
          "output_type": "stream",
          "name": "stdout",
          "text": [
            "Drive already mounted at /content/drive; to attempt to forcibly remount, call drive.mount(\"/content/drive\", force_remount=True).\n"
          ]
        }
      ]
    },
    {
      "cell_type": "code",
      "source": [
        "from os import listdir\n",
        "from os.path import isfile, join\n",
        "import numpy as np\n",
        "\n",
        "WIDTH, HEIGHT = 480, 360\n",
        "\n",
        "def prepare_data(dir):\n",
        "  for filename in listdir('/content/drive/MyDrive/biomet/yolo/labels/' + dir + '/'):\n",
        "    f = open('/content/drive/MyDrive/biomet/yolo/labels/' + dir + '/'+filename, 'r')\n",
        "\n",
        "    labels = []\n",
        "\n",
        "    line = f.readline()\n",
        "    while line:\n",
        "      data = line.split(' ')\n",
        "      xmin = round(int(data[1]) / WIDTH, 2)\n",
        "      ymin = round(int(data[2]) / HEIGHT, 2)\n",
        "      xmax = round((int(data[3]) + int(data[1])) / WIDTH, 2)\n",
        "      ymax = round((int(data[4]) + int(data[2])) / HEIGHT, 2)\n",
        "\n",
        "      labels.append([xmin, ymin, xmax, ymax])\n",
        "\n",
        "      line = f.readline()\n",
        "\n",
        "    f.close()\n",
        "\n",
        "    f = open('/content/drive/MyDrive/biomet/yolo/labels/' + dir + '/'+filename, 'w')\n",
        "    for l in labels:\n",
        "      f.write(\"0 \" + \" \".join([str(x) for x in l]) + '\\n')\n",
        "    f.close()\n",
        "\n",
        "\n",
        "prepare_data('test')\n",
        "prepare_data('train')"
      ],
      "metadata": {
        "id": "XGkoYWR5c0cq"
      },
      "execution_count": null,
      "outputs": []
    },
    {
      "cell_type": "code",
      "source": [
        "import cv2\n",
        "from os import listdir\n",
        "from os.path import isfile, join\n",
        "import numpy as np\n",
        "\n",
        "WIDTH, HEIGHT = 480, 360\n",
        "\n",
        "for filename in listdir('/content/drive/MyDrive/biomet/yolo/images/train/'):\n",
        "  image = cv2.imread('/content/drive/MyDrive/biomet/yolo/images/train/' + filename)\n",
        "  image_gray = cv2.cvtColor(image, cv2.COLOR_BGR2GRAY)\n",
        "  \n",
        "  cv2.imwrite('/content/drive/MyDrive/biomet/yolo/images/train/' + filename, image_gray)\n",
        " \n"
      ],
      "metadata": {
        "id": "299W0Y_q4FZy"
      },
      "execution_count": null,
      "outputs": []
    },
    {
      "cell_type": "code",
      "source": [
        "!python train.py --img 480 --batch 24 --epochs 1 --data custom_data.yaml --weights yolov5m.pt --cache"
      ],
      "metadata": {
        "colab": {
          "base_uri": "https://localhost:8080/"
        },
        "id": "PtIaWqzFZ-ff",
        "outputId": "aaf637bb-892e-45c0-dd9c-04c906d2b98b"
      },
      "execution_count": null,
      "outputs": [
        {
          "output_type": "stream",
          "name": "stdout",
          "text": [
            "\r       0/0        0G    0.1089   0.02221         0        46       480:  19% 6/32 [05:55<21:36, 49.87s/it]\r       0/0        0G    0.1089   0.02221         0        46       480:  22% 7/32 [05:55<20:39, 49.58s/it]/usr/local/lib/python3.7/dist-packages/torch/autocast_mode.py:141: UserWarning: User provided device_type of 'cuda', but CUDA is not available. Disabling\n",
            "  warnings.warn('User provided device_type of \\'cuda\\', but CUDA is not available. Disabling')\n",
            "       0/0        0G    0.1075    0.0222         0        55       480:  25% 8/32 [06:44<19:47, 49.46s/it]/usr/local/lib/python3.7/dist-packages/torch/autocast_mode.py:141: UserWarning: User provided device_type of 'cuda', but CUDA is not available. Disabling\n",
            "  warnings.warn('User provided device_type of \\'cuda\\', but CUDA is not available. Disabling')\n",
            "       0/0        0G    0.1075    0.0222         0        55       480:  25% 8/32 [06:49<20:28, 51.17s/it]\n",
            "Traceback (most recent call last):\n",
            "  File \"train.py\", line 626, in <module>\n",
            "    main(opt)\n",
            "  File \"train.py\", line 523, in main\n",
            "    train(opt.hyp, opt, device, callbacks)\n",
            "  File \"train.py\", line 319, in train\n",
            "    pred = model(imgs)  # forward\n",
            "  File \"/usr/local/lib/python3.7/dist-packages/torch/nn/modules/module.py\", line 1102, in _call_impl\n",
            "    return forward_call(*input, **kwargs)\n",
            "  File \"/content/yolov5/models/yolo.py\", line 126, in forward\n",
            "    return self._forward_once(x, profile, visualize)  # single-scale inference, train\n",
            "  File \"/content/yolov5/models/yolo.py\", line 149, in _forward_once\n",
            "    x = m(x)  # run\n",
            "  File \"/usr/local/lib/python3.7/dist-packages/torch/nn/modules/module.py\", line 1102, in _call_impl\n",
            "    return forward_call(*input, **kwargs)\n",
            "  File \"/content/yolov5/models/common.py\", line 46, in forward\n",
            "    return self.act(self.bn(self.conv(x)))\n",
            "  File \"/usr/local/lib/python3.7/dist-packages/torch/nn/modules/module.py\", line 1102, in _call_impl\n",
            "    return forward_call(*input, **kwargs)\n",
            "  File \"/usr/local/lib/python3.7/dist-packages/torch/nn/modules/batchnorm.py\", line 179, in forward\n",
            "    self.eps,\n",
            "  File \"/usr/local/lib/python3.7/dist-packages/torch/nn/functional.py\", line 2283, in batch_norm\n",
            "    input, weight, bias, running_mean, running_var, training, momentum, eps, torch.backends.cudnn.enabled\n",
            "KeyboardInterrupt\n"
          ]
        }
      ]
    },
    {
      "cell_type": "code",
      "source": [
        "!python detect.py --img 480 --weights runs/train/exp/weights/best.pt --img 480 --conf 0.25 --source /content/drive/MyDrive/biomet/awe/data/ears/adam.jpg"
      ],
      "metadata": {
        "colab": {
          "base_uri": "https://localhost:8080/"
        },
        "id": "XJfJsjLm5pZh",
        "outputId": "3eb4f8cf-6e55-411b-d7fb-5e2d5add7b43"
      },
      "execution_count": null,
      "outputs": [
        {
          "output_type": "stream",
          "name": "stdout",
          "text": [
            "\u001b[34m\u001b[1mdetect: \u001b[0mweights=['runs/train/exp/weights/best.pt'], source=/content/drive/MyDrive/biomet/awe/data/ears/adam.jpg, imgsz=[480, 480], conf_thres=0.25, iou_thres=0.45, max_det=1000, device=, view_img=False, save_txt=False, save_conf=False, save_crop=False, nosave=False, classes=None, agnostic_nms=False, augment=False, visualize=False, update=False, project=runs/detect, name=exp, exist_ok=False, line_thickness=3, hide_labels=False, hide_conf=False, half=False, dnn=False\n",
            "YOLOv5 🚀 v6.0-155-gdc54ed5 torch 1.10.0+cu111 CPU\n",
            "\n",
            "Traceback (most recent call last):\n",
            "  File \"detect.py\", line 243, in <module>\n",
            "    main(opt)\n",
            "  File \"detect.py\", line 238, in main\n",
            "    run(**vars(opt))\n",
            "  File \"/usr/local/lib/python3.7/dist-packages/torch/autograd/grad_mode.py\", line 28, in decorate_context\n",
            "    return func(*args, **kwargs)\n",
            "  File \"detect.py\", line 79, in run\n",
            "    model = DetectMultiBackend(weights, device=device, dnn=dnn)\n",
            "  File \"/content/yolov5/models/common.py\", line 309, in __init__\n",
            "    model = attempt_load(weights if isinstance(weights, list) else w, map_location=device)\n",
            "  File \"/content/yolov5/models/experimental.py\", line 96, in attempt_load\n",
            "    ckpt = torch.load(attempt_download(w), map_location=map_location)  # load\n",
            "  File \"/usr/local/lib/python3.7/dist-packages/torch/serialization.py\", line 600, in load\n",
            "    with _open_zipfile_reader(opened_file) as opened_zipfile:\n",
            "  File \"/usr/local/lib/python3.7/dist-packages/torch/serialization.py\", line 242, in __init__\n",
            "    super(_open_zipfile_reader, self).__init__(torch._C.PyTorchFileReader(name_or_buffer))\n",
            "RuntimeError: PytorchStreamReader failed reading zip archive: failed finding central directory\n"
          ]
        }
      ]
    },
    {
      "cell_type": "code",
      "source": [
        "# TESTING\n",
        "import csv\n",
        "\n",
        "\n",
        "test_images = []\n",
        "\n",
        "with open('/content/drive/MyDrive/biomet/yolo/validation.csv', newline='') as csvfile:\n",
        "  spamreader = csv.reader(csvfile, delimiter=',')\n",
        "  prev = ''\n",
        "  i = 0\n",
        "  test_targets = []\n",
        "  for row in spamreader:\n",
        "\n",
        "    if i == 0:\n",
        "      prev = row[5]\n",
        "      i = 1\n",
        "\n",
        "    if prev != row[5]:\n",
        "      f = open('/content/drive/MyDrive/biomet/yolo/labels/val/' + prev, 'w+')\n",
        "      for l in test_targets:\n",
        "        f.write(\"0 \" + \" \".join([str(x) for x in l]) + '\\n')\n",
        "      f.close()\n",
        "      test_targets = []\n",
        "      prev = row[5]\n",
        "\n",
        "    xmin = round(int(row[1]) / row[6], 2)\n",
        "    ymin = round(int(row[2]) / row[7], 2)\n",
        "    xmax = round((int(row[3]) + int(data[1])) / row[6], 2)\n",
        "    ymax = round((int(row[4]) + int(data[2])) / row[7], 2)\n",
        "    test_targets.append([xmin, ymin, xmax, ymax])\n",
        "\n",
        "  f = open('/content/drive/MyDrive/biomet/yolo/labels/val/' + prev, 'w+')\n",
        "  for l in test_targets:\n",
        "    f.write(\"0 \" + \" \".join([str(x) for x in l]) + '\\n')\n",
        "  f.close()\n",
        "\n",
        "    \n",
        "\n",
        "\n",
        "\n"
      ],
      "metadata": {
        "id": "ttnxYEdUnjc2",
        "colab": {
          "base_uri": "https://localhost:8080/",
          "height": 235
        },
        "outputId": "3ce45062-d11d-4606-c67b-086979331a50"
      },
      "execution_count": null,
      "outputs": [
        {
          "output_type": "error",
          "ename": "TypeError",
          "evalue": "ignored",
          "traceback": [
            "\u001b[0;31m---------------------------------------------------------------------------\u001b[0m",
            "\u001b[0;31mTypeError\u001b[0m                                 Traceback (most recent call last)",
            "\u001b[0;32m<ipython-input-7-9353ff486417>\u001b[0m in \u001b[0;36m<module>\u001b[0;34m()\u001b[0m\n\u001b[1;32m     24\u001b[0m       \u001b[0mprev\u001b[0m \u001b[0;34m=\u001b[0m \u001b[0mrow\u001b[0m\u001b[0;34m[\u001b[0m\u001b[0;36m5\u001b[0m\u001b[0;34m]\u001b[0m\u001b[0;34m\u001b[0m\u001b[0;34m\u001b[0m\u001b[0m\n\u001b[1;32m     25\u001b[0m \u001b[0;34m\u001b[0m\u001b[0m\n\u001b[0;32m---> 26\u001b[0;31m     \u001b[0mxmin\u001b[0m \u001b[0;34m=\u001b[0m \u001b[0mround\u001b[0m\u001b[0;34m(\u001b[0m\u001b[0mint\u001b[0m\u001b[0;34m(\u001b[0m\u001b[0mrow\u001b[0m\u001b[0;34m[\u001b[0m\u001b[0;36m1\u001b[0m\u001b[0;34m]\u001b[0m\u001b[0;34m)\u001b[0m \u001b[0;34m/\u001b[0m \u001b[0mrow\u001b[0m\u001b[0;34m[\u001b[0m\u001b[0;36m6\u001b[0m\u001b[0;34m]\u001b[0m\u001b[0;34m,\u001b[0m \u001b[0;36m2\u001b[0m\u001b[0;34m)\u001b[0m\u001b[0;34m\u001b[0m\u001b[0;34m\u001b[0m\u001b[0m\n\u001b[0m\u001b[1;32m     27\u001b[0m     \u001b[0mymin\u001b[0m \u001b[0;34m=\u001b[0m \u001b[0mround\u001b[0m\u001b[0;34m(\u001b[0m\u001b[0mint\u001b[0m\u001b[0;34m(\u001b[0m\u001b[0mrow\u001b[0m\u001b[0;34m[\u001b[0m\u001b[0;36m2\u001b[0m\u001b[0;34m]\u001b[0m\u001b[0;34m)\u001b[0m \u001b[0;34m/\u001b[0m \u001b[0mrow\u001b[0m\u001b[0;34m[\u001b[0m\u001b[0;36m7\u001b[0m\u001b[0;34m]\u001b[0m\u001b[0;34m,\u001b[0m \u001b[0;36m2\u001b[0m\u001b[0;34m)\u001b[0m\u001b[0;34m\u001b[0m\u001b[0;34m\u001b[0m\u001b[0m\n\u001b[1;32m     28\u001b[0m     \u001b[0mxmax\u001b[0m \u001b[0;34m=\u001b[0m \u001b[0mround\u001b[0m\u001b[0;34m(\u001b[0m\u001b[0;34m(\u001b[0m\u001b[0mint\u001b[0m\u001b[0;34m(\u001b[0m\u001b[0mrow\u001b[0m\u001b[0;34m[\u001b[0m\u001b[0;36m3\u001b[0m\u001b[0;34m]\u001b[0m\u001b[0;34m)\u001b[0m \u001b[0;34m+\u001b[0m \u001b[0mint\u001b[0m\u001b[0;34m(\u001b[0m\u001b[0mdata\u001b[0m\u001b[0;34m[\u001b[0m\u001b[0;36m1\u001b[0m\u001b[0;34m]\u001b[0m\u001b[0;34m)\u001b[0m\u001b[0;34m)\u001b[0m \u001b[0;34m/\u001b[0m \u001b[0mrow\u001b[0m\u001b[0;34m[\u001b[0m\u001b[0;36m6\u001b[0m\u001b[0;34m]\u001b[0m\u001b[0;34m,\u001b[0m \u001b[0;36m2\u001b[0m\u001b[0;34m)\u001b[0m\u001b[0;34m\u001b[0m\u001b[0;34m\u001b[0m\u001b[0m\n",
            "\u001b[0;31mTypeError\u001b[0m: unsupported operand type(s) for /: 'int' and 'str'"
          ]
        }
      ]
    },
    {
      "cell_type": "code",
      "source": [
        "!python val.py --weights runs/train/exp/weights/best.pt --data custom_data.yaml --img 480"
      ],
      "metadata": {
        "colab": {
          "base_uri": "https://localhost:8080/"
        },
        "id": "7mlpdAu_Aa4y",
        "outputId": "6891a7e5-2d16-435c-c01d-91c67df0f938"
      },
      "execution_count": null,
      "outputs": [
        {
          "output_type": "stream",
          "name": "stdout",
          "text": [
            "\u001b[34m\u001b[1mval: \u001b[0mdata=/content/yolov5/data/custom_data.yaml, weights=['runs/train/exp/weights/best.pt'], batch_size=32, imgsz=480, conf_thres=0.001, iou_thres=0.6, task=val, device=, workers=8, single_cls=False, augment=False, verbose=False, save_txt=False, save_hybrid=False, save_conf=False, save_json=False, project=runs/val, name=exp, exist_ok=False, half=False, dnn=False\n",
            "YOLOv5 🚀 v6.0-155-gdc54ed5 torch 1.10.0+cu111 CPU\n",
            "\n",
            "Traceback (most recent call last):\n",
            "  File \"val.py\", line 370, in <module>\n",
            "    main(opt)\n",
            "  File \"val.py\", line 343, in main\n",
            "    run(**vars(opt))\n",
            "  File \"/usr/local/lib/python3.7/dist-packages/torch/autograd/grad_mode.py\", line 28, in decorate_context\n",
            "    return func(*args, **kwargs)\n",
            "  File \"val.py\", line 127, in run\n",
            "    model = DetectMultiBackend(weights, device=device, dnn=dnn)\n",
            "  File \"/content/yolov5/models/common.py\", line 309, in __init__\n",
            "    model = attempt_load(weights if isinstance(weights, list) else w, map_location=device)\n",
            "  File \"/content/yolov5/models/experimental.py\", line 96, in attempt_load\n",
            "    ckpt = torch.load(attempt_download(w), map_location=map_location)  # load\n",
            "  File \"/usr/local/lib/python3.7/dist-packages/torch/serialization.py\", line 600, in load\n",
            "    with _open_zipfile_reader(opened_file) as opened_zipfile:\n",
            "  File \"/usr/local/lib/python3.7/dist-packages/torch/serialization.py\", line 242, in __init__\n",
            "    super(_open_zipfile_reader, self).__init__(torch._C.PyTorchFileReader(name_or_buffer))\n",
            "RuntimeError: PytorchStreamReader failed reading zip archive: failed finding central directory\n"
          ]
        }
      ]
    }
  ]
}