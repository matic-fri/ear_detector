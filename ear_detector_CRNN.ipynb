{
  "nbformat": 4,
  "nbformat_minor": 0,
  "metadata": {
    "colab": {
      "name": "ear_detector_CRNN.ipynb",
      "provenance": [],
      "collapsed_sections": []
    },
    "kernelspec": {
      "name": "python3",
      "display_name": "Python 3"
    },
    "language_info": {
      "name": "python"
    },
    "accelerator": "TPU"
  },
  "cells": [
    {
      "cell_type": "code",
      "metadata": {
        "colab": {
          "base_uri": "https://localhost:8080/"
        },
        "id": "aSQk-RGcyjcw",
        "outputId": "9a546390-997f-4740-ffc9-34f3b94efc34"
      },
      "source": [
        "from google.colab import drive\n",
        "drive.mount('/content/drive')"
      ],
      "execution_count": null,
      "outputs": [
        {
          "output_type": "stream",
          "name": "stdout",
          "text": [
            "Mounted at /content/drive\n"
          ]
        }
      ]
    },
    {
      "cell_type": "markdown",
      "metadata": {
        "id": "U7J5gp9LzQzT"
      },
      "source": [
        "Nalaganje podatkovne zbirke slik ušes"
      ]
    },
    {
      "cell_type": "markdown",
      "metadata": {
        "id": "LgzirW5cTTGm"
      },
      "source": [
        "# New Section"
      ]
    },
    {
      "cell_type": "code",
      "metadata": {
        "id": "3yHMwfeZ22GU"
      },
      "source": [
        "import os\n",
        "import csv\n",
        "import cv2\n",
        "import keras\n",
        "\n",
        "TRAINING_CSV_FILE = '/content/drive/MyDrive/biomet/training_data.csv'\n",
        "TRAINING_IMAGE_DIR = '/content/drive/MyDrive/biomet/awe/data/ears/train/'\n",
        "WIDTH, HEIGHT = 480, 360\n",
        "\n",
        "f = open('/content/drive/MyDrive/biomet/awe/data/ears/annotations/detection/train.txt', 'r')\n",
        "\n",
        "train_data = []\n",
        "\n",
        "line = f.readline()\n",
        "while line:\n",
        "  data = line.split(' ')\n",
        "  img_path = data[0].split('/')[1]\n",
        "\n",
        "  train_image_fullpath = TRAINING_IMAGE_DIR + img_path\n",
        "\n",
        "  xmin = round(int(data[1]) / WIDTH, 2)\n",
        "  ymin = round(int(data[2]) / HEIGHT, 2)\n",
        "  xmax = round((int(data[3]) + xmin) / WIDTH, 2)\n",
        "  ymax = round((int(data[4]) + ymin) / HEIGHT, 2)\n",
        "\n",
        "  train_data.append([train_image_fullpath, xmin, ymin, xmax, ymax])\n",
        "\n",
        "  line = f.readline()\n",
        "\n",
        "f.close()"
      ],
      "execution_count": null,
      "outputs": []
    },
    {
      "cell_type": "code",
      "source": [
        "import numpy as np\n",
        "\n",
        "train_data = np.array(train_data)\n",
        "# train_targets = np.array(train_targets)\n",
        "# validation_images = np.array(validation_images)\n",
        "# validation_targets = np.array(validation_targets)"
      ],
      "metadata": {
        "id": "pKrYBCyQ6STw"
      },
      "execution_count": null,
      "outputs": []
    },
    {
      "cell_type": "code",
      "source": [
        "train_images, index, counts = np.unique(train_data[:, 0], return_counts=True, return_index=True)\n",
        "# print(train_images[:11], index[:11])\n",
        "x_train = train_images\n",
        "y_train = []\n",
        "for i in range(len(train_images)):    \n",
        "  labels = []\n",
        "  for j in range(counts[i]):\n",
        "    labels.append([train_data[index[i]+j, 1], train_data[index[i]+j, 2], train_data[index[i]+j, 3], train_data[index[i]+j, 4]])\n",
        "  y_train.append(labels)\n",
        "  # x_train.encode_single_sample(train_images[9], index[9], counts[9], train_data)\n",
        "\n",
        "print(len(y_train), len(x_train))"
      ],
      "metadata": {
        "colab": {
          "base_uri": "https://localhost:8080/"
        },
        "id": "-ReD8hqZfrl8",
        "outputId": "ca2cf353-dd0b-4660-946f-21e185502543"
      },
      "execution_count": null,
      "outputs": [
        {
          "output_type": "stream",
          "name": "stdout",
          "text": [
            "750 750\n"
          ]
        }
      ]
    },
    {
      "cell_type": "code",
      "source": [
        "print(x_train[9])"
      ],
      "metadata": {
        "colab": {
          "base_uri": "https://localhost:8080/"
        },
        "id": "uM9yvo3moAae",
        "outputId": "46773f1d-9d47-4268-c3da-5d2a8954be8e"
      },
      "execution_count": null,
      "outputs": [
        {
          "output_type": "stream",
          "name": "stdout",
          "text": [
            "/content/drive/MyDrive/biomet/awe/data/ears/train/0010.png\n"
          ]
        }
      ]
    },
    {
      "cell_type": "code",
      "source": [
        "def encode_single_sample(img_path):\n",
        "    img = cv2.imread(img_path, cv2.IMREAD_GRAYSCALE)\n",
        "    img = keras.preprocessing.image.img_to_array(img) / 255\n",
        "    img = tf.transpose(img, perm=[1, 0, 2])\n",
        "    return img"
      ],
      "metadata": {
        "id": "1NHlL-aF5gvm"
      },
      "execution_count": null,
      "outputs": []
    },
    {
      "cell_type": "code",
      "source": [
        "train_dataset = np.hstack((x_train, y_train))"
      ],
      "metadata": {
        "colab": {
          "base_uri": "https://localhost:8080/"
        },
        "id": "7BfLq3sqjoCZ",
        "outputId": "c7f5bc22-43d1-4879-a38e-c0ddd6d2ce3b"
      },
      "execution_count": null,
      "outputs": [
        {
          "output_type": "stream",
          "name": "stderr",
          "text": [
            "/usr/local/lib/python3.7/dist-packages/numpy/core/_asarray.py:136: VisibleDeprecationWarning: Creating an ndarray from ragged nested sequences (which is a list-or-tuple of lists-or-tuples-or ndarrays with different lengths or shapes) is deprecated. If you meant to do this, you must specify 'dtype=object' when creating the ndarray\n",
            "  return array(a, dtype, copy=False, order=order, subok=True)\n"
          ]
        }
      ]
    },
    {
      "cell_type": "code",
      "source": [
        "(x_train, y_train), (x_test, y_tes) = keras.datasets.mnist.load_data()\n",
        "print(x_train.shape, y_train.shape)l"
      ],
      "metadata": {
        "colab": {
          "base_uri": "https://localhost:8080/"
        },
        "id": "cW7Sr1LgwpFZ",
        "outputId": "29b34597-4ac8-4cf6-c479-1e44e0dba2e2"
      },
      "execution_count": null,
      "outputs": [
        {
          "output_type": "stream",
          "name": "stdout",
          "text": [
            "(60000, 28, 28) (60000,)\n"
          ]
        }
      ]
    },
    {
      "cell_type": "code",
      "source": [
        "VALIDATION_CSV_FILE = '/content/drive/MyDrive/biomet/training_data.csv'\n",
        "VALIDATION_IMAGE_DIR = '/content/drive/MyDrive/biomet/awe/data/ears/test/'\n",
        "\n",
        "f = open('/content/drive/MyDrive/biomet/awe/data/ears/annotations/detection/test.txt', 'r')\n",
        "\n",
        "validation_data = []\n",
        "\n",
        "line = f.readline()\n",
        "while line:\n",
        "  data = line.split(' ')\n",
        "  img_path = data[0].split('/')[1]\n",
        "\n",
        "  validation_image_fullpath = VALIDATION_IMAGE_DIR + img_path\n",
        "\n",
        "  xmin = round(int(data[1]) / WIDTH, 2)\n",
        "  ymin = round(int(data[2]) / HEIGHT, 2)\n",
        "  xmax = round((int(data[3]) + xmin) / WIDTH, 2)\n",
        "  ymax = round((int(data[4]) + ymin) / HEIGHT, 2)\n",
        "\n",
        "  validation_data.append([validation_image_fullpath, xmin, ymin, xmax, ymax])\n",
        "\n",
        "  line = f.readline()\n",
        "\n",
        "f.close()"
      ],
      "metadata": {
        "id": "4OzUvyGJDHvi"
      },
      "execution_count": null,
      "outputs": []
    },
    {
      "cell_type": "code",
      "source": [
        "validation_data = np.array(validation_data)\n",
        "validation_images, index, counts = np.unique(validation_data[:, 0], return_counts=True, return_index=True)\n",
        "# print(train_images[:11], index[:11])\n",
        "x_test = validation_images\n",
        "y_test = []\n",
        "for i in range(len(validation_images)):    \n",
        "  labels = []\n",
        "  for j in range(counts[i]):\n",
        "    labels.append([validation_data[index[i]+j, 1], validation_data[index[i]+j, 2], validation_data[index[i]+j, 3], validation_data[index[i]+j, 4]])\n",
        "  y_test.append(labels)\n",
        "  # x_train.encode_single_sample(train_images[9], index[9], counts[9], train_data)\n",
        "\n",
        "print(len(y_test), len(x_test))"
      ],
      "metadata": {
        "colab": {
          "base_uri": "https://localhost:8080/"
        },
        "id": "WfWxu9Eu7J0a",
        "outputId": "cb860cf6-8d92-4744-9384-db54c2526ab1"
      },
      "execution_count": null,
      "outputs": [
        {
          "output_type": "stream",
          "name": "stdout",
          "text": [
            "250 250\n"
          ]
        }
      ]
    },
    {
      "cell_type": "code",
      "source": [
        "train_dataset = tf.data.Dataset.from_tensor_slices((x_train, y_train))"
      ],
      "metadata": {
        "id": "OE85xbb0QIYf"
      },
      "execution_count": null,
      "outputs": []
    },
    {
      "cell_type": "code",
      "source": [
        "# import os\n",
        "# import csv\n",
        "\n",
        "\n",
        "# f = open('/content/drive/MyDrive/biomet/wider_face_val_bbx_gt.txt', 'r')\n",
        "\n",
        "# c = open('/content/drive/MyDrive/biomet/validation_data.csv', 'w')\n",
        "\n",
        "# # create the csv writer\n",
        "# csv.register_dialect('myDialect',\n",
        "#                      delimiter=';',\n",
        "#                      quoting=csv.QUOTE_ALL)\n",
        "# writer = csv.writer(c, dialect='myDialect')\n",
        "\n",
        "\n",
        "# img_file = f.readline()\n",
        "# while img_file:\n",
        "#   bb_n = int(f.readline())\n",
        "#   bb = f.readline().split(' ')\n",
        "#   writer.writerow([img_file[:-1], int(bb[0]), int(bb[1]), int(bb[2]), int(bb[3])])\n",
        "#   if bb_n > 1:\n",
        "#     for i in range(bb_n-1):\n",
        "#       f.readline()\n",
        "\n",
        "#   img_file = f.readline()\n",
        "\n",
        "# c.close()\n",
        "# f.close()"
      ],
      "metadata": {
        "id": "Jr-3FuVV-ojm"
      },
      "execution_count": null,
      "outputs": []
    },
    {
      "cell_type": "code",
      "source": [
        "# import pandas as pd\n",
        "# import cv2\n",
        "# import keras\n",
        "\n",
        "# TRAINING_CSV_FILE = '/content/drive/MyDrive/biomet/training_data.csv'\n",
        "# TRAINING_IMAGE_DIR = '/content/drive/MyDrive/biomet/images/train/'\n",
        "\n",
        "# training_image_records = pd.read_csv(TRAINING_CSV_FILE, delimiter=';')\n",
        "\n",
        "# train_images = []\n",
        "# train_targets = []\n",
        "\n",
        "# for index, row in training_image_records.iterrows():\n",
        "#     if index > 300:\n",
        "#       break\n",
        "\n",
        "#     (filename, x1, y1, w, h) = row\n",
        "    \n",
        "#     train_image_fullpath = TRAINING_IMAGE_DIR + filename\n",
        "#     train_img = cv2.imread(train_image_fullpath)\n",
        "#     (width, height) = train_img.shape[:2]\n",
        "#     train_img = cv2.resize(train_img, (432, 432))\n",
        "#     train_img_arr = keras.preprocessing.image.img_to_array(train_img) / 255\n",
        "    \n",
        "    \n",
        "#     xmin = round(x1/ width, 2)\n",
        "#     ymin = round(y1/ height, 2)\n",
        "#     xmax = round(x1+w/ width, 2)\n",
        "#     ymax = round(y1+h/ height, 2)\n",
        "    \n",
        "#     train_images.append(train_img_arr)\n",
        "#     train_targets.append([xmin, ymin, xmax, ymax])"
      ],
      "metadata": {
        "id": "WzxodHwUnsal"
      },
      "execution_count": null,
      "outputs": []
    },
    {
      "cell_type": "code",
      "source": [
        "# VALIDATION_CSV_FILE = '/content/drive/MyDrive/biomet/validation_data.csv'\n",
        "# VALIDATION_IMAGE_DIR = '/content/drive/MyDrive/biomet/images/validation/'\n",
        "\n",
        "# validation_image_records = pd.read_csv(VALIDATION_CSV_FILE, delimiter=';')\n",
        "\n",
        "# validation_images = []\n",
        "# validation_targets = []\n",
        "\n",
        "# for index, row in validation_image_records.iterrows():\n",
        "#     if index > 300:\n",
        "#       break\n",
        "\n",
        "#     (filename, x1, y1, w, h) = row\n",
        "    \n",
        "#     validation_image_fullpath = VALIDATION_IMAGE_DIR + filename\n",
        "#     validation_img = cv2.imread(validation_image_fullpath)\n",
        "#     (width, height) = validation_img.shape[:2]\n",
        "#     validation_img = cv2.resize(validation_img, (432, 432))\n",
        "#     validation_img_arr = keras.preprocessing.image.img_to_array(validation_img) / 255\n",
        "    \n",
        "    \n",
        "#     xmin = round(x1/ width, 2)\n",
        "#     ymin = round(y1/ height, 2)\n",
        "#     xmax = round(x1+w/ width, 2)\n",
        "#     ymax = round(y1+h/ height, 2)\n",
        "    \n",
        "#     validation_images.append(validation_img_arr)\n",
        "#     validation_targets.append([xmin, ymin, xmax, ymax])"
      ],
      "metadata": {
        "id": "A51B0oSX-ISm"
      },
      "execution_count": null,
      "outputs": []
    },
    {
      "cell_type": "code",
      "source": [
        "import tensorflow as tf\n",
        "from tensorflow import keras\n",
        "from tensorflow.keras import layers\n",
        "from tensorflow.keras.models import Sequential\n",
        "import pathlib\n",
        "import pandas as pd\n",
        "from PIL import Image \n",
        "from PIL.ImageDraw import Draw"
      ],
      "metadata": {
        "id": "Zn1bAtVzG3DI"
      },
      "execution_count": null,
      "outputs": []
    },
    {
      "cell_type": "code",
      "source": [
        "width = 480\n",
        "height = 360"
      ],
      "metadata": {
        "id": "o4LMlSC3G6EH"
      },
      "execution_count": null,
      "outputs": []
    },
    {
      "cell_type": "code",
      "source": [
        "class CTCLayer(layers.Layer):\n",
        "    def __init__(self, name=None):\n",
        "        super().__init__(name=name)\n",
        "        self.loss_fn = keras.backend.ctc_batch_cost\n",
        "\n",
        "    def call(self, y_true, y_pred):\n",
        "        # Compute the training-time loss value and add it\n",
        "        # to the layer using `self.add_loss()`.\n",
        "        batch_len = tf.cast(tf.shape(y_true)[0], dtype=\"int64\")\n",
        "        input_length = tf.cast(tf.shape(y_pred)[1], dtype=\"int64\")\n",
        "        label_length = tf.cast(tf.shape(y_true)[1], dtype=\"int64\")\n",
        "\n",
        "        input_length = input_length * tf.ones(shape=(batch_len, 1), dtype=\"int64\")\n",
        "        label_length = label_length * tf.ones(shape=(batch_len, 1), dtype=\"int64\")\n",
        "\n",
        "        loss = self.loss_fn(y_true, y_pred, input_length, label_length)\n",
        "        self.add_loss(loss)\n",
        "\n",
        "        # At test time, just return the computed predictions\n",
        "        return y_pred\n",
        "\n",
        "\n",
        "def build_model():\n",
        "    # Inputs to the model\n",
        "    input_img = layers.Input(\n",
        "        shape=(width, height, 1), name=\"image\", dtype=\"float32\"\n",
        "    )\n",
        "    labels = layers.Input(name=\"label\", shape=(None,), dtype=\"float32\")\n",
        "\n",
        "    # Convolutional blocks (feature extracting)\n",
        "    feature_layers = layers.Conv2D(16, (3, 3), padding='same', activation='relu', name='bl_1')(input_img)\n",
        "    feature_layers = layers.MaxPooling2D((2, 2), name='bl_2')(feature_layers)\n",
        "    feature_layers = layers.Conv2D(32, (3, 3), padding='same', activation='relu', name='bl_3')(feature_layers)\n",
        "    feature_layers = layers.MaxPooling2D((2, 2), name='bl_4')(feature_layers)\n",
        "    feature_layers = layers.Conv2D(64, (3, 3), padding='same', activation='relu', name='bl_5')(feature_layers)\n",
        "    feature_layers = layers.MaxPooling2D((2, 2), name='bl_6')(feature_layers)\n",
        "\n",
        "    # Reshape conv block output for rnn block\n",
        "    new_shape = ((width // 8), (height // 8) * 64)\n",
        "    feature_output = layers.Reshape(target_shape=new_shape, name=\"reshape\")(feature_layers)\n",
        "    feature_output = layers.Dense(64, activation=\"relu\", name=\"dense1\")(feature_output)\n",
        "    feature_output = layers.Dropout(0.2)(feature_output)\n",
        "\n",
        "    # RNNs\n",
        "    rnn_layers = layers.Bidirectional(layers.LSTM(128, return_sequences=True, dropout=0.25))(feature_output)\n",
        "    rnn_layers = layers.Bidirectional(layers.LSTM(64, return_sequences=True, dropout=0.25))(rnn_layers)\n",
        "\n",
        "    # Output layer\n",
        "    rnn_output = layers.Dense(4, activation=\"sigmoid\", name=\"dense2\")(rnn_layers)\n",
        "\n",
        "    # Add CTC layer for calculating CTC loss at each step\n",
        "    output = CTCLayer(name=\"ctc_loss\")(labels, rnn_output)\n",
        "\n",
        "    # Define the model\n",
        "    model = keras.models.Model(\n",
        "        inputs=[input_img, labels], outputs=output, name=\"ear_crnn_model\"\n",
        "    )\n",
        "    # Optimizer\n",
        "    opt = keras.optimizers.Adam()\n",
        "    # Compile the model and return\n",
        "    model.compile(optimizer=opt)\n",
        "    return model"
      ],
      "metadata": {
        "id": "a94TIQusOqeD"
      },
      "execution_count": null,
      "outputs": []
    },
    {
      "cell_type": "code",
      "source": [
        ""
      ],
      "metadata": {
        "id": "yKharWA0cuPU"
      },
      "execution_count": null,
      "outputs": []
    },
    {
      "cell_type": "code",
      "source": [
        "model = build_model()\n",
        "model.summary()"
      ],
      "metadata": {
        "colab": {
          "base_uri": "https://localhost:8080/"
        },
        "id": "oOO4FD0RSHd8",
        "outputId": "7283afee-efbe-4411-bb04-67a3a57ef1e0"
      },
      "execution_count": null,
      "outputs": [
        {
          "output_type": "stream",
          "name": "stdout",
          "text": [
            "Model: \"ear_crnn_model\"\n",
            "__________________________________________________________________________________________________\n",
            " Layer (type)                   Output Shape         Param #     Connected to                     \n",
            "==================================================================================================\n",
            " image (InputLayer)             [(None, 480, 360, 1  0           []                               \n",
            "                                )]                                                                \n",
            "                                                                                                  \n",
            " bl_1 (Conv2D)                  (None, 480, 360, 16  160         ['image[0][0]']                  \n",
            "                                )                                                                 \n",
            "                                                                                                  \n",
            " bl_2 (MaxPooling2D)            (None, 240, 180, 16  0           ['bl_1[0][0]']                   \n",
            "                                )                                                                 \n",
            "                                                                                                  \n",
            " bl_3 (Conv2D)                  (None, 240, 180, 32  4640        ['bl_2[0][0]']                   \n",
            "                                )                                                                 \n",
            "                                                                                                  \n",
            " bl_4 (MaxPooling2D)            (None, 120, 90, 32)  0           ['bl_3[0][0]']                   \n",
            "                                                                                                  \n",
            " bl_5 (Conv2D)                  (None, 120, 90, 64)  18496       ['bl_4[0][0]']                   \n",
            "                                                                                                  \n",
            " bl_6 (MaxPooling2D)            (None, 60, 45, 64)   0           ['bl_5[0][0]']                   \n",
            "                                                                                                  \n",
            " reshape (Reshape)              (None, 60, 2880)     0           ['bl_6[0][0]']                   \n",
            "                                                                                                  \n",
            " dense1 (Dense)                 (None, 60, 64)       184384      ['reshape[0][0]']                \n",
            "                                                                                                  \n",
            " dropout_10 (Dropout)           (None, 60, 64)       0           ['dense1[0][0]']                 \n",
            "                                                                                                  \n",
            " bidirectional_20 (Bidirectiona  (None, 60, 256)     197632      ['dropout_10[0][0]']             \n",
            " l)                                                                                               \n",
            "                                                                                                  \n",
            " bidirectional_21 (Bidirectiona  (None, 60, 128)     164352      ['bidirectional_20[0][0]']       \n",
            " l)                                                                                               \n",
            "                                                                                                  \n",
            " label (InputLayer)             [(None, None)]       0           []                               \n",
            "                                                                                                  \n",
            " dense2 (Dense)                 (None, 60, 4)        516         ['bidirectional_21[0][0]']       \n",
            "                                                                                                  \n",
            " ctc_loss (CTCLayer)            (None, 60, 4)        0           ['label[0][0]',                  \n",
            "                                                                  'dense2[0][0]']                 \n",
            "                                                                                                  \n",
            "==================================================================================================\n",
            "Total params: 570,180\n",
            "Trainable params: 570,180\n",
            "Non-trainable params: 0\n",
            "__________________________________________________________________________________________________\n"
          ]
        }
      ]
    },
    {
      "cell_type": "code",
      "source": [
        "\n",
        "train_targets = np.array(sparse_tuple_from(y_train))\n",
        "validation_targets = np.array(sparse_tuple_from(y_test))\n",
        "\n",
        "train_data = []\n",
        "for i in range(len(x_train)):\n",
        "  train_images.append({'image': encode_single_sample(x_train[i]), 'label': np.array(sparse_tuple_from(y_train[i]))})\n",
        "\n",
        "  \n",
        "vaidation_images = []\n",
        "for img_path in x_test:\n",
        "  vaidation_images.append(encode_single_sample)\n",
        "\n",
        "\n",
        "print(train_data)"
      ],
      "metadata": {
        "colab": {
          "base_uri": "https://localhost:8080/"
        },
        "id": "qle-TK_s6u2m",
        "outputId": "f3b373a0-6848-4ec4-a414-b311884edb8c"
      },
      "execution_count": null,
      "outputs": [
        {
          "output_type": "stream",
          "name": "stderr",
          "text": [
            "/usr/local/lib/python3.7/dist-packages/ipykernel_launcher.py:2: VisibleDeprecationWarning: Creating an ndarray from ragged nested sequences (which is a list-or-tuple of lists-or-tuples-or ndarrays with different lengths or shapes) is deprecated. If you meant to do this, you must specify 'dtype=object' when creating the ndarray\n",
            "  \n",
            "/usr/local/lib/python3.7/dist-packages/ipykernel_launcher.py:3: VisibleDeprecationWarning: Creating an ndarray from ragged nested sequences (which is a list-or-tuple of lists-or-tuples-or ndarrays with different lengths or shapes) is deprecated. If you meant to do this, you must specify 'dtype=object' when creating the ndarray\n",
            "  This is separate from the ipykernel package so we can avoid doing imports until\n",
            "/usr/local/lib/python3.7/dist-packages/ipykernel_launcher.py:7: VisibleDeprecationWarning: Creating an ndarray from ragged nested sequences (which is a list-or-tuple of lists-or-tuples-or ndarrays with different lengths or shapes) is deprecated. If you meant to do this, you must specify 'dtype=object' when creating the ndarray\n",
            "  import sys\n"
          ]
        },
        {
          "output_type": "stream",
          "name": "stdout",
          "text": [
            "[]\n"
          ]
        }
      ]
    },
    {
      "cell_type": "code",
      "source": [
        "print(train_targets)"
      ],
      "metadata": {
        "colab": {
          "base_uri": "https://localhost:8080/"
        },
        "id": "sw8rZ4hObW01",
        "outputId": "76e08c22-1200-4739-ede5-b301a14a01b2"
      },
      "execution_count": null,
      "outputs": [
        {
          "output_type": "stream",
          "name": "stdout",
          "text": [
            "(array([[  0,   0],\n",
            "       [  1,   0],\n",
            "       [  2,   0],\n",
            "       ...,\n",
            "       [748,   0],\n",
            "       [749,   0],\n",
            "       [749,   1]]), array([[0.34, 0.6 , 0.05, 0.17],\n",
            "       [0.65, 0.18, 0.04, 0.1 ],\n",
            "       [0.48, 0.23, 0.03, 0.09],\n",
            "       ...,\n",
            "       [0.13, 0.28, 0.11, 0.33],\n",
            "       [0.61, 0.35, 0.04, 0.18],\n",
            "       [0.26, 0.34, 0.06, 0.18]]), array([750,   2]))\n"
          ]
        }
      ]
    },
    {
      "cell_type": "code",
      "source": [
        "epochs = 100\n",
        "early_stopping_patience = 10\n",
        "# Add early stopping\n",
        "early_stopping = keras.callbacks.EarlyStopping(\n",
        "    monitor=\"val_loss\", patience=early_stopping_patience, restore_best_weights=True\n",
        ")\n",
        "\n",
        "# Train the model\n",
        "print(y_train)\n",
        "history = model.fit((train_images, train_targets), validation_data=(validation_images, validation_targets), epochs=epochs)"
      ],
      "metadata": {
        "id": "Q7rjs6goTYeR",
        "colab": {
          "base_uri": "https://localhost:8080/",
          "height": 400
        },
        "outputId": "4dc53f78-9348-4e2a-e993-b7da3bd94480"
      },
      "execution_count": null,
      "outputs": [
        {
          "output_type": "stream",
          "name": "stdout",
          "text": [
            "[[['0.34', '0.6', '0.05', '0.17']], [['0.65', '0.18', '0.04', '0.1']], [['0.48', '0.23', '0.03', '0.09']], [['0.61', '0.35', '0.06', '0.14']], [['0.19', '0.31', '0.13', '0.15']], [['0.58', '0.21', '0.07', '0.13']], [['0.32', '0.38', '0.07', '0.19']], [['0.62', '0.32', '0.06', '0.21']], [['0.35', '0.32', '0.06', '0.18']], [['0.88', '0.42', '0.07', '0.14'], ['0.1', '0.33', '0.16', '0.25']], [['0.25', '0.34', '0.04', '0.16'], ['0.57', '0.29', '0.07', '0.18']], [['0.27', '0.3', '0.07', '0.14'], ['0.63', '0.26', '0.05', '0.14']], [['0.2', '0.35', '0.08', '0.22'], ['0.57', '0.29', '0.05', '0.22']], [['0.25', '0.32', '0.09', '0.16'], ['0.68', '0.23', '0.09', '0.18']], [['0.66', '0.4', '0.06', '0.24'], ['0.36', '0.31', '0.05', '0.25']], [['0.64', '0.33', '0.06', '0.16'], ['0.41', '0.28', '0.03', '0.16']], [['0.3', '0.41', '0.05', '0.13'], ['0.65', '0.34', '0.09', '0.16']], [['0.63', '0.24', '0.11', '0.11']], [['0.65', '0.3', '0.11', '0.11']], [['0.29', '0.35', '0.05', '0.18']], [['0.19', '0.31', '0.1', '0.15']], [['0.24', '0.21', '0.11', '0.11']], [['0.68', '0.43', '0.11', '0.23']], [['0.29', '0.39', '0.11', '0.26']], [['0.71', '0.41', '0.04', '0.17'], ['0.4', '0.37', '0.06', '0.23']], [['0.81', '0.37', '0.05', '0.17']], [['0.27', '0.01', '0.1', '0.24']], [['0.61', '0.17', '0.04', '0.08']], [['0.61', '0.29', '0.04', '0.11']], [['0.62', '0.28', '0.05', '0.14']], [['0.67', '0.36', '0.13', '0.13']], [['0.66', '0.39', '0.05', '0.2'], ['0.3', '0.37', '0.06', '0.21']], [['0.42', '0.22', '0.08', '0.09']], [['0.6', '0.23', '0.03', '0.12']], [['0.37', '0.39', '0.06', '0.15']], [['0.34', '0.26', '0.06', '0.18']], [['0.75', '0.23', '0.03', '0.07'], ['0.31', '0.15', '0.08', '0.08']], [['0.67', '0.34', '0.11', '0.25']], [['0.67', '0.19', '0.08', '0.28']], [['0.61', '0.32', '0.16', '0.15']], [['0.23', '0.36', '0.07', '0.14'], ['0.71', '0.33', '0.03', '0.15']], [['0.78', '0.33', '0.06', '0.18']], [['0.59', '0.44', '0.16', '0.22']], [['0.68', '0.35', '0.1', '0.24']], [['0.82', '0.4', '0.1', '0.13']], [['0.1', '0.28', '0.15', '0.19']], [['0.12', '0.25', '0.05', '0.11']], [['0.24', '0.39', '0.05', '0.15'], ['0.71', '0.39', '0.09', '0.15']], [['0.79', '0.33', '0.15', '0.19']], [['0.14', '0.34', '0.15', '0.14']], [['0.35', '0.38', '0.05', '0.15']], [['0.74', '0.38', '0.07', '0.16']], [['0.63', '0.49', '0.07', '0.13']], [['0.82', '0.34', '0.07', '0.15']], [['0.2', '0.42', '0.08', '0.13']], [['0.75', '0.38', '0.11', '0.21']], [['0.14', '0.33', '0.11', '0.27']], [['0.56', '0.37', '0.11', '0.13']], [['0.54', '0.33', '0.06', '0.14']], [['0.36', '0.21', '0.04', '0.13']], [['0.2', '0.31', '0.06', '0.2']], [['0.53', '0.42', '0.06', '0.23']], [['0.76', '0.33', '0.13', '0.19']], [['0.35', '0.2', '0.04', '0.08'], ['0.51', '0.17', '0.07', '0.13']], [['0.65', '0.45', '0.06', '0.23']], [['0.74', '0.28', '0.05', '0.18']], [['0.5', '0.36', '0.05', '0.18']], [['0.7', '0.49', '0.06', '0.17']], [['0.16', '0.41', '0.09', '0.17']], [['0.67', '0.18', '0.14', '0.4']], [['0.06', '0.41', '0.24', '0.36']], [['0.13', '0.21', '0.08', '0.17']], [['0.28', '0.33', '0.07', '0.15'], ['0.64', '0.31', '0.05', '0.16']], [['0.19', '0.27', '0.08', '0.19']], [['0.68', '0.39', '0.09', '0.23']], [['0.17', '0.28', '0.09', '0.29'], ['0.71', '0.19', '0.04', '0.3']], [['0.7', '0.29', '0.05', '0.16']], [['0.28', '0.37', '0.08', '0.23']], [['0.11', '0.38', '0.07', '0.14']], [['0.23', '0.25', '0.09', '0.09']], [['0.78', '0.36', '0.07', '0.16']], [['0.64', '0.44', '0.08', '0.14']], [['0.29', '0.46', '0.11', '0.2']], [['0.56', '0.24', '0.11', '0.1']], [['0.57', '0.34', '0.05', '0.11']], [['0.18', '0.12', '0.16', '0.4']], [['0.72', '0.42', '0.07', '0.16']], [['0.7', '0.21', '0.09', '0.37']], [['0.73', '0.3', '0.1', '0.21']], [['0.66', '0.28', '0.11', '0.14']], [['0.62', '0.41', '0.09', '0.17']], [['0.69', '0.33', '0.11', '0.2']], [['0.27', '0.4', '0.1', '0.21']], [['0.54', '0.26', '0.02', '0.07']], [['0.34', '0.14', '0.04', '0.11']], [['0.69', '0.51', '0.04', '0.18']], [['0.16', '0.24', '0.07', '0.16']], [['0.64', '0.29', '0.07', '0.15']], [['0.56', '0.59', '0.07', '0.13']], [['0.61', '0.34', '0.1', '0.22']], [['0.71', '0.28', '0.11', '0.29']], [['0.15', '0.33', '0.12', '0.16']], [['0.26', '0.33', '0.04', '0.13']], [['0.28', '0.35', '0.08', '0.19']], [['0.69', '0.29', '0.04', '0.12']], [['0.57', '0.27', '0.06', '0.11']], [['0.66', '0.24', '0.09', '0.23']], [['0.73', '0.34', '0.08', '0.25']], [['0.19', '0.48', '0.1', '0.14']], [['0.27', '0.36', '0.05', '0.17']], [['0.63', '0.33', '0.06', '0.17']], [['0.74', '0.43', '0.05', '0.12']], [['0.18', '0.31', '0.07', '0.18']], [['0.08', '0.32', '0.05', '0.13']], [['0.59', '0.34', '0.04', '0.17']], [['0.48', '0.29', '0.12', '0.28']], [['0.69', '0.45', '0.1', '0.25']], [['0.38', '0.41', '0.09', '0.24']], [['0.65', '0.29', '0.07', '0.14']], [['0.41', '0.24', '0.07', '0.25']], [['0.49', '0.23', '0.07', '0.18']], [['0.79', '0.27', '0.08', '0.12']], [['0.53', '0.29', '0.06', '0.21']], [['0.31', '0.28', '0.04', '0.07']], [['0.64', '0.28', '0.03', '0.1']], [['0.64', '0.47', '0.05', '0.19']], [['0.06', '0.36', '0.06', '0.15']], [['0.16', '0.47', '0.11', '0.28']], [['0.2', '0.4', '0.07', '0.21']], [['0.63', '0.34', '0.05', '0.17']], [['0.79', '0.46', '0.06', '0.23']], [['0.22', '0.31', '0.07', '0.16'], ['0.8', '0.24', '0.12', '0.17']], [['0.28', '0.48', '0.08', '0.17']], [['0.57', '0.37', '0.04', '0.12']], [['0.35', '0.35', '0.06', '0.11']], [['0.74', '0.33', '0.04', '0.11'], ['0.23', '0.32', '0.07', '0.15']], [['0.31', '0.45', '0.08', '0.21']], [['0.59', '0.42', '0.04', '0.13']], [['0.1', '0.42', '0.12', '0.31'], ['0.69', '0.24', '0.07', '0.33']], [['0.41', '0.21', '0.04', '0.1']], [['0.28', '0.35', '0.07', '0.18']], [['0.65', '0.17', '0.07', '0.08']], [['0.23', '0.18', '0.04', '0.08']], [['0.81', '0.36', '0.05', '0.18']], [['0.32', '0.3', '0.04', '0.17']], [['0.64', '0.1', '0.07', '0.24']], [['0.76', '0.19', '0.03', '0.06']], [['0.82', '0.21', '0.08', '0.24']], [['0.31', '0.32', '0.06', '0.13']], [['0.28', '0.31', '0.08', '0.17']], [['0.29', '0.28', '0.06', '0.12'], ['0.64', '0.24', '0.03', '0.13']], [['0.31', '0.26', '0.04', '0.16']], [['0.62', '0.24', '0.08', '0.14']], [['0.7', '0.18', '0.09', '0.11']], [['0.16', '0.3', '0.1', '0.13']], [['0.39', '0.47', '0.06', '0.16']], [['0.43', '0.23', '0.02', '0.09'], ['0.57', '0.18', '0.03', '0.1']], [['0.63', '0.16', '0.05', '0.1']], [['0.27', '0.24', '0.07', '0.16']], [['0.35', '0.14', '0.05', '0.07']], [['0.68', '0.33', '0.09', '0.2']], [['0.25', '0.23', '0.04', '0.14']], [['0.47', '0.31', '0.06', '0.19']], [['0.66', '0.24', '0.04', '0.09'], ['0.5', '0.19', '0.02', '0.1']], [['0.24', '0.45', '0.05', '0.2'], ['0.61', '0.37', '0.07', '0.22']], [['0.24', '0.33', '0.08', '0.18']], [['0.34', '0.38', '0.06', '0.17']], [['0.45', '0.32', '0.04', '0.17'], ['0.78', '0.31', '0.03', '0.18']], [['0.69', '0.28', '0.11', '0.16']], [['0.18', '0.39', '0.09', '0.22']], [['0.83', '0.28', '0.1', '0.18']], [['0.06', '0.39', '0.1', '0.22']], [['0.75', '0.3', '0.12', '0.2']], [['0.74', '0.3', '0.1', '0.18']], [['0.17', '0.32', '0.1', '0.16']], [['0.27', '0.36', '0.09', '0.2']], [['0.8', '0.3', '0.06', '0.18']], [['0.83', '0.38', '0.07', '0.18']], [['0.2', '0.23', '0.1', '0.31']], [['0.63', '0.39', '0.06', '0.16']], [['0.68', '0.34', '0.07', '0.13']], [['0.47', '0.47', '0.08', '0.14']], [['0.29', '0.28', '0.07', '0.1']], [['0.63', '0.33', '0.05', '0.14']], [['0.68', '0.52', '0.11', '0.23']], [['0.8', '0.3', '0.14', '0.14']], [['0.33', '0.25', '0.08', '0.13']], [['0.66', '0.36', '0.09', '0.2']], [['0.32', '0.45', '0.07', '0.2'], ['0.64', '0.42', '0.06', '0.21']], [['0.36', '0.18', '0.05', '0.18']], [['0.35', '0.19', '0.07', '0.08']], [['0.61', '0.44', '0.05', '0.07']], [['0.54', '0.29', '0.06', '0.17']], [['0.64', '0.26', '0.11', '0.17']], [['0.31', '0.3', '0.07', '0.11']], [['0.52', '0.34', '0.05', '0.1']], [['0.19', '0.43', '0.12', '0.17']], [['0.05', '0.32', '0.13', '0.28']], [['0.6', '0.27', '0.06', '0.13']], [['0.16', '0.31', '0.11', '0.12']], [['0.34', '0.34', '0.07', '0.14']], [['0.49', '0.34', '0.02', '0.22'], ['0.17', '0.33', '0.04', '0.22']], [['0.74', '0.32', '0.05', '0.17']], [['0.65', '0.25', '0.04', '0.13']], [['0.45', '0.28', '0.04', '0.13']], [['0.07', '0.39', '0.14', '0.36']], [['0.56', '0.24', '0.03', '0.13']], [['0.74', '0.34', '0.09', '0.12']], [['0.18', '0.24', '0.04', '0.16']], [['0.25', '0.25', '0.12', '0.14']], [['0.57', '0.29', '0.08', '0.15']], [['0.73', '0.29', '0.06', '0.23']], [['0.78', '0.31', '0.11', '0.21']], [['0.19', '0.32', '0.1', '0.24']], [['0.34', '0.31', '0.04', '0.12'], ['0.7', '0.29', '0.06', '0.13']], [['0.74', '0.37', '0.07', '0.18']], [['0.59', '0.29', '0.04', '0.13'], ['0.15', '0.27', '0.06', '0.13']], [['0.58', '0.25', '0.05', '0.12']], [['0.71', '0.36', '0.05', '0.2']], [['0.22', '0.44', '0.08', '0.17']], [['0.7', '0.37', '0.06', '0.19'], ['0.26', '0.33', '0.06', '0.2']], [['0.7', '0.41', '0.06', '0.15']], [['0.31', '0.3', '0.04', '0.15']], [['0.32', '0.34', '0.06', '0.23']], [['0.66', '0.3', '0.07', '0.12']], [['0.16', '0.24', '0.08', '0.14']], [['0.11', '0.22', '0.12', '0.17']], [['0.3', '0.14', '0.05', '0.08']], [['0.35', '0.33', '0.03', '0.17'], ['0.57', '0.32', '0.03', '0.17']], [['0.61', '0.38', '0.06', '0.19']], [['0.74', '0.3', '0.1', '0.23']], [['0.25', '0.29', '0.05', '0.13']], [['0.86', '0.32', '0.12', '0.19']], [['0.84', '0.33', '0.14', '0.41']], [['0.28', '0.26', '0.08', '0.13']], [['0.69', '0.24', '0.08', '0.19']], [['0.75', '0.3', '0.08', '0.19']], [['0.1', '0.38', '0.15', '0.2']], [['0.22', '0.39', '0.08', '0.25']], [['0.29', '0.22', '0.03', '0.07']], [['0.89', '0.36', '0.11', '0.24']], [['0.6', '0.27', '0.06', '0.11']], [['0.14', '0.51', '0.06', '0.21'], ['0.56', '0.42', '0.07', '0.22']], [['0.35', '0.27', '0.07', '0.11']], [['0.66', '0.25', '0.08', '0.11']], [['0.11', '0.32', '0.1', '0.15']], [['0.0', '0.06', '0.15', '0.36']], [['0.59', '0.38', '0.04', '0.06']], [['0.62', '0.24', '0.05', '0.11']], [['0.26', '0.36', '0.05', '0.14'], ['0.51', '0.29', '0.03', '0.15']], [['0.38', '0.25', '0.05', '0.16']], [['0.73', '0.25', '0.08', '0.31']], [['0.74', '0.11', '0.17', '0.5']], [['0.05', '0.27', '0.17', '0.51']], [['0.3', '0.31', '0.05', '0.21']], [['0.41', '0.36', '0.07', '0.17']], [['0.66', '0.42', '0.05', '0.07']], [['0.8', '0.39', '0.1', '0.26']], [['0.82', '0.33', '0.07', '0.16']], [['0.17', '0.38', '0.15', '0.15']], [['0.87', '0.38', '0.05', '0.1']], [['0.83', '0.38', '0.08', '0.19']], [['0.37', '0.26', '0.05', '0.13']], [['0.1', '0.43', '0.13', '0.26']], [['0.71', '0.27', '0.04', '0.1']], [['0.17', '0.38', '0.06', '0.2']], [['0.29', '0.39', '0.06', '0.15']], [['0.54', '0.3', '0.05', '0.13']], [['0.78', '0.39', '0.09', '0.16']], [['0.79', '0.35', '0.07', '0.24']], [['0.35', '0.29', '0.07', '0.14']], [['0.37', '0.26', '0.06', '0.15']], [['0.19', '0.41', '0.1', '0.13']], [['0.55', '0.4', '0.05', '0.16']], [['0.33', '0.57', '0.07', '0.18'], ['0.68', '0.45', '0.05', '0.2']], [['0.55', '0.24', '0.05', '0.17']], [['0.28', '0.55', '0.06', '0.16']], [['0.46', '0.28', '0.04', '0.15']], [['0.67', '0.17', '0.04', '0.14']], [['0.17', '0.44', '0.07', '0.2']], [['0.86', '0.26', '0.05', '0.08']], [['0.39', '0.27', '0.04', '0.12']], [['0.82', '0.34', '0.06', '0.25']], [['0.1', '0.38', '0.05', '0.24']], [['0.3', '0.25', '0.05', '0.12']], [['0.74', '0.31', '0.12', '0.18']], [['0.57', '0.36', '0.07', '0.21']], [['0.62', '0.12', '0.04', '0.1']], [['0.27', '0.31', '0.08', '0.16']], [['0.55', '0.38', '0.07', '0.11'], ['0.26', '0.19', '0.05', '0.14']], [['0.76', '0.19', '0.04', '0.11']], [['0.62', '0.38', '0.05', '0.15']], [['0.12', '0.35', '0.08', '0.21'], ['0.79', '0.35', '0.04', '0.22']], [['0.09', '0.28', '0.17', '0.35']], [['0.65', '0.39', '0.1', '0.21']], [['0.76', '0.39', '0.12', '0.2']], [['0.67', '0.5', '0.06', '0.12']], [['0.36', '0.23', '0.05', '0.14']], [['0.64', '0.5', '0.12', '0.19']], [['0.81', '0.36', '0.13', '0.19']], [['0.34', '0.32', '0.06', '0.14']], [['0.03', '0.35', '0.07', '0.15'], ['0.31', '0.31', '0.04', '0.15']], [['0.49', '0.48', '0.05', '0.12']], [['0.08', '0.33', '0.19', '0.17']], [['0.39', '0.3', '0.09', '0.14']], [['0.55', '0.31', '0.07', '0.15']], [['0.26', '0.3', '0.08', '0.16']], [['0.46', '0.27', '0.05', '0.12']], [['0.58', '0.17', '0.05', '0.12']], [['0.3', '0.16', '0.04', '0.08']], [['0.58', '0.24', '0.02', '0.12'], ['0.37', '0.23', '0.02', '0.11']], [['0.5', '0.29', '0.05', '0.16']], [['0.86', '0.27', '0.07', '0.18']], [['0.54', '0.26', '0.07', '0.18']], [['0.28', '0.3', '0.08', '0.19']], [['0.9', '0.56', '0.06', '0.1']], [['0.49', '0.32', '0.04', '0.13']], [['0.58', '0.33', '0.03', '0.06']], [['0.22', '0.41', '0.04', '0.17'], ['0.54', '0.39', '0.04', '0.19']], [['0.67', '0.41', '0.07', '0.12']], [['0.56', '0.39', '0.08', '0.2']], [['0.49', '0.3', '0.06', '0.18']], [['0.55', '0.28', '0.05', '0.1']], [['0.7', '0.29', '0.05', '0.09'], ['0.35', '0.28', '0.05', '0.11']], [['0.75', '0.33', '0.05', '0.12'], ['0.17', '0.33', '0.11', '0.16']], [['0.11', '0.34', '0.14', '0.16']], [['0.75', '0.33', '0.1', '0.13']], [['0.73', '0.32', '0.1', '0.18']], [['0.34', '0.33', '0.05', '0.25'], ['0.71', '0.29', '0.07', '0.26']], [['0.21', '0.34', '0.07', '0.16'], ['0.76', '0.33', '0.09', '0.16']], [['0.7', '0.36', '0.1', '0.19']], [['0.82', '0.26', '0.08', '0.3']], [['0.55', '0.3', '0.06', '0.11']], [['0.66', '0.3', '0.03', '0.14'], ['0.23', '0.27', '0.06', '0.16']], [['0.58', '0.31', '0.05', '0.18']], [['0.29', '0.27', '0.09', '0.11']], [['0.76', '0.28', '0.06', '0.14']], [['0.91', '0.4', '0.08', '0.22']], [['0.47', '0.35', '0.06', '0.16']], [['0.12', '0.42', '0.09', '0.23']], [['0.65', '0.32', '0.06', '0.23']], [['0.44', '0.28', '0.04', '0.13']], [['0.35', '0.33', '0.03', '0.2'], ['0.66', '0.31', '0.07', '0.21']], [['0.28', '0.26', '0.08', '0.13']], [['0.14', '0.41', '0.11', '0.37']], [['0.69', '0.31', '0.06', '0.19'], ['0.25', '0.31', '0.07', '0.19']], [['0.59', '0.29', '0.07', '0.21']], [['0.28', '0.31', '0.04', '0.15'], ['0.68', '0.29', '0.08', '0.15']], [['0.23', '0.43', '0.13', '0.18']], [['0.57', '0.25', '0.06', '0.15']], [['0.71', '0.31', '0.08', '0.2']], [['0.57', '0.23', '0.07', '0.09']], [['0.64', '0.22', '0.05', '0.09']], [['0.11', '0.25', '0.13', '0.11']], [['0.65', '0.31', '0.08', '0.17']], [['0.21', '0.29', '0.15', '0.15']], [['0.3', '0.45', '0.04', '0.13'], ['0.62', '0.38', '0.04', '0.16']], [['0.6', '0.21', '0.1', '0.22']], [['0.63', '0.34', '0.07', '0.1']], [['0.36', '0.34', '0.04', '0.15']], [['0.11', '0.36', '0.11', '0.18']], [['0.62', '0.41', '0.08', '0.23']], [['0.23', '0.34', '0.06', '0.16']], [['0.48', '0.38', '0.02', '0.11'], ['0.21', '0.37', '0.05', '0.12']], [['0.75', '0.34', '0.06', '0.19']], [['0.37', '0.33', '0.05', '0.13']], [['0.2', '0.31', '0.07', '0.14']], [['0.73', '0.41', '0.12', '0.3']], [['0.2', '0.36', '0.09', '0.18']], [['0.7', '0.33', '0.09', '0.16']], [['0.32', '0.25', '0.07', '0.12']], [['0.78', '0.22', '0.05', '0.16']], [['0.89', '0.33', '0.05', '0.15']], [['0.62', '0.28', '0.05', '0.14']], [['0.24', '0.33', '0.06', '0.2']], [['0.6', '0.34', '0.07', '0.2']], [['0.39', '0.29', '0.06', '0.15']], [['0.56', '0.26', '0.05', '0.19']], [['0.72', '0.37', '0.07', '0.21']], [['0.29', '0.22', '0.06', '0.1']], [['0.17', '0.43', '0.09', '0.21']], [['0.73', '0.35', '0.16', '0.17']], [['0.34', '0.34', '0.06', '0.19']], [['0.87', '0.32', '0.07', '0.13']], [['0.87', '0.14', '0.09', '0.31']], [['0.1', '0.38', '0.08', '0.19']], [['0.86', '0.36', '0.09', '0.14']], [['0.45', '0.28', '0.03', '0.08']], [['0.36', '0.3', '0.07', '0.15']], [['0.25', '0.31', '0.05', '0.24']], [['0.09', '0.4', '0.09', '0.21']], [['0.76', '0.3', '0.11', '0.13']], [['0.66', '0.29', '0.08', '0.14']], [['0.29', '0.26', '0.07', '0.11']], [['0.04', '0.43', '0.09', '0.24']], [['0.56', '0.36', '0.08', '0.28']], [['0.76', '0.4', '0.13', '0.23']], [['0.7', '0.34', '0.11', '0.18']], [['0.59', '0.27', '0.06', '0.23']], [['0.63', '0.44', '0.09', '0.21']], [['0.28', '0.3', '0.05', '0.28'], ['0.68', '0.27', '0.06', '0.31']], [['0.34', '0.33', '0.06', '0.16']], [['0.72', '0.24', '0.08', '0.18']], [['0.1', '0.46', '0.09', '0.23']], [['0.71', '0.24', '0.11', '0.16']], [['0.76', '0.27', '0.11', '0.32']], [['0.04', '0.23', '0.08', '0.3']], [['0.16', '0.35', '0.07', '0.18'], ['0.61', '0.04', '0.04', '0.09']], [['0.62', '0.34', '0.15', '0.17']], [['0.24', '0.26', '0.08', '0.26']], [['0.77', '0.38', '0.08', '0.19']], [['0.85', '0.26', '0.1', '0.15']], [['0.55', '0.21', '0.08', '0.1']], [['0.19', '0.29', '0.12', '0.13']], [['0.32', '0.17', '0.05', '0.15']], [['0.51', '0.19', '0.09', '0.12']], [['0.94', '0.35', '0.06', '0.12']], [['0.06', '0.38', '0.08', '0.25']], [['0.69', '0.4', '0.06', '0.23']], [['0.65', '0.39', '0.07', '0.24']], [['0.62', '0.27', '0.08', '0.1']], [['0.63', '0.49', '0.07', '0.23']], [['0.44', '0.24', '0.05', '0.09']], [['0.23', '0.17', '0.09', '0.34']], [['0.62', '0.37', '0.05', '0.2']], [['0.47', '0.32', '0.04', '0.16']], [['0.14', '0.3', '0.1', '0.17']], [['0.2', '0.4', '0.08', '0.26']], [['0.88', '0.29', '0.1', '0.11']], [['0.46', '0.38', '0.08', '0.18']], [['0.66', '0.47', '0.05', '0.07']], [['0.36', '0.29', '0.04', '0.12']], [['0.54', '0.3', '0.05', '0.18']], [['0.62', '0.26', '0.04', '0.14']], [['0.13', '0.33', '0.16', '0.18']], [['0.6', '0.26', '0.13', '0.15']], [['0.19', '0.42', '0.11', '0.25']], [['0.76', '0.3', '0.12', '0.25']], [['0.77', '0.32', '0.14', '0.2']], [['0.15', '0.36', '0.06', '0.16'], ['0.41', '0.21', '0.06', '0.18']], [['0.83', '0.39', '0.12', '0.19']], [['0.58', '0.28', '0.06', '0.15']], [['0.76', '0.36', '0.08', '0.16'], ['0.2', '0.31', '0.09', '0.17']], [['0.66', '0.29', '0.09', '0.28']], [['0.59', '0.33', '0.06', '0.17']], [['0.23', '0.24', '0.1', '0.11']], [['0.65', '0.42', '0.07', '0.19']], [['0.1', '0.36', '0.08', '0.17']], [['0.16', '0.25', '0.07', '0.15']], [['0.64', '0.36', '0.11', '0.2']], [['0.53', '0.12', '0.04', '0.15']], [['0.61', '0.17', '0.06', '0.1']], [['0.29', '0.26', '0.06', '0.14']], [['0.24', '0.21', '0.06', '0.13']], [['0.25', '0.34', '0.06', '0.15']], [['0.61', '0.22', '0.1', '0.11']], [['0.35', '0.3', '0.05', '0.18']], [['0.8', '0.42', '0.09', '0.15']], [['0.49', '0.37', '0.05', '0.21']], [['0.75', '0.44', '0.08', '0.23']], [['0.73', '0.32', '0.06', '0.16']], [['0.68', '0.27', '0.1', '0.15']], [['0.12', '0.33', '0.14', '0.13']], [['0.77', '0.34', '0.07', '0.23']], [['0.2', '0.31', '0.06', '0.19']], [['0.36', '0.41', '0.06', '0.2']], [['0.78', '0.09', '0.09', '0.29']], [['0.67', '0.34', '0.09', '0.26']], [['0.66', '0.23', '0.06', '0.1']], [['0.22', '0.3', '0.13', '0.17']], [['0.61', '0.36', '0.06', '0.21'], ['0.35', '0.34', '0.03', '0.21']], [['0.2', '0.28', '0.05', '0.17']], [['0.69', '0.36', '0.05', '0.13'], ['0.18', '0.36', '0.09', '0.14']], [['0.14', '0.38', '0.1', '0.26']], [['0.2', '0.24', '0.07', '0.15']], [['0.17', '0.42', '0.1', '0.3']], [['0.67', '0.3', '0.07', '0.16']], [['0.8', '0.37', '0.08', '0.22']], [['0.65', '0.44', '0.05', '0.2']], [['0.56', '0.38', '0.06', '0.18']], [['0.7', '0.34', '0.07', '0.22']], [['0.29', '0.34', '0.08', '0.18']], [['0.15', '0.4', '0.06', '0.26']], [['0.73', '0.37', '0.06', '0.12']], [['0.25', '0.39', '0.04', '0.23'], ['0.61', '0.34', '0.07', '0.25']], [['0.7', '0.31', '0.1', '0.14']], [['0.26', '0.34', '0.07', '0.15']], [['0.54', '0.33', '0.11', '0.13']], [['0.67', '0.3', '0.07', '0.2']], [['0.23', '0.35', '0.06', '0.14']], [['0.71', '0.44', '0.08', '0.18']], [['0.17', '0.36', '0.11', '0.27']], [['0.46', '0.38', '0.04', '0.27'], ['0.15', '0.36', '0.06', '0.28']], [['0.34', '0.35', '0.06', '0.19'], ['0.62', '0.28', '0.05', '0.2']], [['0.21', '0.3', '0.1', '0.17']], [['0.76', '0.19', '0.11', '0.37']], [['0.68', '0.39', '0.08', '0.28']], [['0.64', '0.2', '0.06', '0.15']], [['0.5', '0.34', '0.03', '0.1']], [['0.25', '0.38', '0.05', '0.16']], [['0.57', '0.33', '0.06', '0.2']], [['0.73', '0.29', '0.03', '0.1'], ['0.24', '0.18', '0.03', '0.1']], [['0.85', '0.34', '0.08', '0.26']], [['0.72', '0.31', '0.08', '0.25']], [['0.24', '0.23', '0.07', '0.14']], [['0.66', '0.42', '0.09', '0.21']], [['0.44', '0.21', '0.04', '0.23']], [['0.57', '0.42', '0.14', '0.15']], [['0.62', '0.33', '0.06', '0.19']], [['0.18', '0.33', '0.1', '0.18']], [['0.62', '0.23', '0.04', '0.14']], [['0.16', '0.28', '0.1', '0.2']], [['0.46', '0.36', '0.06', '0.17']], [['0.74', '0.33', '0.11', '0.18']], [['0.7', '0.0', '0.14', '0.39']], [['0.27', '0.33', '0.07', '0.15']], [['0.33', '0.23', '0.04', '0.11']], [['0.71', '0.44', '0.07', '0.19']], [['0.64', '0.28', '0.07', '0.2']], [['0.68', '0.29', '0.09', '0.18']], [['0.63', '0.21', '0.05', '0.1']], [['0.81', '0.3', '0.07', '0.14']], [['0.09', '0.44', '0.05', '0.13']], [['0.54', '0.23', '0.02', '0.08'], ['0.28', '0.19', '0.04', '0.16']], [['0.78', '0.33', '0.08', '0.19']], [['0.1', '0.23', '0.12', '0.28']], [['0.73', '0.15', '0.1', '0.25']], [['0.61', '0.15', '0.03', '0.07']], [['0.59', '0.04', '0.09', '0.28']], [['0.28', '0.27', '0.1', '0.11']], [['0.61', '0.42', '0.11', '0.17']], [['0.28', '0.32', '0.05', '0.2']], [['0.14', '0.28', '0.11', '0.15']], [['0.11', '0.44', '0.18', '0.2']], [['0.29', '0.44', '0.09', '0.17']], [['0.65', '0.26', '0.05', '0.09'], ['0.37', '0.24', '0.04', '0.1']], [['0.12', '0.5', '0.15', '0.25']], [['0.68', '0.31', '0.1', '0.13'], ['0.21', '0.28', '0.04', '0.13']], [['0.63', '0.47', '0.11', '0.23']], [['0.45', '0.33', '0.06', '0.2'], ['0.11', '0.24', '0.03', '0.13']], [['0.7', '0.34', '0.12', '0.14']], [['0.75', '0.19', '0.1', '0.31']], [['0.88', '0.28', '0.11', '0.3']], [['0.28', '0.01', '0.13', '0.34']], [['0.2', '0.28', '0.04', '0.09']], [['0.21', '0.42', '0.05', '0.15']], [['0.61', '0.25', '0.06', '0.1'], ['0.04', '0.0', '0.06', '0.08']], [['0.16', '0.24', '0.09', '0.13']], [['0.23', '0.33', '0.08', '0.14']], [['0.23', '0.23', '0.06', '0.17']], [['0.35', '0.15', '0.07', '0.11']], [['0.12', '0.43', '0.05', '0.17'], ['0.65', '0.38', '0.1', '0.18']], [['0.68', '0.28', '0.09', '0.16'], ['0.26', '0.27', '0.04', '0.16']], [['0.69', '0.29', '0.12', '0.15']], [['0.3', '0.32', '0.06', '0.2']], [['0.71', '0.3', '0.06', '0.21']], [['0.24', '0.24', '0.04', '0.16'], ['0.49', '0.23', '0.03', '0.16']], [['0.74', '0.35', '0.06', '0.15']], [['0.28', '0.3', '0.07', '0.17']], [['0.82', '0.34', '0.04', '0.05'], ['0.39', '0.25', '0.04', '0.08']], [['0.06', '0.48', '0.06', '0.17']], [['0.62', '0.28', '0.11', '0.19']], [['0.61', '0.4', '0.08', '0.07']], [['0.71', '0.21', '0.05', '0.16'], ['0.33', '0.12', '0.05', '0.15']], [['0.17', '0.27', '0.06', '0.22']], [['0.74', '0.16', '0.04', '0.09']], [['0.32', '0.3', '0.05', '0.19']], [['0.11', '0.31', '0.14', '0.23']], [['0.14', '0.27', '0.08', '0.2']], [['0.25', '0.36', '0.09', '0.32']], [['0.65', '0.27', '0.13', '0.18']], [['0.76', '0.33', '0.14', '0.18']], [['0.1', '0.33', '0.15', '0.19']], [['0.63', '0.34', '0.13', '0.18']], [['0.58', '0.36', '0.07', '0.15']], [['0.77', '0.41', '0.1', '0.25']], [['0.38', '0.22', '0.06', '0.11']], [['0.21', '0.33', '0.09', '0.2']], [['0.18', '0.33', '0.12', '0.19']], [['0.57', '0.37', '0.03', '0.16'], ['0.87', '0.36', '0.05', '0.16']], [['0.75', '0.31', '0.12', '0.22']], [['0.12', '0.27', '0.12', '0.14']], [['0.03', '0.36', '0.12', '0.23']], [['0.49', '0.31', '0.06', '0.19']], [['0.73', '0.45', '0.12', '0.34']], [['0.66', '0.36', '0.12', '0.28']], [['0.52', '0.19', '0.06', '0.07']], [['0.69', '0.46', '0.12', '0.22']], [['0.22', '0.21', '0.03', '0.06'], ['0.72', '0.19', '0.03', '0.06']], [['0.59', '0.26', '0.12', '0.13']], [['0.36', '0.37', '0.07', '0.14']], [['0.29', '0.19', '0.08', '0.13']], [['0.6', '0.29', '0.05', '0.11']], [['0.72', '0.38', '0.07', '0.18']], [['0.74', '0.39', '0.12', '0.19']], [['0.31', '0.37', '0.08', '0.18']], [['0.09', '0.48', '0.18', '0.24']], [['0.36', '0.4', '0.1', '0.18']], [['0.58', '0.26', '0.07', '0.1']], [['0.11', '0.36', '0.09', '0.23']], [['0.57', '0.39', '0.07', '0.13']], [['0.64', '0.25', '0.05', '0.22']], [['0.75', '0.34', '0.05', '0.21'], ['0.12', '0.34', '0.11', '0.21']], [['0.84', '0.45', '0.1', '0.26']], [['0.23', '0.29', '0.08', '0.2'], ['0.66', '0.25', '0.04', '0.2']], [['0.74', '0.42', '0.13', '0.26'], ['0.1', '0.38', '0.04', '0.24']], [['0.29', '0.23', '0.03', '0.12']], [['0.09', '0.56', '0.11', '0.25']], [['0.8', '0.36', '0.12', '0.23']], [['0.7', '0.16', '0.1', '0.32']], [['0.66', '0.29', '0.07', '0.15']], [['0.75', '0.36', '0.04', '0.16']], [['0.24', '0.44', '0.11', '0.3'], ['0.88', '0.38', '0.04', '0.29']], [['0.71', '0.35', '0.1', '0.18']], [['0.16', '0.38', '0.08', '0.15']], [['0.71', '0.34', '0.07', '0.16']], [['0.67', '0.3', '0.06', '0.19']], [['0.33', '0.26', '0.1', '0.18']], [['0.28', '0.31', '0.08', '0.13']], [['0.65', '0.21', '0.04', '0.1']], [['0.05', '0.22', '0.07', '0.28']], [['0.25', '0.21', '0.04', '0.1']], [['0.68', '0.33', '0.06', '0.14'], ['0.42', '0.27', '0.04', '0.15']], [['0.56', '0.24', '0.07', '0.13']], [['0.35', '0.38', '0.14', '0.15']], [['0.7', '0.39', '0.13', '0.2']], [['0.72', '0.38', '0.1', '0.15'], ['0.36', '0.29', '0.04', '0.16']], [['0.39', '0.29', '0.09', '0.11']], [['0.52', '0.35', '0.15', '0.2']], [['0.45', '0.36', '0.14', '0.16']], [['0.55', '0.41', '0.2', '0.12']], [['0.34', '0.29', '0.06', '0.09']], [['0.27', '0.43', '0.09', '0.19']], [['0.45', '0.38', '0.09', '0.21']], [['0.68', '0.36', '0.07', '0.2']], [['0.56', '0.21', '0.08', '0.1']], [['0.67', '0.24', '0.06', '0.08'], ['0.36', '0.21', '0.04', '0.08']], [['0.56', '0.39', '0.06', '0.06'], ['0.58', '0.1', '0.05', '0.05']], [['0.28', '0.18', '0.04', '0.1']], [['0.63', '0.32', '0.05', '0.18']], [['0.18', '0.22', '0.03', '0.07'], ['0.86', '0.18', '0.04', '0.06']], [['0.82', '0.24', '0.09', '0.32']], [['0.12', '0.35', '0.16', '0.17']], [['0.73', '0.27', '0.11', '0.24']], [['0.29', '0.15', '0.06', '0.1']], [['0.74', '0.29', '0.11', '0.21']], [['0.4', '0.25', '0.04', '0.15']], [['0.57', '0.21', '0.04', '0.1']], [['0.31', '0.2', '0.07', '0.1']], [['0.18', '0.27', '0.04', '0.16']], [['0.25', '0.46', '0.1', '0.29']], [['0.87', '0.37', '0.06', '0.22']], [['0.83', '0.26', '0.06', '0.19']], [['0.06', '0.4', '0.08', '0.25']], [['0.41', '0.54', '0.04', '0.15']], [['0.18', '0.46', '0.09', '0.2']], [['0.8', '0.31', '0.06', '0.22']], [['0.24', '0.53', '0.1', '0.2']], [['0.7', '0.26', '0.14', '0.38']], [['0.6', '0.26', '0.04', '0.1']], [['0.1', '0.53', '0.17', '0.18']], [['0.64', '0.33', '0.07', '0.25']], [['0.27', '0.4', '0.09', '0.12']], [['0.53', '0.49', '0.06', '0.16']], [['0.69', '0.36', '0.05', '0.19']], [['0.3', '0.36', '0.07', '0.19']], [['0.03', '0.16', '0.13', '0.38']], [['0.42', '0.45', '0.05', '0.17'], ['0.72', '0.36', '0.07', '0.19']], [['0.65', '0.44', '0.08', '0.32'], ['0.24', '0.31', '0.07', '0.34']], [['0.77', '0.41', '0.08', '0.23']], [['0.07', '0.41', '0.15', '0.22']], [['0.89', '0.28', '0.09', '0.2']], [['0.19', '0.32', '0.06', '0.14']], [['0.69', '0.34', '0.09', '0.15']], [['0.24', '0.45', '0.08', '0.14'], ['0.73', '0.36', '0.1', '0.17']], [['0.77', '0.44', '0.08', '0.2']], [['0.75', '0.35', '0.12', '0.21']], [['0.08', '0.34', '0.15', '0.27']], [['0.38', '0.39', '0.06', '0.23']], [['0.29', '0.34', '0.06', '0.24'], ['0.65', '0.32', '0.05', '0.24']], [['0.77', '0.36', '0.13', '0.19'], ['0.16', '0.33', '0.09', '0.2']], [['0.76', '0.37', '0.07', '0.22'], ['0.18', '0.35', '0.11', '0.24']], [['0.17', '0.44', '0.08', '0.19'], ['0.73', '0.4', '0.11', '0.2']], [['0.7', '0.45', '0.13', '0.15'], ['0.17', '0.35', '0.05', '0.16']], [['0.71', '0.38', '0.14', '0.22']], [['0.25', '0.33', '0.08', '0.16']], [['0.28', '0.25', '0.08', '0.13']], [['0.13', '0.39', '0.14', '0.18']], [['0.69', '0.35', '0.09', '0.17']], [['0.68', '0.17', '0.04', '0.08'], ['0.42', '0.14', '0.03', '0.08']], [['0.24', '0.42', '0.06', '0.21'], ['0.61', '0.37', '0.05', '0.23']], [['0.78', '0.36', '0.11', '0.17']], [['0.65', '0.31', '0.06', '0.14']], [['0.65', '0.27', '0.08', '0.12']], [['0.58', '0.36', '0.05', '0.17']], [['0.77', '0.35', '0.11', '0.18']], [['0.2', '0.28', '0.06', '0.22']], [['0.19', '0.35', '0.05', '0.18']], [['0.25', '0.14', '0.06', '0.39'], ['0.73', '0.09', '0.06', '0.41']], [['0.17', '0.29', '0.05', '0.21']], [['0.37', '0.19', '0.04', '0.1'], ['0.7', '0.18', '0.03', '0.1']], [['0.6', '0.53', '0.06', '0.06'], ['0.1', '0.16', '0.08', '0.12']], [['0.62', '0.33', '0.07', '0.18']], [['0.55', '0.31', '0.06', '0.15']], [['0.7', '0.21', '0.08', '0.23']], [['0.04', '0.43', '0.14', '0.24']], [['0.7', '0.24', '0.21', '0.22']], [['0.54', '0.28', '0.06', '0.18']], [['0.15', '0.43', '0.06', '0.16'], ['0.41', '0.38', '0.02', '0.15']], [['0.58', '0.38', '0.09', '0.25']], [['0.63', '0.38', '0.09', '0.22']], [['0.64', '0.36', '0.03', '0.13'], ['0.43', '0.33', '0.04', '0.14']], [['0.35', '0.27', '0.04', '0.1']], [['0.75', '0.31', '0.09', '0.19'], ['0.23', '0.31', '0.05', '0.18']], [['0.33', '0.37', '0.06', '0.17']], [['0.16', '0.33', '0.09', '0.19']], [['0.65', '0.31', '0.11', '0.18']], [['0.24', '0.28', '0.1', '0.13'], ['0.72', '0.26', '0.04', '0.13']], [['0.09', '0.33', '0.14', '0.17']], [['0.68', '0.34', '0.08', '0.21'], ['0.35', '0.28', '0.04', '0.22']], [['0.15', '0.33', '0.11', '0.21']], [['0.74', '0.31', '0.13', '0.23']], [['0.31', '0.32', '0.06', '0.23']], [['0.31', '0.26', '0.11', '0.16']], [['0.26', '0.31', '0.12', '0.13']], [['0.57', '0.21', '0.05', '0.13']], [['0.33', '0.28', '0.07', '0.19']], [['0.81', '0.14', '0.16', '0.43']], [['0.66', '0.42', '0.12', '0.27']], [['0.84', '0.33', '0.04', '0.16'], ['0.57', '0.33', '0.04', '0.16']], [['0.23', '0.43', '0.13', '0.32']], [['0.44', '0.36', '0.08', '0.18']], [['0.58', '0.31', '0.06', '0.15']], [['0.37', '0.3', '0.05', '0.18']], [['0.26', '0.27', '0.06', '0.12']], [['0.21', '0.34', '0.05', '0.24']], [['0.68', '0.34', '0.05', '0.17']], [['0.33', '0.25', '0.04', '0.08']], [['0.65', '0.28', '0.08', '0.15']], [['0.68', '0.38', '0.05', '0.16']], [['0.2', '0.3', '0.04', '0.11'], ['0.7', '0.27', '0.07', '0.15']], [['0.22', '0.15', '0.07', '0.21']], [['0.59', '0.28', '0.1', '0.27']], [['0.18', '0.31', '0.03', '0.1']], [['0.64', '0.35', '0.05', '0.15']], [['0.11', '0.21', '0.13', '0.38']], [['0.64', '0.23', '0.13', '0.16']], [['0.29', '0.3', '0.07', '0.17']], [['0.13', '0.28', '0.11', '0.33']], [['0.61', '0.35', '0.04', '0.18'], ['0.26', '0.34', '0.06', '0.18']]]\n"
          ]
        },
        {
          "output_type": "error",
          "ename": "ValueError",
          "evalue": "ignored",
          "traceback": [
            "\u001b[0;31m---------------------------------------------------------------------------\u001b[0m",
            "\u001b[0;31mValueError\u001b[0m                                Traceback (most recent call last)",
            "\u001b[0;32m<ipython-input-103-42d888bb1697>\u001b[0m in \u001b[0;36m<module>\u001b[0;34m()\u001b[0m\n\u001b[1;32m      8\u001b[0m \u001b[0;31m# Train the model\u001b[0m\u001b[0;34m\u001b[0m\u001b[0;34m\u001b[0m\u001b[0;34m\u001b[0m\u001b[0m\n\u001b[1;32m      9\u001b[0m \u001b[0mprint\u001b[0m\u001b[0;34m(\u001b[0m\u001b[0my_train\u001b[0m\u001b[0;34m)\u001b[0m\u001b[0;34m\u001b[0m\u001b[0;34m\u001b[0m\u001b[0m\n\u001b[0;32m---> 10\u001b[0;31m \u001b[0mhistory\u001b[0m \u001b[0;34m=\u001b[0m \u001b[0mmodel\u001b[0m\u001b[0;34m.\u001b[0m\u001b[0mfit\u001b[0m\u001b[0;34m(\u001b[0m\u001b[0;34m(\u001b[0m\u001b[0mtrain_images\u001b[0m\u001b[0;34m,\u001b[0m \u001b[0mtrain_targets\u001b[0m\u001b[0;34m)\u001b[0m\u001b[0;34m,\u001b[0m \u001b[0mvalidation_data\u001b[0m\u001b[0;34m=\u001b[0m\u001b[0;34m(\u001b[0m\u001b[0mvalidation_images\u001b[0m\u001b[0;34m,\u001b[0m \u001b[0mvalidation_targets\u001b[0m\u001b[0;34m)\u001b[0m\u001b[0;34m,\u001b[0m \u001b[0mepochs\u001b[0m\u001b[0;34m=\u001b[0m\u001b[0mepochs\u001b[0m\u001b[0;34m)\u001b[0m\u001b[0;34m\u001b[0m\u001b[0;34m\u001b[0m\u001b[0m\n\u001b[0m",
            "\u001b[0;32m/usr/local/lib/python3.7/dist-packages/keras/utils/traceback_utils.py\u001b[0m in \u001b[0;36merror_handler\u001b[0;34m(*args, **kwargs)\u001b[0m\n\u001b[1;32m     65\u001b[0m     \u001b[0;32mexcept\u001b[0m \u001b[0mException\u001b[0m \u001b[0;32mas\u001b[0m \u001b[0me\u001b[0m\u001b[0;34m:\u001b[0m  \u001b[0;31m# pylint: disable=broad-except\u001b[0m\u001b[0;34m\u001b[0m\u001b[0;34m\u001b[0m\u001b[0m\n\u001b[1;32m     66\u001b[0m       \u001b[0mfiltered_tb\u001b[0m \u001b[0;34m=\u001b[0m \u001b[0m_process_traceback_frames\u001b[0m\u001b[0;34m(\u001b[0m\u001b[0me\u001b[0m\u001b[0;34m.\u001b[0m\u001b[0m__traceback__\u001b[0m\u001b[0;34m)\u001b[0m\u001b[0;34m\u001b[0m\u001b[0;34m\u001b[0m\u001b[0m\n\u001b[0;32m---> 67\u001b[0;31m       \u001b[0;32mraise\u001b[0m \u001b[0me\u001b[0m\u001b[0;34m.\u001b[0m\u001b[0mwith_traceback\u001b[0m\u001b[0;34m(\u001b[0m\u001b[0mfiltered_tb\u001b[0m\u001b[0;34m)\u001b[0m \u001b[0;32mfrom\u001b[0m \u001b[0;32mNone\u001b[0m\u001b[0;34m\u001b[0m\u001b[0;34m\u001b[0m\u001b[0m\n\u001b[0m\u001b[1;32m     68\u001b[0m     \u001b[0;32mfinally\u001b[0m\u001b[0;34m:\u001b[0m\u001b[0;34m\u001b[0m\u001b[0;34m\u001b[0m\u001b[0m\n\u001b[1;32m     69\u001b[0m       \u001b[0;32mdel\u001b[0m \u001b[0mfiltered_tb\u001b[0m\u001b[0;34m\u001b[0m\u001b[0;34m\u001b[0m\u001b[0m\n",
            "\u001b[0;32m/usr/local/lib/python3.7/dist-packages/keras/engine/data_adapter.py\u001b[0m in \u001b[0;36mselect_data_adapter\u001b[0;34m(x, y)\u001b[0m\n\u001b[1;32m    989\u001b[0m         \u001b[0;34m\"Failed to find data adapter that can handle \"\u001b[0m\u001b[0;34m\u001b[0m\u001b[0;34m\u001b[0m\u001b[0m\n\u001b[1;32m    990\u001b[0m         \"input: {}, {}\".format(\n\u001b[0;32m--> 991\u001b[0;31m             _type_name(x), _type_name(y)))\n\u001b[0m\u001b[1;32m    992\u001b[0m   \u001b[0;32melif\u001b[0m \u001b[0mlen\u001b[0m\u001b[0;34m(\u001b[0m\u001b[0madapter_cls\u001b[0m\u001b[0;34m)\u001b[0m \u001b[0;34m>\u001b[0m \u001b[0;36m1\u001b[0m\u001b[0;34m:\u001b[0m\u001b[0;34m\u001b[0m\u001b[0;34m\u001b[0m\u001b[0m\n\u001b[1;32m    993\u001b[0m     raise RuntimeError(\n",
            "\u001b[0;31mValueError\u001b[0m: Failed to find data adapter that can handle input: (<class 'tuple'> containing values of types {\"<class 'numpy.ndarray'>\", '(<class \\'list\\'> containing values of types {\"<class \\'function\\'>\"})'}), <class 'NoneType'>"
          ]
        }
      ]
    },
    {
      "cell_type": "code",
      "source": [
        "# #create the common input layer\n",
        "# input_shape = (height, width, 1)\n",
        "# input_layer = tf.keras.layers.Input(input_shape)\n",
        "# labels = layers.Input(name=\"label\", shape=(None,), dtype=\"float32\")\n",
        "\n",
        "# #create the base layers\n",
        "# base_layers = layers.Conv2D(16, (3, 3), padding='same', activation='relu', name='bl_1')(input_layer)\n",
        "# base_layers = layers.MaxPooling2D((2, 2), name='bl_2')(base_layers)\n",
        "# base_layers = layers.Conv2D(32, (3, 3), padding='same', activation='relu', name='bl_3')(base_layers)\n",
        "# base_layers = layers.MaxPooling2D((2, 2), name='bl_4')(base_layers)\n",
        "# base_layers = layers.Conv2D(64, (3, 3), padding='same', activation='relu', name='bl_5')(base_layers)\n",
        "# base_layers = layers.MaxPooling2D((2, 2), name='bl_6')(base_layers)\n",
        "# base_layers = layers.Flatten(name='bl_7')(base_layers)"
      ],
      "metadata": {
        "id": "Grd7iZAbG60s"
      },
      "execution_count": null,
      "outputs": []
    },
    {
      "cell_type": "code",
      "source": [
        "# #create the localiser branch\n",
        "# locator_branch = layers.Dense(128, activation='relu', name='bb_1')(base_layers)\n",
        "# locator_branch = layers.Dense(64, activation='relu', name='bb_2')(locator_branch)\n",
        "# locator_branch = layers.Dense(32, activation='relu', name='bb_3')(locator_branch)\n",
        "# locator_branch = layers.Dense(4, activation='sigmoid', name='bb_head')(locator_branch)"
      ],
      "metadata": {
        "id": "pJQW-yHDHA3c"
      },
      "execution_count": null,
      "outputs": []
    },
    {
      "cell_type": "code",
      "source": [
        "# model = tf.keras.Model(input_layer, outputs=locator_branch)"
      ],
      "metadata": {
        "id": "kmvFqGsEHEKd"
      },
      "execution_count": null,
      "outputs": []
    },
    {
      "cell_type": "code",
      "source": [
        "# INIT_LR = 1e-4\n",
        "# NUM_EPOCHS = 55\n",
        "# BATCH_SIZE = 15\n",
        "\n",
        "# opt = tf.keras.optimizers.Adam()\n",
        "# losses = {\"bb_head\":tf.keras.losses.MSE}\n",
        "\n",
        "# model.compile(loss=tf.keras.losses.MSE, optimizer='Adam', metrics=['accuracy'])\n",
        "\n",
        "# trainTargets = {\n",
        "#     \"bb_head\": train_targets\n",
        "# }\n",
        "# validationTargets = {\n",
        "#     \"bb_head\": validation_targets\n",
        "# }"
      ],
      "metadata": {
        "id": "JfYfN4ttHJKu"
      },
      "execution_count": null,
      "outputs": []
    },
    {
      "cell_type": "code",
      "source": [
        "# history = model.fit(train_images, train_targets, validation_data=(validation_images, validation_targets), batch_size=BATCH_SIZE, epochs=NUM_EPOCHS, shuffle=True, verbose=1)"
      ],
      "metadata": {
        "id": "hY1G5RdxHfpE"
      },
      "execution_count": null,
      "outputs": []
    },
    {
      "cell_type": "code",
      "source": [
        "img = cv2.resize(cv2.imread('/content/drive/MyDrive/biomet/awe/data/ears/adam.jpg'), (width, height)) / 255\n",
        "pred = model.predict(np.array([img]))[0] * 1200 //1\n",
        "\n",
        "pred"
      ],
      "metadata": {
        "id": "nTUOsEOwoKTb"
      },
      "execution_count": null,
      "outputs": []
    },
    {
      "cell_type": "code",
      "source": [
        "history.history['val_accuracy']"
      ],
      "metadata": {
        "id": "vnmdzBztrAPI"
      },
      "execution_count": null,
      "outputs": []
    },
    {
      "cell_type": "code",
      "source": [
        "sentences = tf.constant(\n",
        "    ['What makes you think she is a witch?',\n",
        "     'She turned me into a newt.',\n",
        "     'A newt?',\n",
        "     'Well, I got better.'])\n",
        "is_question = tf.constant([True, False, True, False])\n",
        "\n",
        "# Preprocess the input strings.\n",
        "hash_buckets = 1000\n",
        "words = tf.strings.split(sentences, ' ')\n",
        "hashed_words = tf.strings.to_hash_bucket_fast(words, hash_buckets)\n",
        "print(hashed_words)"
      ],
      "metadata": {
        "colab": {
          "base_uri": "https://localhost:8080/"
        },
        "id": "YmKlJTbsZ1Ib",
        "outputId": "99116d9f-8b28-422b-f3b8-3f3578b980d0"
      },
      "execution_count": null,
      "outputs": [
        {
          "output_type": "stream",
          "name": "stdout",
          "text": [
            "<tf.RaggedTensor [[940, 203, 668, 387, 790, 320, 939, 185], [315, 515, 791, 181, 939, 787], [564, 205], [820, 180, 993, 739]]>\n"
          ]
        }
      ]
    },
    {
      "cell_type": "code",
      "source": [
        "train_targets = tf.ragged.constant(y_train)\n",
        "print(train_targets)"
      ],
      "metadata": {
        "colab": {
          "base_uri": "https://localhost:8080/"
        },
        "id": "KO__4kDzbXt0",
        "outputId": "37261dc5-9f41-4e3b-bea4-814cd0cfe62f"
      },
      "execution_count": null,
      "outputs": [
        {
          "output_type": "stream",
          "name": "stdout",
          "text": [
            "<tf.RaggedTensor [[[b'0.34', b'0.6', b'0.05', b'0.17']], [[b'0.65', b'0.18', b'0.04', b'0.1']], [[b'0.48', b'0.23', b'0.03', b'0.09']], [[b'0.61', b'0.35', b'0.06', b'0.14']], [[b'0.19', b'0.31', b'0.13', b'0.15']], [[b'0.58', b'0.21', b'0.07', b'0.13']], [[b'0.32', b'0.38', b'0.07', b'0.19']], [[b'0.62', b'0.32', b'0.06', b'0.21']], [[b'0.35', b'0.32', b'0.06', b'0.18']], [[b'0.88', b'0.42', b'0.07', b'0.14'], [b'0.1', b'0.33', b'0.16', b'0.25']], [[b'0.25', b'0.34', b'0.04', b'0.16'], [b'0.57', b'0.29', b'0.07', b'0.18']], [[b'0.27', b'0.3', b'0.07', b'0.14'], [b'0.63', b'0.26', b'0.05', b'0.14']], [[b'0.2', b'0.35', b'0.08', b'0.22'], [b'0.57', b'0.29', b'0.05', b'0.22']], [[b'0.25', b'0.32', b'0.09', b'0.16'], [b'0.68', b'0.23', b'0.09', b'0.18']], [[b'0.66', b'0.4', b'0.06', b'0.24'], [b'0.36', b'0.31', b'0.05', b'0.25']], [[b'0.64', b'0.33', b'0.06', b'0.16'], [b'0.41', b'0.28', b'0.03', b'0.16']], [[b'0.3', b'0.41', b'0.05', b'0.13'], [b'0.65', b'0.34', b'0.09', b'0.16']], [[b'0.63', b'0.24', b'0.11', b'0.11']], [[b'0.65', b'0.3', b'0.11', b'0.11']], [[b'0.29', b'0.35', b'0.05', b'0.18']], [[b'0.19', b'0.31', b'0.1', b'0.15']], [[b'0.24', b'0.21', b'0.11', b'0.11']], [[b'0.68', b'0.43', b'0.11', b'0.23']], [[b'0.29', b'0.39', b'0.11', b'0.26']], [[b'0.71', b'0.41', b'0.04', b'0.17'], [b'0.4', b'0.37', b'0.06', b'0.23']], [[b'0.81', b'0.37', b'0.05', b'0.17']], [[b'0.27', b'0.01', b'0.1', b'0.24']], [[b'0.61', b'0.17', b'0.04', b'0.08']], [[b'0.61', b'0.29', b'0.04', b'0.11']], [[b'0.62', b'0.28', b'0.05', b'0.14']], [[b'0.67', b'0.36', b'0.13', b'0.13']], [[b'0.66', b'0.39', b'0.05', b'0.2'], [b'0.3', b'0.37', b'0.06', b'0.21']], [[b'0.42', b'0.22', b'0.08', b'0.09']], [[b'0.6', b'0.23', b'0.03', b'0.12']], [[b'0.37', b'0.39', b'0.06', b'0.15']], [[b'0.34', b'0.26', b'0.06', b'0.18']], [[b'0.75', b'0.23', b'0.03', b'0.07'], [b'0.31', b'0.15', b'0.08', b'0.08']], [[b'0.67', b'0.34', b'0.11', b'0.25']], [[b'0.67', b'0.19', b'0.08', b'0.28']], [[b'0.61', b'0.32', b'0.16', b'0.15']], [[b'0.23', b'0.36', b'0.07', b'0.14'], [b'0.71', b'0.33', b'0.03', b'0.15']], [[b'0.78', b'0.33', b'0.06', b'0.18']], [[b'0.59', b'0.44', b'0.16', b'0.22']], [[b'0.68', b'0.35', b'0.1', b'0.24']], [[b'0.82', b'0.4', b'0.1', b'0.13']], [[b'0.1', b'0.28', b'0.15', b'0.19']], [[b'0.12', b'0.25', b'0.05', b'0.11']], [[b'0.24', b'0.39', b'0.05', b'0.15'], [b'0.71', b'0.39', b'0.09', b'0.15']], [[b'0.79', b'0.33', b'0.15', b'0.19']], [[b'0.14', b'0.34', b'0.15', b'0.14']], [[b'0.35', b'0.38', b'0.05', b'0.15']], [[b'0.74', b'0.38', b'0.07', b'0.16']], [[b'0.63', b'0.49', b'0.07', b'0.13']], [[b'0.82', b'0.34', b'0.07', b'0.15']], [[b'0.2', b'0.42', b'0.08', b'0.13']], [[b'0.75', b'0.38', b'0.11', b'0.21']], [[b'0.14', b'0.33', b'0.11', b'0.27']], [[b'0.56', b'0.37', b'0.11', b'0.13']], [[b'0.54', b'0.33', b'0.06', b'0.14']], [[b'0.36', b'0.21', b'0.04', b'0.13']], [[b'0.2', b'0.31', b'0.06', b'0.2']], [[b'0.53', b'0.42', b'0.06', b'0.23']], [[b'0.76', b'0.33', b'0.13', b'0.19']], [[b'0.35', b'0.2', b'0.04', b'0.08'], [b'0.51', b'0.17', b'0.07', b'0.13']], [[b'0.65', b'0.45', b'0.06', b'0.23']], [[b'0.74', b'0.28', b'0.05', b'0.18']], [[b'0.5', b'0.36', b'0.05', b'0.18']], [[b'0.7', b'0.49', b'0.06', b'0.17']], [[b'0.16', b'0.41', b'0.09', b'0.17']], [[b'0.67', b'0.18', b'0.14', b'0.4']], [[b'0.06', b'0.41', b'0.24', b'0.36']], [[b'0.13', b'0.21', b'0.08', b'0.17']], [[b'0.28', b'0.33', b'0.07', b'0.15'], [b'0.64', b'0.31', b'0.05', b'0.16']], [[b'0.19', b'0.27', b'0.08', b'0.19']], [[b'0.68', b'0.39', b'0.09', b'0.23']], [[b'0.17', b'0.28', b'0.09', b'0.29'], [b'0.71', b'0.19', b'0.04', b'0.3']], [[b'0.7', b'0.29', b'0.05', b'0.16']], [[b'0.28', b'0.37', b'0.08', b'0.23']], [[b'0.11', b'0.38', b'0.07', b'0.14']], [[b'0.23', b'0.25', b'0.09', b'0.09']], [[b'0.78', b'0.36', b'0.07', b'0.16']], [[b'0.64', b'0.44', b'0.08', b'0.14']], [[b'0.29', b'0.46', b'0.11', b'0.2']], [[b'0.56', b'0.24', b'0.11', b'0.1']], [[b'0.57', b'0.34', b'0.05', b'0.11']], [[b'0.18', b'0.12', b'0.16', b'0.4']], [[b'0.72', b'0.42', b'0.07', b'0.16']], [[b'0.7', b'0.21', b'0.09', b'0.37']], [[b'0.73', b'0.3', b'0.1', b'0.21']], [[b'0.66', b'0.28', b'0.11', b'0.14']], [[b'0.62', b'0.41', b'0.09', b'0.17']], [[b'0.69', b'0.33', b'0.11', b'0.2']], [[b'0.27', b'0.4', b'0.1', b'0.21']], [[b'0.54', b'0.26', b'0.02', b'0.07']], [[b'0.34', b'0.14', b'0.04', b'0.11']], [[b'0.69', b'0.51', b'0.04', b'0.18']], [[b'0.16', b'0.24', b'0.07', b'0.16']], [[b'0.64', b'0.29', b'0.07', b'0.15']], [[b'0.56', b'0.59', b'0.07', b'0.13']], [[b'0.61', b'0.34', b'0.1', b'0.22']], [[b'0.71', b'0.28', b'0.11', b'0.29']], [[b'0.15', b'0.33', b'0.12', b'0.16']], [[b'0.26', b'0.33', b'0.04', b'0.13']], [[b'0.28', b'0.35', b'0.08', b'0.19']], [[b'0.69', b'0.29', b'0.04', b'0.12']], [[b'0.57', b'0.27', b'0.06', b'0.11']], [[b'0.66', b'0.24', b'0.09', b'0.23']], [[b'0.73', b'0.34', b'0.08', b'0.25']], [[b'0.19', b'0.48', b'0.1', b'0.14']], [[b'0.27', b'0.36', b'0.05', b'0.17']], [[b'0.63', b'0.33', b'0.06', b'0.17']], [[b'0.74', b'0.43', b'0.05', b'0.12']], [[b'0.18', b'0.31', b'0.07', b'0.18']], [[b'0.08', b'0.32', b'0.05', b'0.13']], [[b'0.59', b'0.34', b'0.04', b'0.17']], [[b'0.48', b'0.29', b'0.12', b'0.28']], [[b'0.69', b'0.45', b'0.1', b'0.25']], [[b'0.38', b'0.41', b'0.09', b'0.24']], [[b'0.65', b'0.29', b'0.07', b'0.14']], [[b'0.41', b'0.24', b'0.07', b'0.25']], [[b'0.49', b'0.23', b'0.07', b'0.18']], [[b'0.79', b'0.27', b'0.08', b'0.12']], [[b'0.53', b'0.29', b'0.06', b'0.21']], [[b'0.31', b'0.28', b'0.04', b'0.07']], [[b'0.64', b'0.28', b'0.03', b'0.1']], [[b'0.64', b'0.47', b'0.05', b'0.19']], [[b'0.06', b'0.36', b'0.06', b'0.15']], [[b'0.16', b'0.47', b'0.11', b'0.28']], [[b'0.2', b'0.4', b'0.07', b'0.21']], [[b'0.63', b'0.34', b'0.05', b'0.17']], [[b'0.79', b'0.46', b'0.06', b'0.23']], [[b'0.22', b'0.31', b'0.07', b'0.16'], [b'0.8', b'0.24', b'0.12', b'0.17']], [[b'0.28', b'0.48', b'0.08', b'0.17']], [[b'0.57', b'0.37', b'0.04', b'0.12']], [[b'0.35', b'0.35', b'0.06', b'0.11']], [[b'0.74', b'0.33', b'0.04', b'0.11'], [b'0.23', b'0.32', b'0.07', b'0.15']], [[b'0.31', b'0.45', b'0.08', b'0.21']], [[b'0.59', b'0.42', b'0.04', b'0.13']], [[b'0.1', b'0.42', b'0.12', b'0.31'], [b'0.69', b'0.24', b'0.07', b'0.33']], [[b'0.41', b'0.21', b'0.04', b'0.1']], [[b'0.28', b'0.35', b'0.07', b'0.18']], [[b'0.65', b'0.17', b'0.07', b'0.08']], [[b'0.23', b'0.18', b'0.04', b'0.08']], [[b'0.81', b'0.36', b'0.05', b'0.18']], [[b'0.32', b'0.3', b'0.04', b'0.17']], [[b'0.64', b'0.1', b'0.07', b'0.24']], [[b'0.76', b'0.19', b'0.03', b'0.06']], [[b'0.82', b'0.21', b'0.08', b'0.24']], [[b'0.31', b'0.32', b'0.06', b'0.13']], [[b'0.28', b'0.31', b'0.08', b'0.17']], [[b'0.29', b'0.28', b'0.06', b'0.12'], [b'0.64', b'0.24', b'0.03', b'0.13']], [[b'0.31', b'0.26', b'0.04', b'0.16']], [[b'0.62', b'0.24', b'0.08', b'0.14']], [[b'0.7', b'0.18', b'0.09', b'0.11']], [[b'0.16', b'0.3', b'0.1', b'0.13']], [[b'0.39', b'0.47', b'0.06', b'0.16']], [[b'0.43', b'0.23', b'0.02', b'0.09'], [b'0.57', b'0.18', b'0.03', b'0.1']], [[b'0.63', b'0.16', b'0.05', b'0.1']], [[b'0.27', b'0.24', b'0.07', b'0.16']], [[b'0.35', b'0.14', b'0.05', b'0.07']], [[b'0.68', b'0.33', b'0.09', b'0.2']], [[b'0.25', b'0.23', b'0.04', b'0.14']], [[b'0.47', b'0.31', b'0.06', b'0.19']], [[b'0.66', b'0.24', b'0.04', b'0.09'], [b'0.5', b'0.19', b'0.02', b'0.1']], [[b'0.24', b'0.45', b'0.05', b'0.2'], [b'0.61', b'0.37', b'0.07', b'0.22']], [[b'0.24', b'0.33', b'0.08', b'0.18']], [[b'0.34', b'0.38', b'0.06', b'0.17']], [[b'0.45', b'0.32', b'0.04', b'0.17'], [b'0.78', b'0.31', b'0.03', b'0.18']], [[b'0.69', b'0.28', b'0.11', b'0.16']], [[b'0.18', b'0.39', b'0.09', b'0.22']], [[b'0.83', b'0.28', b'0.1', b'0.18']], [[b'0.06', b'0.39', b'0.1', b'0.22']], [[b'0.75', b'0.3', b'0.12', b'0.2']], [[b'0.74', b'0.3', b'0.1', b'0.18']], [[b'0.17', b'0.32', b'0.1', b'0.16']], [[b'0.27', b'0.36', b'0.09', b'0.2']], [[b'0.8', b'0.3', b'0.06', b'0.18']], [[b'0.83', b'0.38', b'0.07', b'0.18']], [[b'0.2', b'0.23', b'0.1', b'0.31']], [[b'0.63', b'0.39', b'0.06', b'0.16']], [[b'0.68', b'0.34', b'0.07', b'0.13']], [[b'0.47', b'0.47', b'0.08', b'0.14']], [[b'0.29', b'0.28', b'0.07', b'0.1']], [[b'0.63', b'0.33', b'0.05', b'0.14']], [[b'0.68', b'0.52', b'0.11', b'0.23']], [[b'0.8', b'0.3', b'0.14', b'0.14']], [[b'0.33', b'0.25', b'0.08', b'0.13']], [[b'0.66', b'0.36', b'0.09', b'0.2']], [[b'0.32', b'0.45', b'0.07', b'0.2'], [b'0.64', b'0.42', b'0.06', b'0.21']], [[b'0.36', b'0.18', b'0.05', b'0.18']], [[b'0.35', b'0.19', b'0.07', b'0.08']], [[b'0.61', b'0.44', b'0.05', b'0.07']], [[b'0.54', b'0.29', b'0.06', b'0.17']], [[b'0.64', b'0.26', b'0.11', b'0.17']], [[b'0.31', b'0.3', b'0.07', b'0.11']], [[b'0.52', b'0.34', b'0.05', b'0.1']], [[b'0.19', b'0.43', b'0.12', b'0.17']], [[b'0.05', b'0.32', b'0.13', b'0.28']], [[b'0.6', b'0.27', b'0.06', b'0.13']], [[b'0.16', b'0.31', b'0.11', b'0.12']], [[b'0.34', b'0.34', b'0.07', b'0.14']], [[b'0.49', b'0.34', b'0.02', b'0.22'], [b'0.17', b'0.33', b'0.04', b'0.22']], [[b'0.74', b'0.32', b'0.05', b'0.17']], [[b'0.65', b'0.25', b'0.04', b'0.13']], [[b'0.45', b'0.28', b'0.04', b'0.13']], [[b'0.07', b'0.39', b'0.14', b'0.36']], [[b'0.56', b'0.24', b'0.03', b'0.13']], [[b'0.74', b'0.34', b'0.09', b'0.12']], [[b'0.18', b'0.24', b'0.04', b'0.16']], [[b'0.25', b'0.25', b'0.12', b'0.14']], [[b'0.57', b'0.29', b'0.08', b'0.15']], [[b'0.73', b'0.29', b'0.06', b'0.23']], [[b'0.78', b'0.31', b'0.11', b'0.21']], [[b'0.19', b'0.32', b'0.1', b'0.24']], [[b'0.34', b'0.31', b'0.04', b'0.12'], [b'0.7', b'0.29', b'0.06', b'0.13']], [[b'0.74', b'0.37', b'0.07', b'0.18']], [[b'0.59', b'0.29', b'0.04', b'0.13'], [b'0.15', b'0.27', b'0.06', b'0.13']], [[b'0.58', b'0.25', b'0.05', b'0.12']], [[b'0.71', b'0.36', b'0.05', b'0.2']], [[b'0.22', b'0.44', b'0.08', b'0.17']], [[b'0.7', b'0.37', b'0.06', b'0.19'], [b'0.26', b'0.33', b'0.06', b'0.2']], [[b'0.7', b'0.41', b'0.06', b'0.15']], [[b'0.31', b'0.3', b'0.04', b'0.15']], [[b'0.32', b'0.34', b'0.06', b'0.23']], [[b'0.66', b'0.3', b'0.07', b'0.12']], [[b'0.16', b'0.24', b'0.08', b'0.14']], [[b'0.11', b'0.22', b'0.12', b'0.17']], [[b'0.3', b'0.14', b'0.05', b'0.08']], [[b'0.35', b'0.33', b'0.03', b'0.17'], [b'0.57', b'0.32', b'0.03', b'0.17']], [[b'0.61', b'0.38', b'0.06', b'0.19']], [[b'0.74', b'0.3', b'0.1', b'0.23']], [[b'0.25', b'0.29', b'0.05', b'0.13']], [[b'0.86', b'0.32', b'0.12', b'0.19']], [[b'0.84', b'0.33', b'0.14', b'0.41']], [[b'0.28', b'0.26', b'0.08', b'0.13']], [[b'0.69', b'0.24', b'0.08', b'0.19']], [[b'0.75', b'0.3', b'0.08', b'0.19']], [[b'0.1', b'0.38', b'0.15', b'0.2']], [[b'0.22', b'0.39', b'0.08', b'0.25']], [[b'0.29', b'0.22', b'0.03', b'0.07']], [[b'0.89', b'0.36', b'0.11', b'0.24']], [[b'0.6', b'0.27', b'0.06', b'0.11']], [[b'0.14', b'0.51', b'0.06', b'0.21'], [b'0.56', b'0.42', b'0.07', b'0.22']], [[b'0.35', b'0.27', b'0.07', b'0.11']], [[b'0.66', b'0.25', b'0.08', b'0.11']], [[b'0.11', b'0.32', b'0.1', b'0.15']], [[b'0.0', b'0.06', b'0.15', b'0.36']], [[b'0.59', b'0.38', b'0.04', b'0.06']], [[b'0.62', b'0.24', b'0.05', b'0.11']], [[b'0.26', b'0.36', b'0.05', b'0.14'], [b'0.51', b'0.29', b'0.03', b'0.15']], [[b'0.38', b'0.25', b'0.05', b'0.16']], [[b'0.73', b'0.25', b'0.08', b'0.31']], [[b'0.74', b'0.11', b'0.17', b'0.5']], [[b'0.05', b'0.27', b'0.17', b'0.51']], [[b'0.3', b'0.31', b'0.05', b'0.21']], [[b'0.41', b'0.36', b'0.07', b'0.17']], [[b'0.66', b'0.42', b'0.05', b'0.07']], [[b'0.8', b'0.39', b'0.1', b'0.26']], [[b'0.82', b'0.33', b'0.07', b'0.16']], [[b'0.17', b'0.38', b'0.15', b'0.15']], [[b'0.87', b'0.38', b'0.05', b'0.1']], [[b'0.83', b'0.38', b'0.08', b'0.19']], [[b'0.37', b'0.26', b'0.05', b'0.13']], [[b'0.1', b'0.43', b'0.13', b'0.26']], [[b'0.71', b'0.27', b'0.04', b'0.1']], [[b'0.17', b'0.38', b'0.06', b'0.2']], [[b'0.29', b'0.39', b'0.06', b'0.15']], [[b'0.54', b'0.3', b'0.05', b'0.13']], [[b'0.78', b'0.39', b'0.09', b'0.16']], [[b'0.79', b'0.35', b'0.07', b'0.24']], [[b'0.35', b'0.29', b'0.07', b'0.14']], [[b'0.37', b'0.26', b'0.06', b'0.15']], [[b'0.19', b'0.41', b'0.1', b'0.13']], [[b'0.55', b'0.4', b'0.05', b'0.16']], [[b'0.33', b'0.57', b'0.07', b'0.18'], [b'0.68', b'0.45', b'0.05', b'0.2']], [[b'0.55', b'0.24', b'0.05', b'0.17']], [[b'0.28', b'0.55', b'0.06', b'0.16']], [[b'0.46', b'0.28', b'0.04', b'0.15']], [[b'0.67', b'0.17', b'0.04', b'0.14']], [[b'0.17', b'0.44', b'0.07', b'0.2']], [[b'0.86', b'0.26', b'0.05', b'0.08']], [[b'0.39', b'0.27', b'0.04', b'0.12']], [[b'0.82', b'0.34', b'0.06', b'0.25']], [[b'0.1', b'0.38', b'0.05', b'0.24']], [[b'0.3', b'0.25', b'0.05', b'0.12']], [[b'0.74', b'0.31', b'0.12', b'0.18']], [[b'0.57', b'0.36', b'0.07', b'0.21']], [[b'0.62', b'0.12', b'0.04', b'0.1']], [[b'0.27', b'0.31', b'0.08', b'0.16']], [[b'0.55', b'0.38', b'0.07', b'0.11'], [b'0.26', b'0.19', b'0.05', b'0.14']], [[b'0.76', b'0.19', b'0.04', b'0.11']], [[b'0.62', b'0.38', b'0.05', b'0.15']], [[b'0.12', b'0.35', b'0.08', b'0.21'], [b'0.79', b'0.35', b'0.04', b'0.22']], [[b'0.09', b'0.28', b'0.17', b'0.35']], [[b'0.65', b'0.39', b'0.1', b'0.21']], [[b'0.76', b'0.39', b'0.12', b'0.2']], [[b'0.67', b'0.5', b'0.06', b'0.12']], [[b'0.36', b'0.23', b'0.05', b'0.14']], [[b'0.64', b'0.5', b'0.12', b'0.19']], [[b'0.81', b'0.36', b'0.13', b'0.19']], [[b'0.34', b'0.32', b'0.06', b'0.14']], [[b'0.03', b'0.35', b'0.07', b'0.15'], [b'0.31', b'0.31', b'0.04', b'0.15']], [[b'0.49', b'0.48', b'0.05', b'0.12']], [[b'0.08', b'0.33', b'0.19', b'0.17']], [[b'0.39', b'0.3', b'0.09', b'0.14']], [[b'0.55', b'0.31', b'0.07', b'0.15']], [[b'0.26', b'0.3', b'0.08', b'0.16']], [[b'0.46', b'0.27', b'0.05', b'0.12']], [[b'0.58', b'0.17', b'0.05', b'0.12']], [[b'0.3', b'0.16', b'0.04', b'0.08']], [[b'0.58', b'0.24', b'0.02', b'0.12'], [b'0.37', b'0.23', b'0.02', b'0.11']], [[b'0.5', b'0.29', b'0.05', b'0.16']], [[b'0.86', b'0.27', b'0.07', b'0.18']], [[b'0.54', b'0.26', b'0.07', b'0.18']], [[b'0.28', b'0.3', b'0.08', b'0.19']], [[b'0.9', b'0.56', b'0.06', b'0.1']], [[b'0.49', b'0.32', b'0.04', b'0.13']], [[b'0.58', b'0.33', b'0.03', b'0.06']], [[b'0.22', b'0.41', b'0.04', b'0.17'], [b'0.54', b'0.39', b'0.04', b'0.19']], [[b'0.67', b'0.41', b'0.07', b'0.12']], [[b'0.56', b'0.39', b'0.08', b'0.2']], [[b'0.49', b'0.3', b'0.06', b'0.18']], [[b'0.55', b'0.28', b'0.05', b'0.1']], [[b'0.7', b'0.29', b'0.05', b'0.09'], [b'0.35', b'0.28', b'0.05', b'0.11']], [[b'0.75', b'0.33', b'0.05', b'0.12'], [b'0.17', b'0.33', b'0.11', b'0.16']], [[b'0.11', b'0.34', b'0.14', b'0.16']], [[b'0.75', b'0.33', b'0.1', b'0.13']], [[b'0.73', b'0.32', b'0.1', b'0.18']], [[b'0.34', b'0.33', b'0.05', b'0.25'], [b'0.71', b'0.29', b'0.07', b'0.26']], [[b'0.21', b'0.34', b'0.07', b'0.16'], [b'0.76', b'0.33', b'0.09', b'0.16']], [[b'0.7', b'0.36', b'0.1', b'0.19']], [[b'0.82', b'0.26', b'0.08', b'0.3']], [[b'0.55', b'0.3', b'0.06', b'0.11']], [[b'0.66', b'0.3', b'0.03', b'0.14'], [b'0.23', b'0.27', b'0.06', b'0.16']], [[b'0.58', b'0.31', b'0.05', b'0.18']], [[b'0.29', b'0.27', b'0.09', b'0.11']], [[b'0.76', b'0.28', b'0.06', b'0.14']], [[b'0.91', b'0.4', b'0.08', b'0.22']], [[b'0.47', b'0.35', b'0.06', b'0.16']], [[b'0.12', b'0.42', b'0.09', b'0.23']], [[b'0.65', b'0.32', b'0.06', b'0.23']], [[b'0.44', b'0.28', b'0.04', b'0.13']], [[b'0.35', b'0.33', b'0.03', b'0.2'], [b'0.66', b'0.31', b'0.07', b'0.21']], [[b'0.28', b'0.26', b'0.08', b'0.13']], [[b'0.14', b'0.41', b'0.11', b'0.37']], [[b'0.69', b'0.31', b'0.06', b'0.19'], [b'0.25', b'0.31', b'0.07', b'0.19']], [[b'0.59', b'0.29', b'0.07', b'0.21']], [[b'0.28', b'0.31', b'0.04', b'0.15'], [b'0.68', b'0.29', b'0.08', b'0.15']], [[b'0.23', b'0.43', b'0.13', b'0.18']], [[b'0.57', b'0.25', b'0.06', b'0.15']], [[b'0.71', b'0.31', b'0.08', b'0.2']], [[b'0.57', b'0.23', b'0.07', b'0.09']], [[b'0.64', b'0.22', b'0.05', b'0.09']], [[b'0.11', b'0.25', b'0.13', b'0.11']], [[b'0.65', b'0.31', b'0.08', b'0.17']], [[b'0.21', b'0.29', b'0.15', b'0.15']], [[b'0.3', b'0.45', b'0.04', b'0.13'], [b'0.62', b'0.38', b'0.04', b'0.16']], [[b'0.6', b'0.21', b'0.1', b'0.22']], [[b'0.63', b'0.34', b'0.07', b'0.1']], [[b'0.36', b'0.34', b'0.04', b'0.15']], [[b'0.11', b'0.36', b'0.11', b'0.18']], [[b'0.62', b'0.41', b'0.08', b'0.23']], [[b'0.23', b'0.34', b'0.06', b'0.16']], [[b'0.48', b'0.38', b'0.02', b'0.11'], [b'0.21', b'0.37', b'0.05', b'0.12']], [[b'0.75', b'0.34', b'0.06', b'0.19']], [[b'0.37', b'0.33', b'0.05', b'0.13']], [[b'0.2', b'0.31', b'0.07', b'0.14']], [[b'0.73', b'0.41', b'0.12', b'0.3']], [[b'0.2', b'0.36', b'0.09', b'0.18']], [[b'0.7', b'0.33', b'0.09', b'0.16']], [[b'0.32', b'0.25', b'0.07', b'0.12']], [[b'0.78', b'0.22', b'0.05', b'0.16']], [[b'0.89', b'0.33', b'0.05', b'0.15']], [[b'0.62', b'0.28', b'0.05', b'0.14']], [[b'0.24', b'0.33', b'0.06', b'0.2']], [[b'0.6', b'0.34', b'0.07', b'0.2']], [[b'0.39', b'0.29', b'0.06', b'0.15']], [[b'0.56', b'0.26', b'0.05', b'0.19']], [[b'0.72', b'0.37', b'0.07', b'0.21']], [[b'0.29', b'0.22', b'0.06', b'0.1']], [[b'0.17', b'0.43', b'0.09', b'0.21']], [[b'0.73', b'0.35', b'0.16', b'0.17']], [[b'0.34', b'0.34', b'0.06', b'0.19']], [[b'0.87', b'0.32', b'0.07', b'0.13']], [[b'0.87', b'0.14', b'0.09', b'0.31']], [[b'0.1', b'0.38', b'0.08', b'0.19']], [[b'0.86', b'0.36', b'0.09', b'0.14']], [[b'0.45', b'0.28', b'0.03', b'0.08']], [[b'0.36', b'0.3', b'0.07', b'0.15']], [[b'0.25', b'0.31', b'0.05', b'0.24']], [[b'0.09', b'0.4', b'0.09', b'0.21']], [[b'0.76', b'0.3', b'0.11', b'0.13']], [[b'0.66', b'0.29', b'0.08', b'0.14']], [[b'0.29', b'0.26', b'0.07', b'0.11']], [[b'0.04', b'0.43', b'0.09', b'0.24']], [[b'0.56', b'0.36', b'0.08', b'0.28']], [[b'0.76', b'0.4', b'0.13', b'0.23']], [[b'0.7', b'0.34', b'0.11', b'0.18']], [[b'0.59', b'0.27', b'0.06', b'0.23']], [[b'0.63', b'0.44', b'0.09', b'0.21']], [[b'0.28', b'0.3', b'0.05', b'0.28'], [b'0.68', b'0.27', b'0.06', b'0.31']], [[b'0.34', b'0.33', b'0.06', b'0.16']], [[b'0.72', b'0.24', b'0.08', b'0.18']], [[b'0.1', b'0.46', b'0.09', b'0.23']], [[b'0.71', b'0.24', b'0.11', b'0.16']], [[b'0.76', b'0.27', b'0.11', b'0.32']], [[b'0.04', b'0.23', b'0.08', b'0.3']], [[b'0.16', b'0.35', b'0.07', b'0.18'], [b'0.61', b'0.04', b'0.04', b'0.09']], [[b'0.62', b'0.34', b'0.15', b'0.17']], [[b'0.24', b'0.26', b'0.08', b'0.26']], [[b'0.77', b'0.38', b'0.08', b'0.19']], [[b'0.85', b'0.26', b'0.1', b'0.15']], [[b'0.55', b'0.21', b'0.08', b'0.1']], [[b'0.19', b'0.29', b'0.12', b'0.13']], [[b'0.32', b'0.17', b'0.05', b'0.15']], [[b'0.51', b'0.19', b'0.09', b'0.12']], [[b'0.94', b'0.35', b'0.06', b'0.12']], [[b'0.06', b'0.38', b'0.08', b'0.25']], [[b'0.69', b'0.4', b'0.06', b'0.23']], [[b'0.65', b'0.39', b'0.07', b'0.24']], [[b'0.62', b'0.27', b'0.08', b'0.1']], [[b'0.63', b'0.49', b'0.07', b'0.23']], [[b'0.44', b'0.24', b'0.05', b'0.09']], [[b'0.23', b'0.17', b'0.09', b'0.34']], [[b'0.62', b'0.37', b'0.05', b'0.2']], [[b'0.47', b'0.32', b'0.04', b'0.16']], [[b'0.14', b'0.3', b'0.1', b'0.17']], [[b'0.2', b'0.4', b'0.08', b'0.26']], [[b'0.88', b'0.29', b'0.1', b'0.11']], [[b'0.46', b'0.38', b'0.08', b'0.18']], [[b'0.66', b'0.47', b'0.05', b'0.07']], [[b'0.36', b'0.29', b'0.04', b'0.12']], [[b'0.54', b'0.3', b'0.05', b'0.18']], [[b'0.62', b'0.26', b'0.04', b'0.14']], [[b'0.13', b'0.33', b'0.16', b'0.18']], [[b'0.6', b'0.26', b'0.13', b'0.15']], [[b'0.19', b'0.42', b'0.11', b'0.25']], [[b'0.76', b'0.3', b'0.12', b'0.25']], [[b'0.77', b'0.32', b'0.14', b'0.2']], [[b'0.15', b'0.36', b'0.06', b'0.16'], [b'0.41', b'0.21', b'0.06', b'0.18']], [[b'0.83', b'0.39', b'0.12', b'0.19']], [[b'0.58', b'0.28', b'0.06', b'0.15']], [[b'0.76', b'0.36', b'0.08', b'0.16'], [b'0.2', b'0.31', b'0.09', b'0.17']], [[b'0.66', b'0.29', b'0.09', b'0.28']], [[b'0.59', b'0.33', b'0.06', b'0.17']], [[b'0.23', b'0.24', b'0.1', b'0.11']], [[b'0.65', b'0.42', b'0.07', b'0.19']], [[b'0.1', b'0.36', b'0.08', b'0.17']], [[b'0.16', b'0.25', b'0.07', b'0.15']], [[b'0.64', b'0.36', b'0.11', b'0.2']], [[b'0.53', b'0.12', b'0.04', b'0.15']], [[b'0.61', b'0.17', b'0.06', b'0.1']], [[b'0.29', b'0.26', b'0.06', b'0.14']], [[b'0.24', b'0.21', b'0.06', b'0.13']], [[b'0.25', b'0.34', b'0.06', b'0.15']], [[b'0.61', b'0.22', b'0.1', b'0.11']], [[b'0.35', b'0.3', b'0.05', b'0.18']], [[b'0.8', b'0.42', b'0.09', b'0.15']], [[b'0.49', b'0.37', b'0.05', b'0.21']], [[b'0.75', b'0.44', b'0.08', b'0.23']], [[b'0.73', b'0.32', b'0.06', b'0.16']], [[b'0.68', b'0.27', b'0.1', b'0.15']], [[b'0.12', b'0.33', b'0.14', b'0.13']], [[b'0.77', b'0.34', b'0.07', b'0.23']], [[b'0.2', b'0.31', b'0.06', b'0.19']], [[b'0.36', b'0.41', b'0.06', b'0.2']], [[b'0.78', b'0.09', b'0.09', b'0.29']], [[b'0.67', b'0.34', b'0.09', b'0.26']], [[b'0.66', b'0.23', b'0.06', b'0.1']], [[b'0.22', b'0.3', b'0.13', b'0.17']], [[b'0.61', b'0.36', b'0.06', b'0.21'], [b'0.35', b'0.34', b'0.03', b'0.21']], [[b'0.2', b'0.28', b'0.05', b'0.17']], [[b'0.69', b'0.36', b'0.05', b'0.13'], [b'0.18', b'0.36', b'0.09', b'0.14']], [[b'0.14', b'0.38', b'0.1', b'0.26']], [[b'0.2', b'0.24', b'0.07', b'0.15']], [[b'0.17', b'0.42', b'0.1', b'0.3']], [[b'0.67', b'0.3', b'0.07', b'0.16']], [[b'0.8', b'0.37', b'0.08', b'0.22']], [[b'0.65', b'0.44', b'0.05', b'0.2']], [[b'0.56', b'0.38', b'0.06', b'0.18']], [[b'0.7', b'0.34', b'0.07', b'0.22']], [[b'0.29', b'0.34', b'0.08', b'0.18']], [[b'0.15', b'0.4', b'0.06', b'0.26']], [[b'0.73', b'0.37', b'0.06', b'0.12']], [[b'0.25', b'0.39', b'0.04', b'0.23'], [b'0.61', b'0.34', b'0.07', b'0.25']], [[b'0.7', b'0.31', b'0.1', b'0.14']], [[b'0.26', b'0.34', b'0.07', b'0.15']], [[b'0.54', b'0.33', b'0.11', b'0.13']], [[b'0.67', b'0.3', b'0.07', b'0.2']], [[b'0.23', b'0.35', b'0.06', b'0.14']], [[b'0.71', b'0.44', b'0.08', b'0.18']], [[b'0.17', b'0.36', b'0.11', b'0.27']], [[b'0.46', b'0.38', b'0.04', b'0.27'], [b'0.15', b'0.36', b'0.06', b'0.28']], [[b'0.34', b'0.35', b'0.06', b'0.19'], [b'0.62', b'0.28', b'0.05', b'0.2']], [[b'0.21', b'0.3', b'0.1', b'0.17']], [[b'0.76', b'0.19', b'0.11', b'0.37']], [[b'0.68', b'0.39', b'0.08', b'0.28']], [[b'0.64', b'0.2', b'0.06', b'0.15']], [[b'0.5', b'0.34', b'0.03', b'0.1']], [[b'0.25', b'0.38', b'0.05', b'0.16']], [[b'0.57', b'0.33', b'0.06', b'0.2']], [[b'0.73', b'0.29', b'0.03', b'0.1'], [b'0.24', b'0.18', b'0.03', b'0.1']], [[b'0.85', b'0.34', b'0.08', b'0.26']], [[b'0.72', b'0.31', b'0.08', b'0.25']], [[b'0.24', b'0.23', b'0.07', b'0.14']], [[b'0.66', b'0.42', b'0.09', b'0.21']], [[b'0.44', b'0.21', b'0.04', b'0.23']], [[b'0.57', b'0.42', b'0.14', b'0.15']], [[b'0.62', b'0.33', b'0.06', b'0.19']], [[b'0.18', b'0.33', b'0.1', b'0.18']], [[b'0.62', b'0.23', b'0.04', b'0.14']], [[b'0.16', b'0.28', b'0.1', b'0.2']], [[b'0.46', b'0.36', b'0.06', b'0.17']], [[b'0.74', b'0.33', b'0.11', b'0.18']], [[b'0.7', b'0.0', b'0.14', b'0.39']], [[b'0.27', b'0.33', b'0.07', b'0.15']], [[b'0.33', b'0.23', b'0.04', b'0.11']], [[b'0.71', b'0.44', b'0.07', b'0.19']], [[b'0.64', b'0.28', b'0.07', b'0.2']], [[b'0.68', b'0.29', b'0.09', b'0.18']], [[b'0.63', b'0.21', b'0.05', b'0.1']], [[b'0.81', b'0.3', b'0.07', b'0.14']], [[b'0.09', b'0.44', b'0.05', b'0.13']], [[b'0.54', b'0.23', b'0.02', b'0.08'], [b'0.28', b'0.19', b'0.04', b'0.16']], [[b'0.78', b'0.33', b'0.08', b'0.19']], [[b'0.1', b'0.23', b'0.12', b'0.28']], [[b'0.73', b'0.15', b'0.1', b'0.25']], [[b'0.61', b'0.15', b'0.03', b'0.07']], [[b'0.59', b'0.04', b'0.09', b'0.28']], [[b'0.28', b'0.27', b'0.1', b'0.11']], [[b'0.61', b'0.42', b'0.11', b'0.17']], [[b'0.28', b'0.32', b'0.05', b'0.2']], [[b'0.14', b'0.28', b'0.11', b'0.15']], [[b'0.11', b'0.44', b'0.18', b'0.2']], [[b'0.29', b'0.44', b'0.09', b'0.17']], [[b'0.65', b'0.26', b'0.05', b'0.09'], [b'0.37', b'0.24', b'0.04', b'0.1']], [[b'0.12', b'0.5', b'0.15', b'0.25']], [[b'0.68', b'0.31', b'0.1', b'0.13'], [b'0.21', b'0.28', b'0.04', b'0.13']], [[b'0.63', b'0.47', b'0.11', b'0.23']], [[b'0.45', b'0.33', b'0.06', b'0.2'], [b'0.11', b'0.24', b'0.03', b'0.13']], [[b'0.7', b'0.34', b'0.12', b'0.14']], [[b'0.75', b'0.19', b'0.1', b'0.31']], [[b'0.88', b'0.28', b'0.11', b'0.3']], [[b'0.28', b'0.01', b'0.13', b'0.34']], [[b'0.2', b'0.28', b'0.04', b'0.09']], [[b'0.21', b'0.42', b'0.05', b'0.15']], [[b'0.61', b'0.25', b'0.06', b'0.1'], [b'0.04', b'0.0', b'0.06', b'0.08']], [[b'0.16', b'0.24', b'0.09', b'0.13']], [[b'0.23', b'0.33', b'0.08', b'0.14']], [[b'0.23', b'0.23', b'0.06', b'0.17']], [[b'0.35', b'0.15', b'0.07', b'0.11']], [[b'0.12', b'0.43', b'0.05', b'0.17'], [b'0.65', b'0.38', b'0.1', b'0.18']], [[b'0.68', b'0.28', b'0.09', b'0.16'], [b'0.26', b'0.27', b'0.04', b'0.16']], [[b'0.69', b'0.29', b'0.12', b'0.15']], [[b'0.3', b'0.32', b'0.06', b'0.2']], [[b'0.71', b'0.3', b'0.06', b'0.21']], [[b'0.24', b'0.24', b'0.04', b'0.16'], [b'0.49', b'0.23', b'0.03', b'0.16']], [[b'0.74', b'0.35', b'0.06', b'0.15']], [[b'0.28', b'0.3', b'0.07', b'0.17']], [[b'0.82', b'0.34', b'0.04', b'0.05'], [b'0.39', b'0.25', b'0.04', b'0.08']], [[b'0.06', b'0.48', b'0.06', b'0.17']], [[b'0.62', b'0.28', b'0.11', b'0.19']], [[b'0.61', b'0.4', b'0.08', b'0.07']], [[b'0.71', b'0.21', b'0.05', b'0.16'], [b'0.33', b'0.12', b'0.05', b'0.15']], [[b'0.17', b'0.27', b'0.06', b'0.22']], [[b'0.74', b'0.16', b'0.04', b'0.09']], [[b'0.32', b'0.3', b'0.05', b'0.19']], [[b'0.11', b'0.31', b'0.14', b'0.23']], [[b'0.14', b'0.27', b'0.08', b'0.2']], [[b'0.25', b'0.36', b'0.09', b'0.32']], [[b'0.65', b'0.27', b'0.13', b'0.18']], [[b'0.76', b'0.33', b'0.14', b'0.18']], [[b'0.1', b'0.33', b'0.15', b'0.19']], [[b'0.63', b'0.34', b'0.13', b'0.18']], [[b'0.58', b'0.36', b'0.07', b'0.15']], [[b'0.77', b'0.41', b'0.1', b'0.25']], [[b'0.38', b'0.22', b'0.06', b'0.11']], [[b'0.21', b'0.33', b'0.09', b'0.2']], [[b'0.18', b'0.33', b'0.12', b'0.19']], [[b'0.57', b'0.37', b'0.03', b'0.16'], [b'0.87', b'0.36', b'0.05', b'0.16']], [[b'0.75', b'0.31', b'0.12', b'0.22']], [[b'0.12', b'0.27', b'0.12', b'0.14']], [[b'0.03', b'0.36', b'0.12', b'0.23']], [[b'0.49', b'0.31', b'0.06', b'0.19']], [[b'0.73', b'0.45', b'0.12', b'0.34']], [[b'0.66', b'0.36', b'0.12', b'0.28']], [[b'0.52', b'0.19', b'0.06', b'0.07']], [[b'0.69', b'0.46', b'0.12', b'0.22']], [[b'0.22', b'0.21', b'0.03', b'0.06'], [b'0.72', b'0.19', b'0.03', b'0.06']], [[b'0.59', b'0.26', b'0.12', b'0.13']], [[b'0.36', b'0.37', b'0.07', b'0.14']], [[b'0.29', b'0.19', b'0.08', b'0.13']], [[b'0.6', b'0.29', b'0.05', b'0.11']], [[b'0.72', b'0.38', b'0.07', b'0.18']], [[b'0.74', b'0.39', b'0.12', b'0.19']], [[b'0.31', b'0.37', b'0.08', b'0.18']], [[b'0.09', b'0.48', b'0.18', b'0.24']], [[b'0.36', b'0.4', b'0.1', b'0.18']], [[b'0.58', b'0.26', b'0.07', b'0.1']], [[b'0.11', b'0.36', b'0.09', b'0.23']], [[b'0.57', b'0.39', b'0.07', b'0.13']], [[b'0.64', b'0.25', b'0.05', b'0.22']], [[b'0.75', b'0.34', b'0.05', b'0.21'], [b'0.12', b'0.34', b'0.11', b'0.21']], [[b'0.84', b'0.45', b'0.1', b'0.26']], [[b'0.23', b'0.29', b'0.08', b'0.2'], [b'0.66', b'0.25', b'0.04', b'0.2']], [[b'0.74', b'0.42', b'0.13', b'0.26'], [b'0.1', b'0.38', b'0.04', b'0.24']], [[b'0.29', b'0.23', b'0.03', b'0.12']], [[b'0.09', b'0.56', b'0.11', b'0.25']], [[b'0.8', b'0.36', b'0.12', b'0.23']], [[b'0.7', b'0.16', b'0.1', b'0.32']], [[b'0.66', b'0.29', b'0.07', b'0.15']], [[b'0.75', b'0.36', b'0.04', b'0.16']], [[b'0.24', b'0.44', b'0.11', b'0.3'], [b'0.88', b'0.38', b'0.04', b'0.29']], [[b'0.71', b'0.35', b'0.1', b'0.18']], [[b'0.16', b'0.38', b'0.08', b'0.15']], [[b'0.71', b'0.34', b'0.07', b'0.16']], [[b'0.67', b'0.3', b'0.06', b'0.19']], [[b'0.33', b'0.26', b'0.1', b'0.18']], [[b'0.28', b'0.31', b'0.08', b'0.13']], [[b'0.65', b'0.21', b'0.04', b'0.1']], [[b'0.05', b'0.22', b'0.07', b'0.28']], [[b'0.25', b'0.21', b'0.04', b'0.1']], [[b'0.68', b'0.33', b'0.06', b'0.14'], [b'0.42', b'0.27', b'0.04', b'0.15']], [[b'0.56', b'0.24', b'0.07', b'0.13']], [[b'0.35', b'0.38', b'0.14', b'0.15']], [[b'0.7', b'0.39', b'0.13', b'0.2']], [[b'0.72', b'0.38', b'0.1', b'0.15'], [b'0.36', b'0.29', b'0.04', b'0.16']], [[b'0.39', b'0.29', b'0.09', b'0.11']], [[b'0.52', b'0.35', b'0.15', b'0.2']], [[b'0.45', b'0.36', b'0.14', b'0.16']], [[b'0.55', b'0.41', b'0.2', b'0.12']], [[b'0.34', b'0.29', b'0.06', b'0.09']], [[b'0.27', b'0.43', b'0.09', b'0.19']], [[b'0.45', b'0.38', b'0.09', b'0.21']], [[b'0.68', b'0.36', b'0.07', b'0.2']], [[b'0.56', b'0.21', b'0.08', b'0.1']], [[b'0.67', b'0.24', b'0.06', b'0.08'], [b'0.36', b'0.21', b'0.04', b'0.08']], [[b'0.56', b'0.39', b'0.06', b'0.06'], [b'0.58', b'0.1', b'0.05', b'0.05']], [[b'0.28', b'0.18', b'0.04', b'0.1']], [[b'0.63', b'0.32', b'0.05', b'0.18']], [[b'0.18', b'0.22', b'0.03', b'0.07'], [b'0.86', b'0.18', b'0.04', b'0.06']], [[b'0.82', b'0.24', b'0.09', b'0.32']], [[b'0.12', b'0.35', b'0.16', b'0.17']], [[b'0.73', b'0.27', b'0.11', b'0.24']], [[b'0.29', b'0.15', b'0.06', b'0.1']], [[b'0.74', b'0.29', b'0.11', b'0.21']], [[b'0.4', b'0.25', b'0.04', b'0.15']], [[b'0.57', b'0.21', b'0.04', b'0.1']], [[b'0.31', b'0.2', b'0.07', b'0.1']], [[b'0.18', b'0.27', b'0.04', b'0.16']], [[b'0.25', b'0.46', b'0.1', b'0.29']], [[b'0.87', b'0.37', b'0.06', b'0.22']], [[b'0.83', b'0.26', b'0.06', b'0.19']], [[b'0.06', b'0.4', b'0.08', b'0.25']], [[b'0.41', b'0.54', b'0.04', b'0.15']], [[b'0.18', b'0.46', b'0.09', b'0.2']], [[b'0.8', b'0.31', b'0.06', b'0.22']], [[b'0.24', b'0.53', b'0.1', b'0.2']], [[b'0.7', b'0.26', b'0.14', b'0.38']], [[b'0.6', b'0.26', b'0.04', b'0.1']], [[b'0.1', b'0.53', b'0.17', b'0.18']], [[b'0.64', b'0.33', b'0.07', b'0.25']], [[b'0.27', b'0.4', b'0.09', b'0.12']], [[b'0.53', b'0.49', b'0.06', b'0.16']], [[b'0.69', b'0.36', b'0.05', b'0.19']], [[b'0.3', b'0.36', b'0.07', b'0.19']], [[b'0.03', b'0.16', b'0.13', b'0.38']], [[b'0.42', b'0.45', b'0.05', b'0.17'], [b'0.72', b'0.36', b'0.07', b'0.19']], [[b'0.65', b'0.44', b'0.08', b'0.32'], [b'0.24', b'0.31', b'0.07', b'0.34']], [[b'0.77', b'0.41', b'0.08', b'0.23']], [[b'0.07', b'0.41', b'0.15', b'0.22']], [[b'0.89', b'0.28', b'0.09', b'0.2']], [[b'0.19', b'0.32', b'0.06', b'0.14']], [[b'0.69', b'0.34', b'0.09', b'0.15']], [[b'0.24', b'0.45', b'0.08', b'0.14'], [b'0.73', b'0.36', b'0.1', b'0.17']], [[b'0.77', b'0.44', b'0.08', b'0.2']], [[b'0.75', b'0.35', b'0.12', b'0.21']], [[b'0.08', b'0.34', b'0.15', b'0.27']], [[b'0.38', b'0.39', b'0.06', b'0.23']], [[b'0.29', b'0.34', b'0.06', b'0.24'], [b'0.65', b'0.32', b'0.05', b'0.24']], [[b'0.77', b'0.36', b'0.13', b'0.19'], [b'0.16', b'0.33', b'0.09', b'0.2']], [[b'0.76', b'0.37', b'0.07', b'0.22'], [b'0.18', b'0.35', b'0.11', b'0.24']], [[b'0.17', b'0.44', b'0.08', b'0.19'], [b'0.73', b'0.4', b'0.11', b'0.2']], [[b'0.7', b'0.45', b'0.13', b'0.15'], [b'0.17', b'0.35', b'0.05', b'0.16']], [[b'0.71', b'0.38', b'0.14', b'0.22']], [[b'0.25', b'0.33', b'0.08', b'0.16']], [[b'0.28', b'0.25', b'0.08', b'0.13']], [[b'0.13', b'0.39', b'0.14', b'0.18']], [[b'0.69', b'0.35', b'0.09', b'0.17']], [[b'0.68', b'0.17', b'0.04', b'0.08'], [b'0.42', b'0.14', b'0.03', b'0.08']], [[b'0.24', b'0.42', b'0.06', b'0.21'], [b'0.61', b'0.37', b'0.05', b'0.23']], [[b'0.78', b'0.36', b'0.11', b'0.17']], [[b'0.65', b'0.31', b'0.06', b'0.14']], [[b'0.65', b'0.27', b'0.08', b'0.12']], [[b'0.58', b'0.36', b'0.05', b'0.17']], [[b'0.77', b'0.35', b'0.11', b'0.18']], [[b'0.2', b'0.28', b'0.06', b'0.22']], [[b'0.19', b'0.35', b'0.05', b'0.18']], [[b'0.25', b'0.14', b'0.06', b'0.39'], [b'0.73', b'0.09', b'0.06', b'0.41']], [[b'0.17', b'0.29', b'0.05', b'0.21']], [[b'0.37', b'0.19', b'0.04', b'0.1'], [b'0.7', b'0.18', b'0.03', b'0.1']], [[b'0.6', b'0.53', b'0.06', b'0.06'], [b'0.1', b'0.16', b'0.08', b'0.12']], [[b'0.62', b'0.33', b'0.07', b'0.18']], [[b'0.55', b'0.31', b'0.06', b'0.15']], [[b'0.7', b'0.21', b'0.08', b'0.23']], [[b'0.04', b'0.43', b'0.14', b'0.24']], [[b'0.7', b'0.24', b'0.21', b'0.22']], [[b'0.54', b'0.28', b'0.06', b'0.18']], [[b'0.15', b'0.43', b'0.06', b'0.16'], [b'0.41', b'0.38', b'0.02', b'0.15']], [[b'0.58', b'0.38', b'0.09', b'0.25']], [[b'0.63', b'0.38', b'0.09', b'0.22']], [[b'0.64', b'0.36', b'0.03', b'0.13'], [b'0.43', b'0.33', b'0.04', b'0.14']], [[b'0.35', b'0.27', b'0.04', b'0.1']], [[b'0.75', b'0.31', b'0.09', b'0.19'], [b'0.23', b'0.31', b'0.05', b'0.18']], [[b'0.33', b'0.37', b'0.06', b'0.17']], [[b'0.16', b'0.33', b'0.09', b'0.19']], [[b'0.65', b'0.31', b'0.11', b'0.18']], [[b'0.24', b'0.28', b'0.1', b'0.13'], [b'0.72', b'0.26', b'0.04', b'0.13']], [[b'0.09', b'0.33', b'0.14', b'0.17']], [[b'0.68', b'0.34', b'0.08', b'0.21'], [b'0.35', b'0.28', b'0.04', b'0.22']], [[b'0.15', b'0.33', b'0.11', b'0.21']], [[b'0.74', b'0.31', b'0.13', b'0.23']], [[b'0.31', b'0.32', b'0.06', b'0.23']], [[b'0.31', b'0.26', b'0.11', b'0.16']], [[b'0.26', b'0.31', b'0.12', b'0.13']], [[b'0.57', b'0.21', b'0.05', b'0.13']], [[b'0.33', b'0.28', b'0.07', b'0.19']], [[b'0.81', b'0.14', b'0.16', b'0.43']], [[b'0.66', b'0.42', b'0.12', b'0.27']], [[b'0.84', b'0.33', b'0.04', b'0.16'], [b'0.57', b'0.33', b'0.04', b'0.16']], [[b'0.23', b'0.43', b'0.13', b'0.32']], [[b'0.44', b'0.36', b'0.08', b'0.18']], [[b'0.58', b'0.31', b'0.06', b'0.15']], [[b'0.37', b'0.3', b'0.05', b'0.18']], [[b'0.26', b'0.27', b'0.06', b'0.12']], [[b'0.21', b'0.34', b'0.05', b'0.24']], [[b'0.68', b'0.34', b'0.05', b'0.17']], [[b'0.33', b'0.25', b'0.04', b'0.08']], [[b'0.65', b'0.28', b'0.08', b'0.15']], [[b'0.68', b'0.38', b'0.05', b'0.16']], [[b'0.2', b'0.3', b'0.04', b'0.11'], [b'0.7', b'0.27', b'0.07', b'0.15']], [[b'0.22', b'0.15', b'0.07', b'0.21']], [[b'0.59', b'0.28', b'0.1', b'0.27']], [[b'0.18', b'0.31', b'0.03', b'0.1']], [[b'0.64', b'0.35', b'0.05', b'0.15']], [[b'0.11', b'0.21', b'0.13', b'0.38']], [[b'0.64', b'0.23', b'0.13', b'0.16']], [[b'0.29', b'0.3', b'0.07', b'0.17']], [[b'0.13', b'0.28', b'0.11', b'0.33']], [[b'0.61', b'0.35', b'0.04', b'0.18'], [b'0.26', b'0.34', b'0.06', b'0.18']]]>\n"
          ]
        }
      ]
    },
    {
      "cell_type": "markdown",
      "source": [
        "CRNN"
      ],
      "metadata": {
        "id": "IVYIaE6kVgiI"
      }
    },
    {
      "cell_type": "code",
      "source": [
        "# UTILS\n",
        "\n",
        "import numpy as np\n",
        "import cv2\n",
        "\n",
        "def sparse_tuple_from(sequences, dtype=np.float):\n",
        "    indices = []\n",
        "    values = []\n",
        "\n",
        "    for n, seq in enumerate(sequences):\n",
        "        indices.extend(zip([n] * len(seq), range(len(seq))))\n",
        "        values.extend(seq)\n",
        "\n",
        "    indices = np.asarray(indices, dtype=np.int64)\n",
        "    values = np.asarray(values, dtype=dtype)\n",
        "    shape = np.asarray([len(sequences), np.asarray(indices).max(0)[1] + 1], dtype=np.int64)\n",
        "\n",
        "    return indices, values, shape\n",
        "\n",
        "def sparse_tensor_to_strs(sparse_tensor):\n",
        "    indices= sparse_tensor[0][0]\n",
        "    values = sparse_tensor[0][1]\n",
        "    dense_shape = sparse_tensor[0][2]\n",
        "\n",
        "    strs = [ [] for i in range(dense_shape[0]) ]\n",
        "\n",
        "    string = []\n",
        "    ptr = 0\n",
        "    b = 0\n",
        "\n",
        "    for idx in range(len(indices)):\n",
        "        if indices[idx][0] != b:\n",
        "            strs[b] = string\n",
        "            string = []\n",
        "            b = indices[idx][0]\n",
        "\n",
        "        string.append(values[ptr])\n",
        "\n",
        "        ptr = ptr + 1\n",
        "\n",
        "    strs[b] = string\n",
        "\n",
        "    return strs\n",
        "\n",
        "\n",
        "def pad_sequences(sequences, maxlen=None, dtype=np.float32,\n",
        "                  padding='post', truncating='post', value=0.):\n",
        "    lengths = np.asarray([len(s) for s in sequences], dtype=np.int64)\n",
        "\n",
        "    nb_samples = len(sequences)\n",
        "    if maxlen is None:\n",
        "        maxlen = np.max(lengths)\n",
        "\n",
        "    # take the sample shape from the first non empty sequence\n",
        "    # checking for consistency in the main loop below.\n",
        "    sample_shape = tuple()\n",
        "    for s in sequences:\n",
        "        if len(s) > 0:\n",
        "            sample_shape = np.asarray(s).shape[1:]\n",
        "            break\n",
        "\n",
        "    x = (np.ones((nb_samples, maxlen) + sample_shape) * value).astype(dtype)\n",
        "    for idx, s in enumerate(sequences):\n",
        "        if len(s) == 0:\n",
        "            continue  # empty list was found\n",
        "        if truncating == 'pre':\n",
        "            trunc = s[-maxlen:]\n",
        "        elif truncating == 'post':\n",
        "            trunc = s[:maxlen]\n",
        "        else:\n",
        "            raise ValueError('Truncating type \"%s\" not understood' % truncating)\n",
        "\n",
        "        # check `trunc` has expected shape\n",
        "        trunc = np.asarray(trunc, dtype=dtype)\n",
        "        if trunc.shape[1:] != sample_shape:\n",
        "            raise ValueError('Shape of sample %s of sequence at position %s is different from expected shape %s' %\n",
        "                             (trunc.shape[1:], idx, sample_shape))\n",
        "\n",
        "        if padding == 'post':\n",
        "            x[idx, :len(trunc)] = trunc\n",
        "        elif padding == 'pre':\n",
        "            x[idx, -len(trunc):] = trunc\n",
        "        else:\n",
        "            raise ValueError('Padding type \"%s\" not understood' % padding)\n",
        "    return x, lengths\n",
        "\n",
        "\n",
        "def word_separator():\n",
        "    return '\\t'\n",
        "\n",
        "def levenshtein(a,b):\n",
        "    \"Computes the Levenshtein distance between a and b.\"\n",
        "    n, m = len(a), len(b)\n",
        "\n",
        "    if n > m:\n",
        "        a,b = b,a\n",
        "        n,m = m,n\n",
        "\n",
        "    current = range(n+1)\n",
        "    for i in range(1,m+1):\n",
        "        previous, current = current, [i]+[0]*n\n",
        "        for j in range(1,n+1):\n",
        "            add, delete = previous[j]+1, current[j-1]+1\n",
        "            change = previous[j-1]\n",
        "            if a[j-1] != b[i-1]:\n",
        "                change = change + 1\n",
        "            current[j] = min(add, delete, change)\n",
        "\n",
        "    return current[n]\n",
        "\n",
        "\n",
        "def edit_distance(a,b,EOS=-1,PAD=-1):\n",
        "    _a = [s for s in a if s != EOS and s != PAD]\n",
        "    _b = [s for s in b if s != EOS and s != PAD]\n",
        "\n",
        "    return levenshtein(_a,_b)\n",
        "\n",
        "\n",
        "def normalize(image):\n",
        "    return (255. - image)/255.\n",
        "\n"
      ],
      "metadata": {
        "id": "x0fU_yHWia49"
      },
      "execution_count": null,
      "outputs": []
    },
    {
      "cell_type": "code",
      "source": [
        "import tensorflow as tf\n",
        "from tensorflow.python.framework import ops\n",
        "from tensorflow.python.ops import math_ops\n",
        "\n",
        "# MODEL\n",
        "\n",
        "\n",
        "params = dict()\n",
        "params['img_height'] = 360\n",
        "params['img_width'] = 480\n",
        "params['batch_size'] = 8\n",
        "params['img_channels'] = 1\n",
        "params['conv_blocks'] = 3\n",
        "params['conv_filter_n'] = [32, 68, 128]\n",
        "params['conv_filter_size'] = [ [3,3], [3,3], [3,3] ]\n",
        "params['conv_pooling_size'] = [ [2,2], [2,2], [2,2] ]\n",
        "params['rnn_units'] = 512\n",
        "params['rnn_layers'] = 2\n",
        "params['vocabulary_size'] = 4\n",
        "\n",
        "\n",
        "def leaky_relu(features, alpha=0.2, name=None):\n",
        "  with ops.name_scope(name, \"LeakyRelu\", [features, alpha]):\n",
        "    features = ops.convert_to_tensor(features, name=\"features\")\n",
        "    alpha = ops.convert_to_tensor(alpha, name=\"alpha\")\n",
        "    return math_ops.maximum(alpha * features, features)\n",
        "\n",
        "\n",
        "def ctc_crnn():\n",
        "\n",
        "  input = tf.placeholder(shape=(None,\n",
        "                                  params['img_height'],\n",
        "                                  params['img_width'],\n",
        "                                  params['img_channels']),  # [batch, height, width, channels]\n",
        "                          dtype=tf.float32,\n",
        "                          name='model_input')\n",
        "\n",
        "  input_shape = tf.shape(input)\n",
        "\n",
        "  width_reduction = 1\n",
        "  height_reduction = 1\n",
        "\n",
        "\n",
        "  # Convolutional blocks\n",
        "  x = input\n",
        "  for i in range(params['conv_blocks']):\n",
        "\n",
        "      x =  tf.layers.conv2d(\n",
        "          inputs=x,\n",
        "          filters=params['conv_filter_n'][i],\n",
        "          kernel_size=params['conv_filter_size'][i],\n",
        "          padding=\"same\",\n",
        "          activation=None)\n",
        "\n",
        "      x =  tf.layers.batch_normalization(x)\n",
        "      x = leaky_relu(x)\n",
        "\n",
        "      x = tf.layers.max_pooling2d(inputs=x,\n",
        "                                    pool_size=params['conv_pooling_size'][i],\n",
        "                                    strides=params['conv_pooling_size'][i])\n",
        "\n",
        "      width_reduction = width_reduction * params['conv_pooling_size'][i][1]\n",
        "      height_reduction = height_reduction * params['conv_pooling_size'][i][0]\n",
        "\n",
        "  # Prepare output of conv block for recurrent blocks\n",
        "  features = tf.transpose(x, perm=[2, 0, 3, 1])  # -> [width, batch, height, channels] (time_major=True)\n",
        "  feature_dim = params['conv_filter_n'][-1] * (params['img_height'] / height_reduction)\n",
        "  feature_width = input_shape[2] / width_reduction\n",
        "  features = tf.reshape(features, tf.stack([tf.cast(feature_width,'int32'), input_shape[0], tf.cast(feature_dim,'int32')]))  # -> [width, batch, features]\n",
        "\n",
        "  tf.constant(params['img_height'],name='input_height')\n",
        "  tf.constant(width_reduction,name='width_reduction')\n",
        "\n",
        "  # Recurrent block\n",
        "  rnn_keep_prob = tf.placeholder(dtype=tf.float32, name=\"keep_prob\")\n",
        "  rnn_hidden_units = params['rnn_units']\n",
        "  rnn_hidden_layers = params['rnn_layers']\n",
        "\n",
        "\n",
        "  rnn_outputs, _ = tf.nn.bidirectional_dynamic_rnn(\n",
        "      tf.contrib.rnn.MultiRNNCell(\n",
        "          [tf.nn.rnn_cell.DropoutWrapper(tf.contrib.rnn.BasicLSTMCell(rnn_hidden_units), input_keep_prob=rnn_keep_prob)\n",
        "            for _ in range(rnn_hidden_layers)]),\n",
        "      tf.contrib.rnn.MultiRNNCell(\n",
        "          [tf.nn.rnn_cell.DropoutWrapper(tf.contrib.rnn.BasicLSTMCell(rnn_hidden_units), input_keep_prob=rnn_keep_prob)\n",
        "            for _ in range(rnn_hidden_layers)]),\n",
        "      features,\n",
        "      dtype=tf.float32,\n",
        "      time_major=True,\n",
        "  )\n",
        "\n",
        "  rnn_outputs = tf.concat(rnn_outputs, 2)\n",
        "\n",
        "  logits = tf.contrib.layers.fully_connected(\n",
        "      rnn_outputs,\n",
        "      params['vocabulary_size'],\n",
        "      activation_fn=None,\n",
        "  )\n",
        "  \n",
        "  tf.add_to_collection(\"logits\",logits) # for restoring purposes\n",
        "\n",
        "  # CTC Loss computation\n",
        "  seq_len = tf.placeholder(tf.int32, [None], name='seq_lengths')\n",
        "  targets = tf.sparse_placeholder(dtype=tf.float32, name='target')\n",
        "  ctc_loss = tf.nn.ctc_loss(labels=targets, inputs=logits, sequence_length=seq_len, time_major=True)\n",
        "  loss = tf.reduce_mean(ctc_loss)\n",
        "\n",
        "  # CTC decoding\n",
        "  decoded, log_prob = tf.nn.ctc_greedy_decoder(logits, seq_len)\n",
        "\n",
        "  return input, seq_len, targets, decoded, loss, rnn_keep_prob"
      ],
      "metadata": {
        "id": "Q7UlvQZDcvEa"
      },
      "execution_count": null,
      "outputs": []
    },
    {
      "cell_type": "code",
      "source": [
        "# TRAINING\n",
        "\n",
        "\n",
        "import tensorflow as tf\n",
        "import argparse\n",
        "\n",
        "import os\n",
        "\n",
        "config = tf.compat.v1.ConfigProto()\n",
        "config.gpu_options.allow_growth=True\n",
        "tf.compat.v1.reset_default_graph()\n",
        "sess = tf.compat.v1.InteractiveSession(config=config)\n",
        "\n",
        "# Load data\n",
        "data = AWE('/content/drive/MyDrive/biomet/awe/data/ears', '/annotations/detection')\n",
        "\n",
        "# Model\n",
        "inputs, seq_len, targets, decoded, loss, rnn_keep_prob = ctc_crnn()\n",
        "train_opt = tf.train.AdamOptimizer().minimize(loss)\n",
        "\n",
        "\n",
        "saver = tf.train.Saver(max_to_keep=None)\n",
        "sess.run(tf.global_variables_initializer())\n",
        "\n",
        "# Training loop\n",
        "for epoch in range(6000):\n",
        "    batch = data.nextBatch(params['batch_size'])\n",
        "\n",
        "    _, loss_value = sess.run([train_opt, loss],\n",
        "                             feed_dict={\n",
        "                                inputs: batch['inputs'],\n",
        "                                seq_len: batch['seq_lengths'],\n",
        "                                targets: sparse_tuple_from(batch['targets']),\n",
        "                                rnn_keep_prob: 0.25,\n",
        "                            })\n",
        "\n",
        "    if epoch % 1000 == 0:\n",
        "        # VALIDATION\n",
        "        print ('Loss value at epoch ' + str(epoch) + ':' + str(loss_value))\n",
        "        f = open(\"validation.txt\", \"a\")\n",
        "        f.write(str(epoch) + ',' + str(loss_value) + '\\n')\n",
        "        f.close()\n",
        "        print ('Validating...')\n",
        "\n",
        "        validation_batch, validation_size = data.getValidation(params['batch_size'])\n",
        "        \n",
        "        val_idx = 0\n",
        "        \n",
        "        val_ed = 0\n",
        "        val_len = 0\n",
        "        val_count = 0\n",
        "            \n",
        "        while val_idx < validation_size:\n",
        "            mini_batch_feed_dict = {\n",
        "                inputs: validation_batch['inputs'][val_idx:val_idx+params['batch_size']],\n",
        "                seq_len: validation_batch['seq_lengths'][val_idx:val_idx+params['batch_size']],\n",
        "                rnn_keep_prob: 1.0            \n",
        "            }\n",
        "            \n",
        "            prediction = sess.run(decoded,\n",
        "                                  mini_batch_feed_dict)\n",
        "    \n",
        "            str_predictions = sparse_tensor_to_strs(prediction)\n",
        "\n",
        "            for i in range(len(str_predictions)):\n",
        "                ed = edit_distance(str_predictions[i], validation_batch['targets'][val_idx+i])\n",
        "                val_ed = val_ed + ed\n",
        "                val_len = val_len + len(validation_batch['targets'][val_idx+i])\n",
        "                val_count = val_count + 1\n",
        "                \n",
        "            val_idx = val_idx + params['batch_size']\n",
        "    \n",
        "        print('[Epoch ' + str(epoch) + '] ' + str(1. * val_ed / val_count) + ' (' + str(100. * val_ed / val_len) + ' SER) from ' + str(val_count) + ' samples.')\n",
        "        print('Saving the model...')\n",
        "        saver.save(sess, '/content/drive/MyDrive/biomet/trained_model',global_step=epoch)\n",
        "        print('------------------------------')"
      ],
      "metadata": {
        "colab": {
          "base_uri": "https://localhost:8080/",
          "height": 1000
        },
        "id": "iYuIDDkLe6h5",
        "outputId": "3e31baf7-e02a-4e27-f2cb-680cfda8fbd3"
      },
      "execution_count": null,
      "outputs": [
        {
          "output_type": "stream",
          "name": "stdout",
          "text": [
            "WARNING:tensorflow:Entity <bound method Conv.call of <tensorflow.python.layers.convolutional.Conv2D object at 0x7fbfce787550>> could not be transformed and will be executed as-is. Please report this to the AutgoGraph team. When filing the bug, set the verbosity to 10 (on Linux, `export AUTOGRAPH_VERBOSITY=10`) and attach the full output. Cause: converting <bound method Conv.call of <tensorflow.python.layers.convolutional.Conv2D object at 0x7fbfce787550>>: AssertionError: Bad argument number for Name: 3, expecting 4\n",
            "WARNING: Entity <bound method Conv.call of <tensorflow.python.layers.convolutional.Conv2D object at 0x7fbfce787550>> could not be transformed and will be executed as-is. Please report this to the AutgoGraph team. When filing the bug, set the verbosity to 10 (on Linux, `export AUTOGRAPH_VERBOSITY=10`) and attach the full output. Cause: converting <bound method Conv.call of <tensorflow.python.layers.convolutional.Conv2D object at 0x7fbfce787550>>: AssertionError: Bad argument number for Name: 3, expecting 4\n",
            "WARNING:tensorflow:Entity <bound method BatchNormalization.call of <tensorflow.python.layers.normalization.BatchNormalization object at 0x7fbfce77afd0>> could not be transformed and will be executed as-is. Please report this to the AutgoGraph team. When filing the bug, set the verbosity to 10 (on Linux, `export AUTOGRAPH_VERBOSITY=10`) and attach the full output. Cause: converting <bound method BatchNormalization.call of <tensorflow.python.layers.normalization.BatchNormalization object at 0x7fbfce77afd0>>: AssertionError: Bad argument number for Name: 3, expecting 4\n"
          ]
        },
        {
          "output_type": "stream",
          "name": "stderr",
          "text": [
            "/usr/local/lib/python3.7/dist-packages/tensorflow/python/client/session.py:1735: UserWarning: An interactive session is already active. This can cause out-of-memory errors in some cases. You must explicitly call `InteractiveSession.close()` to release resources held by the other session(s).\n",
            "  warnings.warn('An interactive session is already active. This can '\n",
            "/usr/local/lib/python3.7/dist-packages/ipykernel_launcher.py:44: VisibleDeprecationWarning: Creating an ndarray from ragged nested sequences (which is a list-or-tuple of lists-or-tuples-or ndarrays with different lengths or shapes) is deprecated. If you meant to do this, you must specify 'dtype=object' when creating the ndarray\n"
          ]
        },
        {
          "output_type": "stream",
          "name": "stdout",
          "text": [
            "WARNING: Entity <bound method BatchNormalization.call of <tensorflow.python.layers.normalization.BatchNormalization object at 0x7fbfce77afd0>> could not be transformed and will be executed as-is. Please report this to the AutgoGraph team. When filing the bug, set the verbosity to 10 (on Linux, `export AUTOGRAPH_VERBOSITY=10`) and attach the full output. Cause: converting <bound method BatchNormalization.call of <tensorflow.python.layers.normalization.BatchNormalization object at 0x7fbfce77afd0>>: AssertionError: Bad argument number for Name: 3, expecting 4\n",
            "WARNING:tensorflow:Entity <bound method Pooling2D.call of <tensorflow.python.layers.pooling.MaxPooling2D object at 0x7fbfd1078b90>> could not be transformed and will be executed as-is. Please report this to the AutgoGraph team. When filing the bug, set the verbosity to 10 (on Linux, `export AUTOGRAPH_VERBOSITY=10`) and attach the full output. Cause: converting <bound method Pooling2D.call of <tensorflow.python.layers.pooling.MaxPooling2D object at 0x7fbfd1078b90>>: AssertionError: Bad argument number for Name: 3, expecting 4\n",
            "WARNING: Entity <bound method Pooling2D.call of <tensorflow.python.layers.pooling.MaxPooling2D object at 0x7fbfd1078b90>> could not be transformed and will be executed as-is. Please report this to the AutgoGraph team. When filing the bug, set the verbosity to 10 (on Linux, `export AUTOGRAPH_VERBOSITY=10`) and attach the full output. Cause: converting <bound method Pooling2D.call of <tensorflow.python.layers.pooling.MaxPooling2D object at 0x7fbfd1078b90>>: AssertionError: Bad argument number for Name: 3, expecting 4\n",
            "WARNING:tensorflow:Entity <bound method Conv.call of <tensorflow.python.layers.convolutional.Conv2D object at 0x7fbfd1078b90>> could not be transformed and will be executed as-is. Please report this to the AutgoGraph team. When filing the bug, set the verbosity to 10 (on Linux, `export AUTOGRAPH_VERBOSITY=10`) and attach the full output. Cause: converting <bound method Conv.call of <tensorflow.python.layers.convolutional.Conv2D object at 0x7fbfd1078b90>>: AssertionError: Bad argument number for Name: 3, expecting 4\n",
            "WARNING: Entity <bound method Conv.call of <tensorflow.python.layers.convolutional.Conv2D object at 0x7fbfd1078b90>> could not be transformed and will be executed as-is. Please report this to the AutgoGraph team. When filing the bug, set the verbosity to 10 (on Linux, `export AUTOGRAPH_VERBOSITY=10`) and attach the full output. Cause: converting <bound method Conv.call of <tensorflow.python.layers.convolutional.Conv2D object at 0x7fbfd1078b90>>: AssertionError: Bad argument number for Name: 3, expecting 4\n",
            "WARNING:tensorflow:Entity <bound method BatchNormalization.call of <tensorflow.python.layers.normalization.BatchNormalization object at 0x7fbfd1078b90>> could not be transformed and will be executed as-is. Please report this to the AutgoGraph team. When filing the bug, set the verbosity to 10 (on Linux, `export AUTOGRAPH_VERBOSITY=10`) and attach the full output. Cause: converting <bound method BatchNormalization.call of <tensorflow.python.layers.normalization.BatchNormalization object at 0x7fbfd1078b90>>: AssertionError: Bad argument number for Name: 3, expecting 4\n",
            "WARNING: Entity <bound method BatchNormalization.call of <tensorflow.python.layers.normalization.BatchNormalization object at 0x7fbfd1078b90>> could not be transformed and will be executed as-is. Please report this to the AutgoGraph team. When filing the bug, set the verbosity to 10 (on Linux, `export AUTOGRAPH_VERBOSITY=10`) and attach the full output. Cause: converting <bound method BatchNormalization.call of <tensorflow.python.layers.normalization.BatchNormalization object at 0x7fbfd1078b90>>: AssertionError: Bad argument number for Name: 3, expecting 4\n",
            "WARNING:tensorflow:Entity <bound method Pooling2D.call of <tensorflow.python.layers.pooling.MaxPooling2D object at 0x7fbfd1078b90>> could not be transformed and will be executed as-is. Please report this to the AutgoGraph team. When filing the bug, set the verbosity to 10 (on Linux, `export AUTOGRAPH_VERBOSITY=10`) and attach the full output. Cause: converting <bound method Pooling2D.call of <tensorflow.python.layers.pooling.MaxPooling2D object at 0x7fbfd1078b90>>: AssertionError: Bad argument number for Name: 3, expecting 4\n",
            "WARNING: Entity <bound method Pooling2D.call of <tensorflow.python.layers.pooling.MaxPooling2D object at 0x7fbfd1078b90>> could not be transformed and will be executed as-is. Please report this to the AutgoGraph team. When filing the bug, set the verbosity to 10 (on Linux, `export AUTOGRAPH_VERBOSITY=10`) and attach the full output. Cause: converting <bound method Pooling2D.call of <tensorflow.python.layers.pooling.MaxPooling2D object at 0x7fbfd1078b90>>: AssertionError: Bad argument number for Name: 3, expecting 4\n",
            "WARNING:tensorflow:Entity <bound method Conv.call of <tensorflow.python.layers.convolutional.Conv2D object at 0x7fbfd1078b90>> could not be transformed and will be executed as-is. Please report this to the AutgoGraph team. When filing the bug, set the verbosity to 10 (on Linux, `export AUTOGRAPH_VERBOSITY=10`) and attach the full output. Cause: converting <bound method Conv.call of <tensorflow.python.layers.convolutional.Conv2D object at 0x7fbfd1078b90>>: AssertionError: Bad argument number for Name: 3, expecting 4\n",
            "WARNING: Entity <bound method Conv.call of <tensorflow.python.layers.convolutional.Conv2D object at 0x7fbfd1078b90>> could not be transformed and will be executed as-is. Please report this to the AutgoGraph team. When filing the bug, set the verbosity to 10 (on Linux, `export AUTOGRAPH_VERBOSITY=10`) and attach the full output. Cause: converting <bound method Conv.call of <tensorflow.python.layers.convolutional.Conv2D object at 0x7fbfd1078b90>>: AssertionError: Bad argument number for Name: 3, expecting 4\n",
            "WARNING:tensorflow:Entity <bound method BatchNormalization.call of <tensorflow.python.layers.normalization.BatchNormalization object at 0x7fbfd1078b90>> could not be transformed and will be executed as-is. Please report this to the AutgoGraph team. When filing the bug, set the verbosity to 10 (on Linux, `export AUTOGRAPH_VERBOSITY=10`) and attach the full output. Cause: converting <bound method BatchNormalization.call of <tensorflow.python.layers.normalization.BatchNormalization object at 0x7fbfd1078b90>>: AssertionError: Bad argument number for Name: 3, expecting 4\n",
            "WARNING: Entity <bound method BatchNormalization.call of <tensorflow.python.layers.normalization.BatchNormalization object at 0x7fbfd1078b90>> could not be transformed and will be executed as-is. Please report this to the AutgoGraph team. When filing the bug, set the verbosity to 10 (on Linux, `export AUTOGRAPH_VERBOSITY=10`) and attach the full output. Cause: converting <bound method BatchNormalization.call of <tensorflow.python.layers.normalization.BatchNormalization object at 0x7fbfd1078b90>>: AssertionError: Bad argument number for Name: 3, expecting 4\n",
            "WARNING:tensorflow:Entity <bound method Pooling2D.call of <tensorflow.python.layers.pooling.MaxPooling2D object at 0x7fbfd1078b90>> could not be transformed and will be executed as-is. Please report this to the AutgoGraph team. When filing the bug, set the verbosity to 10 (on Linux, `export AUTOGRAPH_VERBOSITY=10`) and attach the full output. Cause: converting <bound method Pooling2D.call of <tensorflow.python.layers.pooling.MaxPooling2D object at 0x7fbfd1078b90>>: AssertionError: Bad argument number for Name: 3, expecting 4\n",
            "WARNING: Entity <bound method Pooling2D.call of <tensorflow.python.layers.pooling.MaxPooling2D object at 0x7fbfd1078b90>> could not be transformed and will be executed as-is. Please report this to the AutgoGraph team. When filing the bug, set the verbosity to 10 (on Linux, `export AUTOGRAPH_VERBOSITY=10`) and attach the full output. Cause: converting <bound method Pooling2D.call of <tensorflow.python.layers.pooling.MaxPooling2D object at 0x7fbfd1078b90>>: AssertionError: Bad argument number for Name: 3, expecting 4\n",
            "WARNING:tensorflow:Entity <bound method MultiRNNCell.call of <tensorflow.python.ops.rnn_cell_impl.MultiRNNCell object at 0x7fbfce8097d0>> could not be transformed and will be executed as-is. Please report this to the AutgoGraph team. When filing the bug, set the verbosity to 10 (on Linux, `export AUTOGRAPH_VERBOSITY=10`) and attach the full output. Cause: converting <bound method MultiRNNCell.call of <tensorflow.python.ops.rnn_cell_impl.MultiRNNCell object at 0x7fbfce8097d0>>: AttributeError: module 'gast' has no attribute 'Index'\n",
            "WARNING: Entity <bound method MultiRNNCell.call of <tensorflow.python.ops.rnn_cell_impl.MultiRNNCell object at 0x7fbfce8097d0>> could not be transformed and will be executed as-is. Please report this to the AutgoGraph team. When filing the bug, set the verbosity to 10 (on Linux, `export AUTOGRAPH_VERBOSITY=10`) and attach the full output. Cause: converting <bound method MultiRNNCell.call of <tensorflow.python.ops.rnn_cell_impl.MultiRNNCell object at 0x7fbfce8097d0>>: AttributeError: module 'gast' has no attribute 'Index'\n",
            "WARNING:tensorflow:Entity <bound method BasicLSTMCell.call of <tensorflow.python.ops.rnn_cell_impl.BasicLSTMCell object at 0x7fbff1cfe250>> could not be transformed and will be executed as-is. Please report this to the AutgoGraph team. When filing the bug, set the verbosity to 10 (on Linux, `export AUTOGRAPH_VERBOSITY=10`) and attach the full output. Cause: converting <bound method BasicLSTMCell.call of <tensorflow.python.ops.rnn_cell_impl.BasicLSTMCell object at 0x7fbff1cfe250>>: AssertionError: Bad argument number for Name: 3, expecting 4\n",
            "WARNING: Entity <bound method BasicLSTMCell.call of <tensorflow.python.ops.rnn_cell_impl.BasicLSTMCell object at 0x7fbff1cfe250>> could not be transformed and will be executed as-is. Please report this to the AutgoGraph team. When filing the bug, set the verbosity to 10 (on Linux, `export AUTOGRAPH_VERBOSITY=10`) and attach the full output. Cause: converting <bound method BasicLSTMCell.call of <tensorflow.python.ops.rnn_cell_impl.BasicLSTMCell object at 0x7fbff1cfe250>>: AssertionError: Bad argument number for Name: 3, expecting 4\n",
            "WARNING:tensorflow:Entity <bound method BasicLSTMCell.call of <tensorflow.python.ops.rnn_cell_impl.BasicLSTMCell object at 0x7fbfcd607ad0>> could not be transformed and will be executed as-is. Please report this to the AutgoGraph team. When filing the bug, set the verbosity to 10 (on Linux, `export AUTOGRAPH_VERBOSITY=10`) and attach the full output. Cause: converting <bound method BasicLSTMCell.call of <tensorflow.python.ops.rnn_cell_impl.BasicLSTMCell object at 0x7fbfcd607ad0>>: AssertionError: Bad argument number for Name: 3, expecting 4\n",
            "WARNING: Entity <bound method BasicLSTMCell.call of <tensorflow.python.ops.rnn_cell_impl.BasicLSTMCell object at 0x7fbfcd607ad0>> could not be transformed and will be executed as-is. Please report this to the AutgoGraph team. When filing the bug, set the verbosity to 10 (on Linux, `export AUTOGRAPH_VERBOSITY=10`) and attach the full output. Cause: converting <bound method BasicLSTMCell.call of <tensorflow.python.ops.rnn_cell_impl.BasicLSTMCell object at 0x7fbfcd607ad0>>: AssertionError: Bad argument number for Name: 3, expecting 4\n",
            "WARNING:tensorflow:Entity <bound method MultiRNNCell.call of <tensorflow.python.ops.rnn_cell_impl.MultiRNNCell object at 0x7fbfcf8970d0>> could not be transformed and will be executed as-is. Please report this to the AutgoGraph team. When filing the bug, set the verbosity to 10 (on Linux, `export AUTOGRAPH_VERBOSITY=10`) and attach the full output. Cause: converting <bound method MultiRNNCell.call of <tensorflow.python.ops.rnn_cell_impl.MultiRNNCell object at 0x7fbfcf8970d0>>: AttributeError: module 'gast' has no attribute 'Index'\n",
            "WARNING: Entity <bound method MultiRNNCell.call of <tensorflow.python.ops.rnn_cell_impl.MultiRNNCell object at 0x7fbfcf8970d0>> could not be transformed and will be executed as-is. Please report this to the AutgoGraph team. When filing the bug, set the verbosity to 10 (on Linux, `export AUTOGRAPH_VERBOSITY=10`) and attach the full output. Cause: converting <bound method MultiRNNCell.call of <tensorflow.python.ops.rnn_cell_impl.MultiRNNCell object at 0x7fbfcf8970d0>>: AttributeError: module 'gast' has no attribute 'Index'\n",
            "WARNING:tensorflow:Entity <bound method BasicLSTMCell.call of <tensorflow.python.ops.rnn_cell_impl.BasicLSTMCell object at 0x7fbfcd6350d0>> could not be transformed and will be executed as-is. Please report this to the AutgoGraph team. When filing the bug, set the verbosity to 10 (on Linux, `export AUTOGRAPH_VERBOSITY=10`) and attach the full output. Cause: converting <bound method BasicLSTMCell.call of <tensorflow.python.ops.rnn_cell_impl.BasicLSTMCell object at 0x7fbfcd6350d0>>: AssertionError: Bad argument number for Name: 3, expecting 4\n",
            "WARNING: Entity <bound method BasicLSTMCell.call of <tensorflow.python.ops.rnn_cell_impl.BasicLSTMCell object at 0x7fbfcd6350d0>> could not be transformed and will be executed as-is. Please report this to the AutgoGraph team. When filing the bug, set the verbosity to 10 (on Linux, `export AUTOGRAPH_VERBOSITY=10`) and attach the full output. Cause: converting <bound method BasicLSTMCell.call of <tensorflow.python.ops.rnn_cell_impl.BasicLSTMCell object at 0x7fbfcd6350d0>>: AssertionError: Bad argument number for Name: 3, expecting 4\n",
            "WARNING:tensorflow:Entity <bound method BasicLSTMCell.call of <tensorflow.python.ops.rnn_cell_impl.BasicLSTMCell object at 0x7fbfcf897810>> could not be transformed and will be executed as-is. Please report this to the AutgoGraph team. When filing the bug, set the verbosity to 10 (on Linux, `export AUTOGRAPH_VERBOSITY=10`) and attach the full output. Cause: converting <bound method BasicLSTMCell.call of <tensorflow.python.ops.rnn_cell_impl.BasicLSTMCell object at 0x7fbfcf897810>>: AssertionError: Bad argument number for Name: 3, expecting 4\n",
            "WARNING: Entity <bound method BasicLSTMCell.call of <tensorflow.python.ops.rnn_cell_impl.BasicLSTMCell object at 0x7fbfcf897810>> could not be transformed and will be executed as-is. Please report this to the AutgoGraph team. When filing the bug, set the verbosity to 10 (on Linux, `export AUTOGRAPH_VERBOSITY=10`) and attach the full output. Cause: converting <bound method BasicLSTMCell.call of <tensorflow.python.ops.rnn_cell_impl.BasicLSTMCell object at 0x7fbfcf897810>>: AssertionError: Bad argument number for Name: 3, expecting 4\n",
            "WARNING:tensorflow:Entity <bound method Dense.call of <tensorflow.python.layers.core.Dense object at 0x7fbfcf8bea50>> could not be transformed and will be executed as-is. Please report this to the AutgoGraph team. When filing the bug, set the verbosity to 10 (on Linux, `export AUTOGRAPH_VERBOSITY=10`) and attach the full output. Cause: converting <bound method Dense.call of <tensorflow.python.layers.core.Dense object at 0x7fbfcf8bea50>>: AttributeError: module 'gast' has no attribute 'Index'\n",
            "WARNING: Entity <bound method Dense.call of <tensorflow.python.layers.core.Dense object at 0x7fbfcf8bea50>> could not be transformed and will be executed as-is. Please report this to the AutgoGraph team. When filing the bug, set the verbosity to 10 (on Linux, `export AUTOGRAPH_VERBOSITY=10`) and attach the full output. Cause: converting <bound method Dense.call of <tensorflow.python.layers.core.Dense object at 0x7fbfcf8bea50>>: AttributeError: module 'gast' has no attribute 'Index'\n"
          ]
        },
        {
          "output_type": "error",
          "ename": "TypeError",
          "evalue": "ignored",
          "traceback": [
            "\u001b[0;31m---------------------------------------------------------------------------\u001b[0m",
            "\u001b[0;31mValueError\u001b[0m                                Traceback (most recent call last)",
            "\u001b[0;32m/usr/local/lib/python3.7/dist-packages/tensorflow/python/framework/op_def_library.py\u001b[0m in \u001b[0;36m_apply_op_helper\u001b[0;34m(self, op_type_name, name, **keywords)\u001b[0m\n\u001b[1;32m    526\u001b[0m                 \u001b[0mas_ref\u001b[0m\u001b[0;34m=\u001b[0m\u001b[0minput_arg\u001b[0m\u001b[0;34m.\u001b[0m\u001b[0mis_ref\u001b[0m\u001b[0;34m,\u001b[0m\u001b[0;34m\u001b[0m\u001b[0;34m\u001b[0m\u001b[0m\n\u001b[0;32m--> 527\u001b[0;31m                 preferred_dtype=default_dtype)\n\u001b[0m\u001b[1;32m    528\u001b[0m           \u001b[0;32mexcept\u001b[0m \u001b[0mTypeError\u001b[0m \u001b[0;32mas\u001b[0m \u001b[0merr\u001b[0m\u001b[0;34m:\u001b[0m\u001b[0;34m\u001b[0m\u001b[0;34m\u001b[0m\u001b[0m\n",
            "\u001b[0;32m/usr/local/lib/python3.7/dist-packages/tensorflow/python/framework/ops.py\u001b[0m in \u001b[0;36minternal_convert_to_tensor\u001b[0;34m(value, dtype, name, as_ref, preferred_dtype, ctx, accept_symbolic_tensors, accept_composite_tensors)\u001b[0m\n\u001b[1;32m   1223\u001b[0m     \u001b[0;32mif\u001b[0m \u001b[0mret\u001b[0m \u001b[0;32mis\u001b[0m \u001b[0;32mNone\u001b[0m\u001b[0;34m:\u001b[0m\u001b[0;34m\u001b[0m\u001b[0;34m\u001b[0m\u001b[0m\n\u001b[0;32m-> 1224\u001b[0;31m       \u001b[0mret\u001b[0m \u001b[0;34m=\u001b[0m \u001b[0mconversion_func\u001b[0m\u001b[0;34m(\u001b[0m\u001b[0mvalue\u001b[0m\u001b[0;34m,\u001b[0m \u001b[0mdtype\u001b[0m\u001b[0;34m=\u001b[0m\u001b[0mdtype\u001b[0m\u001b[0;34m,\u001b[0m \u001b[0mname\u001b[0m\u001b[0;34m=\u001b[0m\u001b[0mname\u001b[0m\u001b[0;34m,\u001b[0m \u001b[0mas_ref\u001b[0m\u001b[0;34m=\u001b[0m\u001b[0mas_ref\u001b[0m\u001b[0;34m)\u001b[0m\u001b[0;34m\u001b[0m\u001b[0;34m\u001b[0m\u001b[0m\n\u001b[0m\u001b[1;32m   1225\u001b[0m \u001b[0;34m\u001b[0m\u001b[0m\n",
            "\u001b[0;32m/usr/local/lib/python3.7/dist-packages/tensorflow/python/framework/ops.py\u001b[0m in \u001b[0;36m_TensorTensorConversionFunction\u001b[0;34m(t, dtype, name, as_ref)\u001b[0m\n\u001b[1;32m   1017\u001b[0m         \u001b[0;34m\"Tensor conversion requested dtype %s for Tensor with dtype %s: %r\"\u001b[0m \u001b[0;34m%\u001b[0m\u001b[0;34m\u001b[0m\u001b[0;34m\u001b[0m\u001b[0m\n\u001b[0;32m-> 1018\u001b[0;31m         (dtype.name, t.dtype.name, str(t)))\n\u001b[0m\u001b[1;32m   1019\u001b[0m   \u001b[0;32mreturn\u001b[0m \u001b[0mt\u001b[0m\u001b[0;34m\u001b[0m\u001b[0;34m\u001b[0m\u001b[0m\n",
            "\u001b[0;31mValueError\u001b[0m: Tensor conversion requested dtype int32 for Tensor with dtype float32: 'Tensor(\"target/values:0\", shape=(?,), dtype=float32)'",
            "\nDuring handling of the above exception, another exception occurred:\n",
            "\u001b[0;31mTypeError\u001b[0m                                 Traceback (most recent call last)",
            "\u001b[0;32m<ipython-input-41-6c373b49b4f3>\u001b[0m in \u001b[0;36m<module>\u001b[0;34m()\u001b[0m\n\u001b[1;32m     16\u001b[0m \u001b[0;34m\u001b[0m\u001b[0m\n\u001b[1;32m     17\u001b[0m \u001b[0;31m# Model\u001b[0m\u001b[0;34m\u001b[0m\u001b[0;34m\u001b[0m\u001b[0;34m\u001b[0m\u001b[0m\n\u001b[0;32m---> 18\u001b[0;31m \u001b[0minputs\u001b[0m\u001b[0;34m,\u001b[0m \u001b[0mseq_len\u001b[0m\u001b[0;34m,\u001b[0m \u001b[0mtargets\u001b[0m\u001b[0;34m,\u001b[0m \u001b[0mdecoded\u001b[0m\u001b[0;34m,\u001b[0m \u001b[0mloss\u001b[0m\u001b[0;34m,\u001b[0m \u001b[0mrnn_keep_prob\u001b[0m \u001b[0;34m=\u001b[0m \u001b[0mctc_crnn\u001b[0m\u001b[0;34m(\u001b[0m\u001b[0;34m)\u001b[0m\u001b[0;34m\u001b[0m\u001b[0;34m\u001b[0m\u001b[0m\n\u001b[0m\u001b[1;32m     19\u001b[0m \u001b[0mtrain_opt\u001b[0m \u001b[0;34m=\u001b[0m \u001b[0mtf\u001b[0m\u001b[0;34m.\u001b[0m\u001b[0mtrain\u001b[0m\u001b[0;34m.\u001b[0m\u001b[0mAdamOptimizer\u001b[0m\u001b[0;34m(\u001b[0m\u001b[0;34m)\u001b[0m\u001b[0;34m.\u001b[0m\u001b[0mminimize\u001b[0m\u001b[0;34m(\u001b[0m\u001b[0mloss\u001b[0m\u001b[0;34m)\u001b[0m\u001b[0;34m\u001b[0m\u001b[0;34m\u001b[0m\u001b[0m\n\u001b[1;32m     20\u001b[0m \u001b[0;34m\u001b[0m\u001b[0m\n",
            "\u001b[0;32m<ipython-input-40-a41bdc2e4519>\u001b[0m in \u001b[0;36mctc_crnn\u001b[0;34m()\u001b[0m\n\u001b[1;32m    103\u001b[0m   \u001b[0mseq_len\u001b[0m \u001b[0;34m=\u001b[0m \u001b[0mtf\u001b[0m\u001b[0;34m.\u001b[0m\u001b[0mplaceholder\u001b[0m\u001b[0;34m(\u001b[0m\u001b[0mtf\u001b[0m\u001b[0;34m.\u001b[0m\u001b[0mint32\u001b[0m\u001b[0;34m,\u001b[0m \u001b[0;34m[\u001b[0m\u001b[0;32mNone\u001b[0m\u001b[0;34m]\u001b[0m\u001b[0;34m,\u001b[0m \u001b[0mname\u001b[0m\u001b[0;34m=\u001b[0m\u001b[0;34m'seq_lengths'\u001b[0m\u001b[0;34m)\u001b[0m\u001b[0;34m\u001b[0m\u001b[0;34m\u001b[0m\u001b[0m\n\u001b[1;32m    104\u001b[0m   \u001b[0mtargets\u001b[0m \u001b[0;34m=\u001b[0m \u001b[0mtf\u001b[0m\u001b[0;34m.\u001b[0m\u001b[0msparse_placeholder\u001b[0m\u001b[0;34m(\u001b[0m\u001b[0mdtype\u001b[0m\u001b[0;34m=\u001b[0m\u001b[0mtf\u001b[0m\u001b[0;34m.\u001b[0m\u001b[0mfloat32\u001b[0m\u001b[0;34m,\u001b[0m \u001b[0mname\u001b[0m\u001b[0;34m=\u001b[0m\u001b[0;34m'target'\u001b[0m\u001b[0;34m)\u001b[0m\u001b[0;34m\u001b[0m\u001b[0;34m\u001b[0m\u001b[0m\n\u001b[0;32m--> 105\u001b[0;31m   \u001b[0mctc_loss\u001b[0m \u001b[0;34m=\u001b[0m \u001b[0mtf\u001b[0m\u001b[0;34m.\u001b[0m\u001b[0mnn\u001b[0m\u001b[0;34m.\u001b[0m\u001b[0mctc_loss\u001b[0m\u001b[0;34m(\u001b[0m\u001b[0mlabels\u001b[0m\u001b[0;34m=\u001b[0m\u001b[0mtargets\u001b[0m\u001b[0;34m,\u001b[0m \u001b[0minputs\u001b[0m\u001b[0;34m=\u001b[0m\u001b[0mlogits\u001b[0m\u001b[0;34m,\u001b[0m \u001b[0msequence_length\u001b[0m\u001b[0;34m=\u001b[0m\u001b[0mseq_len\u001b[0m\u001b[0;34m,\u001b[0m \u001b[0mtime_major\u001b[0m\u001b[0;34m=\u001b[0m\u001b[0;32mTrue\u001b[0m\u001b[0;34m)\u001b[0m\u001b[0;34m\u001b[0m\u001b[0;34m\u001b[0m\u001b[0m\n\u001b[0m\u001b[1;32m    106\u001b[0m   \u001b[0mloss\u001b[0m \u001b[0;34m=\u001b[0m \u001b[0mtf\u001b[0m\u001b[0;34m.\u001b[0m\u001b[0mreduce_mean\u001b[0m\u001b[0;34m(\u001b[0m\u001b[0mctc_loss\u001b[0m\u001b[0;34m)\u001b[0m\u001b[0;34m\u001b[0m\u001b[0;34m\u001b[0m\u001b[0m\n\u001b[1;32m    107\u001b[0m \u001b[0;34m\u001b[0m\u001b[0m\n",
            "\u001b[0;32m/usr/local/lib/python3.7/dist-packages/tensorflow/python/ops/ctc_ops.py\u001b[0m in \u001b[0;36mctc_loss\u001b[0;34m(labels, inputs, sequence_length, preprocess_collapse_repeated, ctc_merge_repeated, ignore_longer_outputs_than_inputs, time_major, logits)\u001b[0m\n\u001b[1;32m    174\u001b[0m       \u001b[0mpreprocess_collapse_repeated\u001b[0m\u001b[0;34m=\u001b[0m\u001b[0mpreprocess_collapse_repeated\u001b[0m\u001b[0;34m,\u001b[0m\u001b[0;34m\u001b[0m\u001b[0;34m\u001b[0m\u001b[0m\n\u001b[1;32m    175\u001b[0m       \u001b[0mctc_merge_repeated\u001b[0m\u001b[0;34m=\u001b[0m\u001b[0mctc_merge_repeated\u001b[0m\u001b[0;34m,\u001b[0m\u001b[0;34m\u001b[0m\u001b[0;34m\u001b[0m\u001b[0m\n\u001b[0;32m--> 176\u001b[0;31m       ignore_longer_outputs_than_inputs=ignore_longer_outputs_than_inputs)\n\u001b[0m\u001b[1;32m    177\u001b[0m \u001b[0;34m\u001b[0m\u001b[0m\n\u001b[1;32m    178\u001b[0m   \u001b[0;32mreturn\u001b[0m \u001b[0mloss\u001b[0m\u001b[0;34m\u001b[0m\u001b[0;34m\u001b[0m\u001b[0m\n",
            "\u001b[0;32m/usr/local/lib/python3.7/dist-packages/tensorflow/python/ops/gen_ctc_ops.py\u001b[0m in \u001b[0;36mctc_loss\u001b[0;34m(inputs, labels_indices, labels_values, sequence_length, preprocess_collapse_repeated, ctc_merge_repeated, ignore_longer_outputs_than_inputs, name)\u001b[0m\n\u001b[1;32m    333\u001b[0m                    \u001b[0mctc_merge_repeated\u001b[0m\u001b[0;34m=\u001b[0m\u001b[0mctc_merge_repeated\u001b[0m\u001b[0;34m,\u001b[0m\u001b[0;34m\u001b[0m\u001b[0;34m\u001b[0m\u001b[0m\n\u001b[1;32m    334\u001b[0m                    \u001b[0mignore_longer_outputs_than_inputs\u001b[0m\u001b[0;34m=\u001b[0m\u001b[0mignore_longer_outputs_than_inputs\u001b[0m\u001b[0;34m,\u001b[0m\u001b[0;34m\u001b[0m\u001b[0;34m\u001b[0m\u001b[0m\n\u001b[0;32m--> 335\u001b[0;31m                    name=name)\n\u001b[0m\u001b[1;32m    336\u001b[0m   \u001b[0m_result\u001b[0m \u001b[0;34m=\u001b[0m \u001b[0m_op\u001b[0m\u001b[0;34m.\u001b[0m\u001b[0moutputs\u001b[0m\u001b[0;34m[\u001b[0m\u001b[0;34m:\u001b[0m\u001b[0;34m]\u001b[0m\u001b[0;34m\u001b[0m\u001b[0;34m\u001b[0m\u001b[0m\n\u001b[1;32m    337\u001b[0m   \u001b[0m_inputs_flat\u001b[0m \u001b[0;34m=\u001b[0m \u001b[0m_op\u001b[0m\u001b[0;34m.\u001b[0m\u001b[0minputs\u001b[0m\u001b[0;34m\u001b[0m\u001b[0;34m\u001b[0m\u001b[0m\n",
            "\u001b[0;32m/usr/local/lib/python3.7/dist-packages/tensorflow/python/framework/op_def_library.py\u001b[0m in \u001b[0;36m_apply_op_helper\u001b[0;34m(self, op_type_name, name, **keywords)\u001b[0m\n\u001b[1;32m    548\u001b[0m             \u001b[0;32mif\u001b[0m \u001b[0minput_arg\u001b[0m\u001b[0;34m.\u001b[0m\u001b[0mtype\u001b[0m \u001b[0;34m!=\u001b[0m \u001b[0mtypes_pb2\u001b[0m\u001b[0;34m.\u001b[0m\u001b[0mDT_INVALID\u001b[0m\u001b[0;34m:\u001b[0m\u001b[0;34m\u001b[0m\u001b[0;34m\u001b[0m\u001b[0m\n\u001b[1;32m    549\u001b[0m               raise TypeError(\"%s expected type of %s.\" %\n\u001b[0;32m--> 550\u001b[0;31m                               (prefix, dtypes.as_dtype(input_arg.type).name))\n\u001b[0m\u001b[1;32m    551\u001b[0m             \u001b[0;32melse\u001b[0m\u001b[0;34m:\u001b[0m\u001b[0;34m\u001b[0m\u001b[0;34m\u001b[0m\u001b[0m\n\u001b[1;32m    552\u001b[0m               \u001b[0;31m# Update the maps with the default, if needed.\u001b[0m\u001b[0;34m\u001b[0m\u001b[0;34m\u001b[0m\u001b[0;34m\u001b[0m\u001b[0m\n",
            "\u001b[0;31mTypeError\u001b[0m: Input 'labels_values' of 'CTCLoss' Op has type float32 that does not match expected type of int32."
          ]
        }
      ]
    },
    {
      "cell_type": "code",
      "source": [
        "# DATA\n",
        "\n",
        "class AWE:\n",
        "  def __init__(self, main_dir, gt_path):\n",
        "    self.main_dir = main_dir\n",
        "    self.gt_path = gt_path\n",
        "    self.current_idx = 0\n",
        "    self.validation_dict = None\n",
        "\n",
        "    self.train_list = self.load_data(self.main_dir, self.gt_path , 'train')\n",
        "    self.val_list = self.load_data(self.main_dir, self.gt_path , 'test')\n",
        "\n",
        "\n",
        "  def load_data(self, main_dir, path, d_type):\n",
        "    file = open(main_dir + path + '/' + d_type + '.txt', 'r')\n",
        "    m_data = []\n",
        "    line = file.readline()\n",
        "    while line:\n",
        "      data = line.split(' ')\n",
        "      img_path = data[0].split('/')[1]\n",
        "\n",
        "      image_fullpath = main_dir + '/' + d_type + '/' + img_path\n",
        "\n",
        "      xmin = round(int(data[1]) / params['img_width'], 2)\n",
        "      ymin = round(int(data[2]) / params['img_height'], 2)\n",
        "      xmax = round((int(data[3]) + xmin) / params['img_width'], 2)\n",
        "      ymax = round((int(data[4]) + ymin) / params['img_height'], 2)\n",
        "\n",
        "      m_data.append([image_fullpath, xmin, ymin, xmax, ymax])\n",
        "\n",
        "      line = file.readline()\n",
        "    file.close()\n",
        "\n",
        "    m_data = np.array(m_data)\n",
        "    images, index, counts = np.unique(m_data[:, 0], return_counts=True, return_index=True)\n",
        "    X = np.array(images)\n",
        "    Y = []\n",
        "    for i in range(len(X)):    \n",
        "      labels = []\n",
        "      for j in range(counts[i]):\n",
        "        labels.append([m_data[index[i]+j, 1], m_data[index[i]+j, 2], m_data[index[i]+j, 3], m_data[index[i]+j, 4]])\n",
        "      Y.append(labels)\n",
        "\n",
        "    Y = np.array(Y)\n",
        "    return np.column_stack((X, Y))\n",
        "\n",
        "  def nextBatch(self, size):\n",
        "      images = []\n",
        "      labels = []\n",
        "\n",
        "      # Read files\n",
        "      for _ in range(size):\n",
        "        sample = self.train_list[self.current_idx]\n",
        "        img, label = sample[0], sample[1]\n",
        "        print(img, label)\n",
        "\n",
        "\n",
        "        # IMAGE\n",
        "        sample_img = cv2.imread(img, cv2.IMREAD_GRAYSCALE)\n",
        "        if sample_img is None:\n",
        "            continue\n",
        "\n",
        "        images.append(normalize(sample_img))\n",
        "\n",
        "        # GROUND TRUTH        \n",
        "        labels.append(sample[1])\n",
        "\n",
        "        self.current_idx = (self.current_idx + 1) % len( self.train_list )\n",
        "\n",
        "\n",
        "      # Transform to batch\n",
        "      batch_images = np.zeros(shape=[size, params['img_height'], params['img_width'], 1], dtype=np.float32)\n",
        "\n",
        "      for i, img in enumerate(images):\n",
        "          batch_images[i, 0:img.shape[0], 0:img.shape[1], 0] = img\n",
        "\n",
        "      # LENGTH\n",
        "      width_reduction = 1\n",
        "      for i in range(params['conv_blocks']):\n",
        "        width_reduction = width_reduction * params['conv_pooling_size'][i][1]\n",
        "\n",
        "      lengths = [ batch_images.shape[2] / width_reduction ] * batch_images.shape[0]\n",
        "\n",
        "      return {\n",
        "          'inputs': batch_images,\n",
        "          'seq_lengths': np.asarray(lengths),\n",
        "          'targets': labels,\n",
        "      }\n",
        "      \n",
        "  def getValidation(self):\n",
        "      if self.validation_dict == None:                \n",
        "          images = []\n",
        "          labels = []\n",
        "\n",
        "          # Read files\n",
        "          for sample in self.val_list:\n",
        "            sample_img_path = sample[0].split('/')[1]\n",
        "            sample_fullpath = self.main_dir + '/test/' + sample_img_path\n",
        "\n",
        "            # IMAGE\n",
        "            sample_img = cv2.imread(sample_fullpath, cv2.IMREAD_GRAYSCALE)\n",
        "            if sample_img is None:\n",
        "                continue\n",
        "\n",
        "            images.append(normalize(sample_img))\n",
        "\n",
        "            # GROUND TRUTH          \n",
        "            labels.append(sample[1])\n",
        "\n",
        "          # Transform to batch\n",
        "          batch_images = np.zeros(shape=[len(self.val_list),\n",
        "                                          params['img_height'],\n",
        "                                          params['img_width'],\n",
        "                                          params['img_channels']], dtype=np.float32)\n",
        "\n",
        "          for i, img in enumerate(images):\n",
        "              batch_images[i, 0:img.shape[0], 0:img.shape[1], 0] = img\n",
        "\n",
        "          # LENGTH\n",
        "          width_reduction = 1\n",
        "          for i in range(params['conv_blocks']):\n",
        "              width_reduction = width_reduction * params['conv_pooling_size'][i][1]\n",
        "\n",
        "          lengths = [ batch_images.shape[2] / width_reduction ] * batch_images.shape[0]\n",
        "\n",
        "          self.validation_dict = {\n",
        "              'inputs': batch_images,\n",
        "              'seq_lengths': np.asarray(lengths),\n",
        "              'targets': labels,\n",
        "          }\n",
        "          \n",
        "      \n",
        "      return self.validation_dict, len(self.validation_list)"
      ],
      "metadata": {
        "id": "eLtIuZNpr7zl"
      },
      "execution_count": null,
      "outputs": []
    }
  ]
}